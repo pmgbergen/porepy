{
 "cells": [
  {
   "cell_type": "markdown",
   "metadata": {},
   "source": [
    "# Setting boundary conditions in PorePy\n",
    "Before reading this tutorial, we recommend reading [the single phase flow tutorial](./single_phase_flow.ipynb).\n",
    "\n",
    "In this tutorial we will visit how to set boundary conditions for different model problems in PorePy.\n",
    "\n",
    "We start by defining the geometry for the example models that we will show below:"
   ]
  },
  {
   "cell_type": "code",
   "execution_count": 38,
   "metadata": {},
   "outputs": [],
   "source": [
    "from porepy.applications.md_grids.domains import nd_cube_domain\n",
    "import numpy as np\n",
    "import porepy as pp\n",
    "\n",
    "\n",
    "class ModifiedGeometry:\n",
    "    def set_domain(self) -> None:\n",
    "        \"\"\"Defining a two-dimensional square domain with sidelength 2.\"\"\"\n",
    "        size = self.solid.convert_units(2, \"m\")\n",
    "        self._domain = nd_cube_domain(2, size)\n",
    "\n",
    "    def grid_type(self) -> str:\n",
    "        \"\"\"Choosing the grid type for our domain.\"\"\"\n",
    "        return self.params.get(\"grid_type\", \"cartesian\")\n",
    "\n",
    "    def meshing_arguments(self) -> dict:\n",
    "        \"\"\"Meshing arguments for md-grid creation.\"\"\"\n",
    "        cell_size = self.solid.convert_units(0.25, \"m\")\n",
    "        mesh_args: dict[str, float] = {\"cell_size\": cell_size}\n",
    "        return mesh_args"
   ]
  },
  {
   "cell_type": "markdown",
   "metadata": {},
   "source": [
    "# Basics\n",
    "PorePy provides several ways to tailor the boundary conditions for your problem.\n",
    "To set a boundary condition do the following:\n",
    "\n",
    "1) Specify the type of the boundary condition (Dirichlet or Neumann) in the method named `bc_type_<flux_name>`.\n",
    "\n",
    "2) Set the values of relevant physical quantities on the boundary in the method named `bc_values_<physical_quantity>`.\n",
    "\n",
    "All methods for setting boundary conditions follow the naming convention listed above. \n",
    "\n",
    "Some of the possible physical quantities will be listed below in this tutorial. All the possible methods can be found in the source code of the `BoundaryConditionMixin` of the corresponding model, for example:"
   ]
  },
  {
   "cell_type": "code",
   "execution_count": 39,
   "metadata": {},
   "outputs": [
    {
     "name": "stdout",
     "output_type": "stream",
     "text": [
      "bc_type_darcy_flux\n",
      "bc_type_fluid_flux\n",
      "bc_values_darcy_flux\n",
      "bc_values_fluid_flux\n",
      "bc_values_pressure\n"
     ]
    }
   ],
   "source": [
    "for x in dir(pp.models.fluid_mass_balance.BoundaryConditionsSinglePhaseFlow):\n",
    "    if x.startswith(\"bc_values\") or x.startswith(\"bc_type\"):\n",
    "        print(x)"
   ]
  },
  {
   "cell_type": "markdown",
   "metadata": {},
   "source": [
    "Let us consider the basic example of setting these boundary conditions for the single-phase flow model:\n",
    "\n",
    "* West boundary: constant Neumann in-flux in the middle of the side, no flux elsewhere.\n",
    "* East boundary: constant non-zero Dirichlet pressure.\n",
    "* South and north boundaries: no flux.\n",
    "\n",
    "The type of a boundary condition is set with the `pp.BoundaryCondition` class. By default, it sets all the boundary faces to Neumann. To set Dirichlet conditions, the relevant boundary sides should be provided to `pp.BoundaryCondition`. \n",
    "The domain sides are accessed with the `domain_boundary_sides` method."
   ]
  },
  {
   "cell_type": "code",
   "execution_count": 40,
   "metadata": {},
   "outputs": [
    {
     "data": {
      "image/png": "[encoded data removed]",
      "text/plain": [
       "<Figure size 640x480 with 2 Axes>"
      ]
     },
     "metadata": {},
     "output_type": "display_data"
    }
   ],
   "source": [
    "from porepy.models.fluid_mass_balance import SinglePhaseFlow\n",
    "\n",
    "\n",
    "class SinglePhaseFlowExample1(ModifiedGeometry, SinglePhaseFlow):\n",
    "    def bc_type_fluid_flux(self, sd: pp.Grid) -> pp.BoundaryCondition:\n",
    "        \"\"\"Setting the Dirichlet type on the east boundary, Neumann elsewhere.\"\"\"\n",
    "        domain_sides = self.domain_boundary_sides(sd)\n",
    "        return pp.BoundaryCondition(sd, faces=domain_sides.east, cond=\"dir\")\n",
    "\n",
    "    def bc_values_fluid_flux(self, boundary_grid: pp.BoundaryGrid) -> np.ndarray:\n",
    "        \"\"\"Setting the values of the fluid mass flux.\"\"\"\n",
    "        mass_flux_vals = np.zeros(boundary_grid.num_cells)\n",
    "\n",
    "        domain_sides = self.domain_boundary_sides(boundary_grid)\n",
    "        influx_cells = np.zeros(boundary_grid.num_cells, dtype=bool)\n",
    "        influx_cells[domain_sides.west] = True\n",
    "        # Setting the values on the west boundary where 0.5 < y < 1.5\n",
    "        # \"&\" operator is the elementwise boolean AND\n",
    "        influx_cells &= boundary_grid.cell_centers[1] > 0.5\n",
    "        influx_cells &= boundary_grid.cell_centers[1] < 1.5\n",
    "\n",
    "        mass_flux_vals[influx_cells] = self.fluid.convert_units(-1, \"kg*s^-1\")\n",
    "        return mass_flux_vals\n",
    "\n",
    "    def bc_values_pressure(self, boundary_grid: pp.BoundaryGrid) -> np.ndarray:\n",
    "        pressure_vals = np.zeros(boundary_grid.num_cells)\n",
    "        domain_sides = self.domain_boundary_sides(boundary_grid)\n",
    "        pressure_vals[domain_sides.east] = self.fluid.convert_units(5, \"Pa\")\n",
    "        return pressure_vals\n",
    "\n",
    "\n",
    "single_phase_flow = SinglePhaseFlowExample1(params={})\n",
    "pp.run_time_dependent_model(single_phase_flow, params={})\n",
    "pp.plot_grid(single_phase_flow.mdg, single_phase_flow.pressure_variable, plot_2d=True)"
   ]
  },
  {
   "cell_type": "markdown",
   "metadata": {},
   "source": [
    "The Dirichlet pressure values of 5 Pa on the east boundary affect the pressure in the whole system, and we observe a pressure drop from the west to the east which corresponds to the flux from the west boundary."
   ]
  },
  {
   "cell_type": "markdown",
   "metadata": {},
   "source": [
    "# Single-phase fluid\n",
    "We revisit here all the methods to set boundary conditions for the single phase fluid model.\n",
    "\n",
    "Consider the mass balance equation with zero source term:\n",
    "$\\phi \\dfrac{\\partial \\rho}{\\partial t} + \\nabla \\cdot F = 0$, where $\\phi \\frac{\\partial \\rho}{\\partial t}$ is the accumulation term, and $F$ is the fluid mass flux that flows in a cell.\n",
    "\n",
    "There are three ways of how to set boundary conditions for this model. The flowchart below outlines the order of evaluation of the boundary conditions operators. Use it and refer to the specific case below:\n",
    "\n",
    "<img src='img/single_phase_flow_bc.jpg' width=600>\n",
    "\n",
    "## 1. Setting the fluid mass flux\n",
    "We can directly set the values of $F$ on a boundary by:\n",
    "* marking the boundary faces as `neu` in the `bc_type_fluid_flux` method\n",
    "* providing the values of $F$ in `bc_values_fluid_flux`\n",
    "\n",
    "Note that we provide only the normal component of $F$. If cells are marked as `dir` in `bc_type_fluid_flux`, the values of $F$ are computed based on the other types of boundary conditions.\n",
    "\n",
    "We used this type of boundary condition on all but the east boundary in the example above.\n",
    "\n",
    "Pro tip: the no-flux boundary condition can be applied by setting the zero values here.\n",
    "\n",
    "## 2. Setting the Darcy flux\n",
    "The expression for $F$ is the following: $F = -\\dfrac{\\rho}{\\mu}K \\nabla p$, where $\\dfrac{\\rho}{\\mu}$ is the advected quantity and $-K \\nabla p$ is the Darcy flux.\n",
    "\n",
    "In realistic setups, the values of $\\rho$ and $\\mu$ can depend on primary variables. For example, $\\rho = \\rho(p, T)$ and $\\mu = \\mu(T)$ in case of the non-isothermal fluid. \n",
    "It may be convenient to set the boundary condition in terms of the Darcy flux. \n",
    "The boundary values for the advected quantity will be computed automatically using the same constitutive laws as in the interior. \n",
    "This helps prevent inconsistencies between expressions used to calculate these quantities on the boundary versus within the domain, which can cause notorious bugs. \n",
    "The Darcy flux boundary condition is applied by:\n",
    "* ensuring that we do not use the boundary values for $F$ by checking that `bc_type_fluid_flux == dir` for our boundary faces\n",
    "* setting the boundary faces as `neu` in `bc_type_darcy_flux`\n",
    "* setting the values of primary variables that are used to evaluate $\\rho$ and $\\mu$ on the boundary in `bc_values_pressure` and the other methods corresponding to each variable in use\n",
    "* setting the values for the Darcy flux in `bc_values_darcy_flux`\n",
    "\n",
    "We will set this boundary condition at the west side of the domain in the example below.\n",
    "\n",
    "## 3. Setting pressure Dirichlet values\n",
    "Finally, the Darcy flux can be evaluated by the provided pressure values. This is done by:\n",
    "* ensuring that we do not use the boundary values for $F$ by checking that `bc_type_fluid_flux == dir` for our boundary faces\n",
    "* setting the boundary faces as `dir` in `bc_type_darcy_flux`\n",
    "* setting pressure values on the boundary in `bc_values_pressure`\n",
    "\n",
    "We used this type of boundary condition on the east boundary in the example above.\n",
    "\n"
   ]
  },
  {
   "cell_type": "markdown",
   "metadata": {},
   "source": [
    "Now, we will run the model with a Darcy flux boundary condition. The setup will use the same values for the boundary conditions as in the example above. To demonstrate the advantage of the Darcy flux boundary condition, we will increase the fluid viscosity $\\mu$ by 10 times and see what will happen: "
   ]
  },
  {
   "cell_type": "code",
   "execution_count": 41,
   "metadata": {},
   "outputs": [
    {
     "data": {
      "image/png": "[encoded data removed]",
      "text/plain": [
       "<Figure size 640x480 with 2 Axes>"
      ]
     },
     "metadata": {},
     "output_type": "display_data"
    }
   ],
   "source": [
    "import numpy as np\n",
    "import porepy as pp\n",
    "from porepy.models.fluid_mass_balance import SinglePhaseFlow\n",
    "\n",
    "\n",
    "class SinglePhaseFlowExample2(ModifiedGeometry, SinglePhaseFlow):\n",
    "    # Note that now this is bc_type_darcy_flux, not the bc_type_fluid_flux.\n",
    "    def bc_type_darcy_flux(self, sd: pp.Grid) -> pp.BoundaryCondition:\n",
    "        \"\"\"Everything is the same as in the previous example.\"\"\"\n",
    "        domain_sides = self.domain_boundary_sides(sd)\n",
    "        return pp.BoundaryCondition(sd, faces=domain_sides.east, cond=\"dir\")\n",
    "\n",
    "    # Note that now this is bc_values_darcy_flux, not the bc_values_fluid_flux.\n",
    "    def bc_values_darcy_flux(self, boundary_grid: pp.BoundaryGrid) -> np.ndarray:\n",
    "        \"\"\"Setting the Darcy flux values on the west boundary.\"\"\"\n",
    "        darcy_flux_vals = np.zeros(boundary_grid.num_cells)\n",
    "\n",
    "        # Same as in the previous example\n",
    "        domain_sides = self.domain_boundary_sides(boundary_grid)\n",
    "        influx_cells = np.zeros(boundary_grid.num_cells, dtype=bool)\n",
    "        influx_cells[domain_sides.west] = True\n",
    "        influx_cells &= boundary_grid.cell_centers[1] > 0.5\n",
    "        influx_cells &= boundary_grid.cell_centers[1] < 1.5\n",
    "\n",
    "        # The value is the same\n",
    "        darcy_flux_vals[influx_cells] = self.fluid.convert_units(-1, \"Pa*m^-1\")\n",
    "        return darcy_flux_vals\n",
    "\n",
    "    # This method did not change.\n",
    "    def bc_values_pressure(self, boundary_grid: pp.BoundaryGrid) -> np.ndarray:\n",
    "        \"\"\"Everything is the same as in the previous example.\"\"\"\n",
    "        pressure_vals = np.zeros(boundary_grid.num_cells)\n",
    "        domain_sides = self.domain_boundary_sides(boundary_grid)\n",
    "        pressure_vals[domain_sides.east] = self.fluid.convert_units(5, \"Pa\")\n",
    "        return pressure_vals\n",
    "\n",
    "# We modify the fluid viscosity.\n",
    "fluid_constants = pp.FluidConstants(\n",
    "    {\n",
    "        \"viscosity\": 10,  # 10 times larger than in the previous example.\n",
    "    }\n",
    ")\n",
    "single_phase_flow = SinglePhaseFlowExample2(\n",
    "    params={\"material_constants\": {\"fluid\": fluid_constants}}\n",
    ")\n",
    "pp.run_time_dependent_model(single_phase_flow, params={})\n",
    "pp.plot_grid(single_phase_flow.mdg, single_phase_flow.pressure_variable, plot_2d=True)"
   ]
  },
  {
   "cell_type": "markdown",
   "metadata": {},
   "source": [
    "The flux did not change, which is the expected behavior. The Darcy flux BC automatically applies the correct values of the convected quantity (it includes $\\mu$) to the boundary. However, if we used the `fluid_flux_bc_values` and changed $\\mu$, the flux would also change, as it knows nothing about the convected quantity! It could potentially lead to an error if we computed the flux manually based on the old value of $\\mu$, and then forgot to recompute it.\n",
    "\n",
    "Excercise: Apply the different $\\mu$ to the first example and see how the fluid flux changes."
   ]
  },
  {
   "cell_type": "markdown",
   "metadata": {},
   "source": [
    "# Momentum balance\n",
    "Similar to the previous problems, we need to define one method for the type of boundary condition we are interested in, and another one for assigning the values. \n",
    "The momentum balance model class has the following methods predefined for setting boundary condition types and values:\n",
    "* `bc_type_mechanics` for setting boundary condition type.\n",
    "* `bc_values_displacement` for Dirichlet values.\n",
    "* `bc_values_stress` for Neumann values.\n",
    "\n",
    "As opposed to with the previous examples, this is a vector problem. \n",
    "Therefore we have to assign vectorial boundary condition values. \n",
    "In addition to this we will demonstrate how to set time-dependent boundary condition values. \n",
    "This is shown below:\n"
   ]
  },
  {
   "cell_type": "code",
   "execution_count": 42,
   "metadata": {},
   "outputs": [],
   "source": [
    "import numpy as np\n",
    "import porepy as pp\n",
    "\n",
    "from porepy.models.momentum_balance import MomentumBalance\n",
    "\n",
    "\n",
    "class ModifiedBoundaryConditions:\n",
    "    def bc_type_mechanics(self, sd: pp.Grid) -> pp.BoundaryConditionVectorial:\n",
    "        \"\"\"Set boundary condition type for the problem.\"\"\"\n",
    "        bounds = self.domain_boundary_sides(sd)\n",
    "\n",
    "        # Set the type of west and east boundaries to Dirichlet. North and south are\n",
    "        # Neumann by default.\n",
    "        bc = pp.BoundaryConditionVectorial(sd, bounds.west + bounds.east, \"dir\")\n",
    "        return bc\n",
    "\n",
    "    def bc_values_stress(self, bg: pp.BoundaryGrid) -> np.ndarray:\n",
    "        \"\"\"Setting stress boundary condition values at north and south boundaries.\n",
    "\n",
    "        Specifically, we assign different values for the x- and y-component of the\n",
    "        boundary value vector.\n",
    "\n",
    "        \"\"\"\n",
    "        values = np.ones((self.nd, bg.num_cells))\n",
    "        bounds = self.domain_boundary_sides(bg)\n",
    "\n",
    "        # Assigning x-component values\n",
    "        values[0][bounds.north + bounds.south] *= self.solid.convert_units(4.5, \"Pa\")\n",
    "\n",
    "        # Assigning y-component values\n",
    "        values[1][bounds.north + bounds.south] *= self.solid.convert_units(0.5, \"Pa\")\n",
    "\n",
    "        return values.ravel(\"F\")\n",
    "\n",
    "    def bc_values_displacement(self, bg: pp.BoundaryGrid) -> np.ndarray:\n",
    "        \"\"\"Setting displacement boundary condition values.\n",
    "\n",
    "        This method returns an array of boundary condition values with the value 5t for\n",
    "        western boundaries and ones for the eastern boundary.\n",
    "\n",
    "        \"\"\"\n",
    "        # Fetch the time of the current time-step\n",
    "        t = self.time_manager.time\n",
    "\n",
    "        values = np.zeros((self.nd, bg.num_cells))\n",
    "        bounds = self.domain_boundary_sides(bg)\n",
    "\n",
    "        # Assign a time dependent value to the x-component of the western boundary\n",
    "        values[0][bounds.west] += self.solid.convert_units(5.0 * t, \"m\")\n",
    "        values[0][bounds.east] += self.solid.convert_units(1.0, \"m\")\n",
    "\n",
    "        # The convention for flattening nd-arrays of vector values in PorePy is by using\n",
    "        # the Fortran-style ordering (chosen by string \"F\" when giving a call to ravel).\n",
    "        # That is, the first index changes the fastest and the last index changes\n",
    "        # slowest.\n",
    "        return values.ravel(\"F\")\n",
    "\n",
    "\n",
    "class MomentumBalanceTimeDependentBC(\n",
    "    ModifiedGeometry, ModifiedBoundaryConditions, MomentumBalance\n",
    "):\n",
    "    ...\n",
    "\n",
    "\n",
    "# Set final time, amount of time-steps and the time-step size\n",
    "final_time = 10.0\n",
    "time_steps = 10.0\n",
    "dt = final_time / time_steps\n",
    "\n",
    "# Instantiate pp.TimeManager with the information provided above\n",
    "time_manager = pp.TimeManager(\n",
    "    schedule=[0.0, final_time],\n",
    "    dt_init=dt,\n",
    "    constant_dt=True,\n",
    ")\n",
    "\n",
    "# Include the time_manager to the params dictionary\n",
    "params = {\"time_manager\": time_manager}\n",
    "\n",
    "model = MomentumBalanceTimeDependentBC(params)\n",
    "pp.run_time_dependent_model(model=model, params=params)"
   ]
  },
  {
   "cell_type": "markdown",
   "metadata": {},
   "source": [
    "Visualization of the solution to this problem is demonstrated in the GIF below. \n",
    "We have used ParaView for the visualization and exaggerated the displacements for visualization purposes."
   ]
  },
  {
   "cell_type": "markdown",
   "metadata": {},
   "source": [
    "<img src='img/time_dependent_bc.gif'  width=600>"
   ]
  },
  {
   "cell_type": "markdown",
   "metadata": {},
   "source": [
    "# What we have explored\n",
    "We have seen how to set boundary conditions for both scalar and vector problems.\n",
    "The examples presented in this tutorial are the physical problems of single phase flow and the momentum balance equation."
   ]
  }
 ],
 "metadata": {
  "kernelspec": {
   "display_name": "porepy",
   "language": "python",
   "name": "python3"
  },
  "language_info": {
   "codemirror_mode": {
    "name": "ipython",
    "version": 3
   },
   "file_extension": ".py",
   "mimetype": "text/x-python",
   "name": "python",
   "nbconvert_exporter": "python",
   "pygments_lexer": "ipython3",
   "version": "3.10.6"
  }
 },
 "nbformat": 4,
 "nbformat_minor": 2
}
