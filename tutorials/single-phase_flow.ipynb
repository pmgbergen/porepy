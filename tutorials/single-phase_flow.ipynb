{
 "cells": [
  {
   "cell_type": "markdown",
   "metadata": {},
   "source": [
    "# Single-phase flow"
   ]
  },
  {
   "cell_type": "markdown",
   "metadata": {},
   "source": [
    "In this tutorial we investigate how to solve single-phase flow in PorePy. <br>\n",
    "We consider\n",
    "* two-point flux approximation\n",
    "* multi-point flux approximation\n",
    "* dual virtual element method\n",
    "\n",
    "**Note**: This tutorial will focus on a 2d domain, however most of the code works for 1d, 2d, and 3d domains. The case of a 2d domain with an immersed 1d fracture is treated below. <br>\n",
    "\n",
    "## Problem statement\n",
    "\n",
    "Let $\\Omega$ be a regular domain with boundary $\\partial \\Omega$. The boundary can be divided in two non-overlapping parts useful to impose Dirichlet ($\\partial \\Omega_d$) and Neumann ($\\partial \\Omega_n$) boundary conditions. We indicate with $\\mathbf{n}$ the outward unit normal vector of $\\partial \\Omega$.<br>\n",
    "The single-phase flow can be written in\n",
    "* dual formulation as:\n",
    "$$\\nabla \\cdot \\mathbf{u} = f \\qquad \\mathbf{u} = - K \\nabla p$$\n",
    "with boundary conditions on $\\partial \\Omega_d$ and $\\partial \\Omega_n$:\n",
    "$$ p = p_b \\qquad \\mathbf{u} \\cdot \\mathbf{n} = u_b$$\n",
    "* primal formulation as:\n",
    "$$ - \\nabla \\cdot K \\nabla p = f $$\n",
    "with boundary conditions on $\\partial \\Omega_d$ and $\\partial \\Omega_n$:\n",
    "$$ p = p_b \\qquad - K \\nabla p \\cdot \\mathbf{n} = u_b$$\n",
    "\n",
    "Where $f$ is a scalar source/sink term, $K$ is the permeability matrix, $p_b$ is the pressure at the boundary (Dirichlet condition), and $u_b$ is the flux at the boundary (Neumann condition).<br>\n",
    "\n",
    "We present *step-by-step* how to create the grid, declare the problem data, and finally solve the problem. <br><br>\n",
    "\n",
    "For the example we assume: $\\Omega$ as presented below, $\\partial \\Omega_d = \\partial \\Omega$, $\\partial \\Omega_n = \\emptyset$, with data: $f = 1$, $K = I$ and $p_b = 0$."
   ]
  },
  {
   "cell_type": "markdown",
   "metadata": {},
   "source": [
    "## Import basic modules"
   ]
  },
  {
   "cell_type": "markdown",
   "metadata": {},
   "source": [
    "Before creating the grid we import NumPy, the SciPy sparse library and PorePy."
   ]
  },
  {
   "cell_type": "code",
   "execution_count": null,
   "metadata": {},
   "outputs": [],
   "source": [
    "import numpy as np\n",
    "import scipy.sparse as sps\n",
    "import porepy as pp"
   ]
  },
  {
   "cell_type": "markdown",
   "metadata": {},
   "source": [
    "## Creation of the grid"
   ]
  },
  {
   "cell_type": "markdown",
   "metadata": {},
   "source": [
    "We specify number of cells in each dimension and the physical size of the domain. Then we create a Cartesian grid and compute geometric properties such as face centers, cell volumes etc."
   ]
  },
  {
   "cell_type": "code",
   "execution_count": null,
   "metadata": {},
   "outputs": [],
   "source": [
    "Nx = Ny = 20\n",
    "phys_dims = [1,1]\n",
    "g = pp.CartGrid([Nx, Ny], phys_dims)\n",
    "g.compute_geometry()"
   ]
  },
  {
   "cell_type": "markdown",
   "metadata": {},
   "source": [
    "We plot the grid using the interface with matplotlib."
   ]
  },
  {
   "cell_type": "code",
   "execution_count": null,
   "metadata": {},
   "outputs": [],
   "source": [
    "pp.plot_grid(g, figsize=(15, 12))"
   ]
  },
  {
   "cell_type": "markdown",
   "metadata": {},
   "source": [
    "# Define the problem data"
   ]
  },
  {
   "cell_type": "markdown",
   "metadata": {},
   "source": [
    "We declare the permeability matrix $K$, the scalar source term $f$, and the boundary conditions"
   ]
  },
  {
   "cell_type": "code",
   "execution_count": null,
   "metadata": {},
   "outputs": [],
   "source": [
    "# Permeability\n",
    "perm = pp.SecondOrderTensor(np.ones(g.num_cells))                     \n",
    "\n",
    "# Unitary scalar source already integrated in each cell\n",
    "f = g.cell_volumes\n",
    "\n",
    "# Boundary conditions\n",
    "b_faces = g.tags['domain_boundary_faces'].nonzero()[0]\n",
    "bc = pp.BoundaryCondition(g, b_faces, ['dir']*b_faces.size)\n",
    "bc_val = np.zeros(g.num_faces)\n",
    "\n",
    "# Collect all parameters in a dictionary\n",
    "parameters = {\"second_order_tensor\": perm, \"source\": f, \"bc\": bc, \"bc_values\": bc_val}"
   ]
  },
  {
   "cell_type": "markdown",
   "metadata": {},
   "source": [
    "Once all the data are created we group them in a dictionary, where the keyword `\"flow\"` represent the physical process considered and ensures that the discretization objects use the correct parameters. Note that the call to initialize_default_data assignes default values to the flow parameters which are not specified. This means that we could have omitted the specification of `\"bc_values\"` and `\"second_order_tensor\"`, since we have assigned the default values for these."
   ]
  },
  {
   "cell_type": "code",
   "execution_count": null,
   "metadata": {},
   "outputs": [],
   "source": [
    "data_key = \"flow\"\n",
    "data = pp.initialize_default_data(g, {}, data_key, parameters)"
   ]
  },
  {
   "cell_type": "markdown",
   "metadata": {},
   "source": [
    "## Problem solution"
   ]
  },
  {
   "cell_type": "markdown",
   "metadata": {},
   "source": [
    "In this section we present all the approaches to solve the problem.<br>\n",
    "**Note**: The problem data are not stored in the solver class."
   ]
  },
  {
   "cell_type": "markdown",
   "metadata": {},
   "source": [
    "### Two-point flux approximation"
   ]
  },
  {
   "cell_type": "markdown",
   "metadata": {},
   "source": [
    "The two-point flux approximation solves the single-phase flow problem in the primal formulation. We use this to discretize the flux term, before assembling it. The source term is discretized using the FV Integral class. The pressure is directly computed."
   ]
  },
  {
   "cell_type": "code",
   "execution_count": null,
   "metadata": {},
   "outputs": [],
   "source": [
    "flow_discretization = pp.Tpfa(data_key)\n",
    "flow_discretization.discretize(g, data)\n",
    "A, b_flow = flow_discretization.assemble_matrix_rhs(g, data)\n",
    "\n",
    "rhs_discretization = pp.ScalarSource(data_key)\n",
    "rhs_discretization.discretize(g, data)\n",
    "_, b_rhs = rhs_discretization.assemble_matrix_rhs(g, data)\n",
    "\n",
    "p_tpfa = sps.linalg.spsolve(A, b_flow+b_rhs) "
   ]
  },
  {
   "cell_type": "markdown",
   "metadata": {},
   "source": [
    "To represent the solution."
   ]
  },
  {
   "cell_type": "code",
   "execution_count": null,
   "metadata": {},
   "outputs": [],
   "source": [
    "pp.plot_grid(g, p_tpfa, figsize=(15, 12))"
   ]
  },
  {
   "cell_type": "markdown",
   "metadata": {},
   "source": [
    "Consistency check:"
   ]
  },
  {
   "cell_type": "code",
   "execution_count": null,
   "metadata": {},
   "outputs": [],
   "source": [
    "assert np.isclose(np.sum(p_tpfa), 14.192684340967551)"
   ]
  },
  {
   "cell_type": "markdown",
   "metadata": {},
   "source": [
    "### Multi-point flux approximation "
   ]
  },
  {
   "cell_type": "markdown",
   "metadata": {},
   "source": [
    "The multi-point flux approximation solves the single-phase flow problem in the primal formulation. We discretize the flux term anew with the MPFA, and assemble the matrix. Note that the call to Mpfa.discretize() will override the already stored discretization matrix for Tpfa. We reuse the source term discretization, as this is the same for TPFA and MPFA."
   ]
  },
  {
   "cell_type": "code",
   "execution_count": null,
   "metadata": {},
   "outputs": [],
   "source": [
    "flow_discretization = pp.Mpfa(data_key)\n",
    "flow_discretization.discretize(g, data)\n",
    "A, b_flow = flow_discretization.assemble_matrix_rhs(g, data)\n",
    "\n",
    "p_mpfa = sps.linalg.spsolve(A, b_flow+b_rhs)"
   ]
  },
  {
   "cell_type": "markdown",
   "metadata": {},
   "source": [
    "To represent the solution:"
   ]
  },
  {
   "cell_type": "code",
   "execution_count": null,
   "metadata": {},
   "outputs": [],
   "source": [
    "pp.plot_grid(g, p_mpfa, figsize=(15, 12))"
   ]
  },
  {
   "cell_type": "markdown",
   "metadata": {},
   "source": [
    "Consistency check:"
   ]
  },
  {
   "cell_type": "code",
   "execution_count": null,
   "metadata": {},
   "outputs": [],
   "source": [
    "assert np.isclose(np.sum(p_mpfa), 14.192684340967542)"
   ]
  },
  {
   "cell_type": "markdown",
   "metadata": {},
   "source": [
    "### Dual virtual element method"
   ]
  },
  {
   "cell_type": "markdown",
   "metadata": {},
   "source": [
    "The dual virtual element method solves the single-phase flow problem in the dual formulation. The pressure and the normal flux to each face are directly computed."
   ]
  },
  {
   "cell_type": "code",
   "execution_count": null,
   "metadata": {},
   "outputs": [],
   "source": [
    "flow_discretization = pp.MVEM(\"flow\")\n",
    "flow_discretization.discretize(g, data)\n",
    "A, b_flow = flow_discretization.assemble_matrix_rhs(g, data)\n",
    "\n",
    "rhs_discretization = pp.DualScalarSource(\"flow\")\n",
    "\n",
    "data[pp.PARAMETERS][\"flow\"][\"source\"] = data[pp.PARAMETERS][\"flow\"][\"source\"]\n",
    "rhs_discretization.discretize(g, data)\n",
    "_, b_rhs = rhs_discretization.assemble_matrix_rhs(g, data)\n",
    "\n",
    "up = sps.linalg.spsolve(A, b_flow+b_rhs)                                              \n",
    "\n",
    "# Extract the normal flux and pressure from the solution\n",
    "u_mvem = flow_discretization.extract_flux(g, up, data)\n",
    "p_mvem = flow_discretization.extract_pressure(g, up, data) \n",
    "\n",
    "# For visualisation purpose project the flux on a vector piecewise constant field\n",
    "P0u = flow_discretization.project_flux(g, u_mvem, data)"
   ]
  },
  {
   "cell_type": "markdown",
   "metadata": {},
   "source": [
    "To represent the pressure and velocity solution:"
   ]
  },
  {
   "cell_type": "code",
   "execution_count": null,
   "metadata": {},
   "outputs": [],
   "source": [
    "pp.plot_grid(g, p_mvem, P0u * 0.2, figsize=(15, 12))"
   ]
  },
  {
   "cell_type": "markdown",
   "metadata": {},
   "source": [
    "Consistency check:"
   ]
  },
  {
   "cell_type": "code",
   "execution_count": null,
   "metadata": {},
   "outputs": [],
   "source": [
    "assert np.isclose(np.sum(p_mvem), 14.348068220560325)\n",
    "assert np.isclose(np.sum(u_mvem), 0)\n",
    "assert np.isclose(np.sum(P0u), 0)"
   ]
  },
  {
   "cell_type": "markdown",
   "metadata": {},
   "source": [
    "# Fractures\n",
    "We now demonstrate how single-phase flow may be simulated for a domain containing a fracture. The process is very similar to the single-dimensional case. Since the fracture is treated as a lower-dimensional subdomain, we make a separate grid representing it, in addition to the matrix grid. There is also an interface grid connecting the two subdomains. The grids are collected in a mixed-dimensional grid (mdg), and assignment of parameters is handled by looping over subdomain (sd) and interface (intf) grids in the mdg. "
   ]
  },
  {
   "cell_type": "code",
   "execution_count": null,
   "metadata": {},
   "outputs": [],
   "source": [
    "mdg, _ = pp.md_grids_2d.single_horizontal([Nx, Ny], x_endpoints=[0.2, 0.8], simplex=False)"
   ]
  },
  {
   "cell_type": "markdown",
   "metadata": {},
   "source": [
    "We choose slightly different parameters from the case above in order to see the impact of the fracture, to which we assign very low permeability. We also have to assign the normal diffusivity parameter on the interface between the matrix and the fracture."
   ]
  },
  {
   "cell_type": "code",
   "execution_count": null,
   "metadata": {},
   "outputs": [],
   "source": [
    "# Thickness of fracture\n",
    "aperture = 1e-3\n",
    "fracture_perm = 1e-5\n",
    "\n",
    "for sd, data in mdg.subdomains(return_data=True):\n",
    "    # The concept of specific volumes accounts for the thickness\n",
    "    # of the fracture, which is collapsed in the mixed-dimensional\n",
    "    # model.\n",
    "    specific_volumes = np.power(aperture, mdg.dim_max()-sd.dim)\n",
    "    # Permeability\n",
    "    k = np.ones(sd.num_cells) * specific_volumes\n",
    "    if sd.dim < mdg.dim_max():\n",
    "        k *= fracture_perm\n",
    "    perm = pp.SecondOrderTensor(k)                     \n",
    "\n",
    "    # Unitary scalar source already integrated in each cell\n",
    "    f = 1e-2 * sd.cell_volumes * specific_volumes \n",
    "\n",
    "    # Boundary conditions\n",
    "    b_faces = sd.tags['domain_boundary_faces'].nonzero()[0]\n",
    "    bc = pp.BoundaryCondition(sd, b_faces, ['dir'] * b_faces.size)\n",
    "    bc_val = np.zeros(sd.num_faces)\n",
    "    bc_val[b_faces] = sd.face_centers[1, b_faces]\n",
    "\n",
    "    parameters = {\"second_order_tensor\": perm, \"source\": f, \"bc\": bc, \"bc_values\": bc_val}\n",
    "    pp.initialize_data(sd, data, data_key, parameters)\n",
    "\n",
    "for intf, data in mdg.interfaces(return_data=True):\n",
    "        # Division through aperture/2 may be thought of as taking the gradient, i.e.\n",
    "        # dividing by the distance from the matrix to the center of the fracture.\n",
    "        kn = fracture_perm / (aperture/2)\n",
    "        pp.initialize_data(intf, data, data_key, {\"normal_diffusivity\": kn})"
   ]
  },
  {
   "cell_type": "markdown",
   "metadata": {},
   "source": [
    "Now, we declare the primary variables and assign the discretization for the diffusive and source term for all grids, and for the coupling law on the edge."
   ]
  },
  {
   "cell_type": "code",
   "execution_count": null,
   "metadata": {},
   "outputs": [],
   "source": [
    "flow_discretization = pp.Tpfa(data_key)\n",
    "source_discretization = pp.ScalarSource(data_key)\n",
    "for sd, data in mdg.subdomains(return_data=True):\n",
    "        data[pp.PRIMARY_VARIABLES] = {\"pressure\": {\"cells\": 1}}\n",
    "        data[pp.DISCRETIZATION] = {\"pressure\": {\"diffusive\": flow_discretization,\n",
    "                                                 \"source\": source_discretization}}\n",
    "        \n",
    "flow_coupling_discretization = pp.RobinCoupling(data_key, flow_discretization)        \n",
    "for intf, data in mdg.interfaces(return_data=True):\n",
    "    sd_primary, sd_secondary = mdg.interface_to_subdomain_pair(intf)\n",
    "    data[pp.PRIMARY_VARIABLES] = {\"mortar_flux\": {\"cells\": 1}}\n",
    "    data[pp.COUPLING_DISCRETIZATION] = {\n",
    "        \"lambda\": {\n",
    "            sd_primary: (\"pressure\", \"diffusive\"),\n",
    "            sd_secondary: (\"pressure\", \"diffusive\"),\n",
    "            intf: (\"mortar_flux\", flow_coupling_discretization),\n",
    "        }\n",
    "    }\n"
   ]
  },
  {
   "cell_type": "markdown",
   "metadata": {},
   "source": [
    "The assembler takes care of discretization and assembly of the matrices. Note that `solution` vector contains all primary variables: the pressure in both matrix and fracture, as well as the fluxes between the two grids. The ordering is also handled by the assembler."
   ]
  },
  {
   "cell_type": "code",
   "execution_count": null,
   "metadata": {},
   "outputs": [],
   "source": [
    "assembler = pp.Assembler(mdg)\n",
    "assembler.discretize()\n",
    "A, b = assembler.assemble_matrix_rhs()\n",
    "solution = sps.linalg.spsolve(A, b)\n",
    "assembler.distribute_variable(solution)"
   ]
  },
  {
   "cell_type": "markdown",
   "metadata": {},
   "source": [
    "Finally, we plot the solution and perform a consistency check."
   ]
  },
  {
   "cell_type": "code",
   "execution_count": null,
   "metadata": {},
   "outputs": [],
   "source": [
    "pp.plot_grid(mdg, \"pressure\",figsize=(15, 12))"
   ]
  },
  {
   "cell_type": "code",
   "execution_count": null,
   "metadata": {},
   "outputs": [],
   "source": [
    "sd_2d = list(mdg.subdomains(dim=2))[0]\n",
    "data_2d = mdg.subdomain_data(sd_2d)\n",
    "p_2d = data_2d[pp.STATE][\"pressure\"]\n",
    "assert np.isclose(np.sum(p_2d), 200.14208519866756)"
   ]
  }
 ],
 "metadata": {
  "kernelspec": {
   "display_name": "Python 3 (ipykernel)",
   "language": "python",
   "name": "python3"
  },
  "language_info": {
   "codemirror_mode": {
    "name": "ipython",
    "version": 3
   },
   "file_extension": ".py",
   "mimetype": "text/x-python",
   "name": "python",
   "nbconvert_exporter": "python",
   "pygments_lexer": "ipython3",
   "version": "3.9.12"
  }
 },
 "nbformat": 4,
 "nbformat_minor": 4
}
