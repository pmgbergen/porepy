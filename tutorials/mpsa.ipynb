{
 "cells": [
  {
   "cell_type": "markdown",
   "metadata": {},
   "source": [
    "# Multi-point stress approximation (MPSA)"
   ]
  },
  {
   "cell_type": "markdown",
   "metadata": {},
   "source": [
    "Porepy supports mpsa discretization for linear elasticity problem:\n",
    "\\begin{equation}\n",
    "\\nabla\\cdot \\sigma = f.\n",
    "\\end{equation}\n",
    "Conservation of momentum gives us for each control volume $\\Omega_k$\n",
    "\\begin{equation}\n",
    "-\\int_{\\Omega_k} f dv = \\int_{\\partial\\Omega_k} T(n)dA,\n",
    "\\end{equation}\n",
    "where $T(n) = \\sigma \\cdot n$ are the surface traction vectors on the boundary of the control volume.\n"
   ]
  },
  {
   "cell_type": "markdown",
   "metadata": {
    "collapsed": true
   },
   "source": [
    "To solve this system we first have to create the grid. Then we need to define boundary conditions. We set the bottom boundary as a Dirichlet boundary. The other boundaries are set to Neuman. We also need to create the stiffness matrix:"
   ]
  },
  {
   "cell_type": "code",
   "execution_count": 1,
   "metadata": {},
   "outputs": [],
   "source": [
    "import numpy as np\n",
    "\n",
    "from porepy.grids import structured\n",
    "from porepy.numerics.fv import mpsa\n",
    "from porepy.params import tensor, bc\n",
    "\n",
    "# Create grid\n",
    "n = 5\n",
    "g = structured.CartGrid([n,n])\n",
    "g.compute_geometry()\n",
    "\n",
    "# Define boundary type\n",
    "dirich = np.ravel(np.argwhere(g.face_centers[1] < 1e-10))\n",
    "bound = bc.BoundaryCondition(g, dirich, ['dir']*dirich.size)\n",
    "\n",
    "# Create stiffness matrix\n",
    "lam = np.ones(g.num_cells)\n",
    "mu = np.ones(g.num_cells)\n",
    "constit =tensor.FourthOrder(g.dim, mu, lam)"
   ]
  },
  {
   "cell_type": "markdown",
   "metadata": {},
   "source": [
    "We here use the constitutive law:\n",
    "\\begin{equation}\n",
    "\\sigma = 2  \\mu  \\epsilon +\\lambda  \\text{trace}(\\epsilon) I, \\quad \\epsilon = \\frac{1}{2}(\\nabla u + (\\nabla u)^\\top)\n",
    "\\end{equation}"
   ]
  },
  {
   "cell_type": "markdown",
   "metadata": {},
   "source": [
    "We discretize the stresses by using the multi-point stress approximation (for details, please see: E. Keilegavlen and J. M. Nordbotten. “Finite volume methods for elasticity with weak symmetry”. In: International Journal for Numerical Methods in Engineering (2017))."
   ]
  },
  {
   "cell_type": "markdown",
   "metadata": {},
   "source": [
    "We now define the boundary conditions. We clamp the bottom boundary, and push down by a constant force on the top boundary. Note that the traction on the Neumann boundary is the total traction, not the traction density. To get the traction density we have to scale the traction by the face areas."
   ]
  },
  {
   "cell_type": "code",
   "execution_count": 2,
   "metadata": {
    "collapsed": true
   },
   "outputs": [],
   "source": [
    "top_faces = np.ravel(np.argwhere(g.face_centers[1] > n - 1e-10))\n",
    "bot_faces = np.ravel(np.argwhere(g.face_centers[1] < 1e-10))\n",
    "\n",
    "u_b = np.zeros((g.dim, g.num_faces))\n",
    "u_b[1, top_faces] = -1 * g.face_areas[top_faces]\n",
    "u_b[:, bot_faces] = 0\n",
    "\n",
    "u_b = u_b.ravel('F')"
   ]
  },
  {
   "cell_type": "markdown",
   "metadata": {},
   "source": [
    "We discretize this system using the Mpsa class. We assume zero body forces $f=0$"
   ]
  },
  {
   "cell_type": "code",
   "execution_count": 3,
   "metadata": {},
   "outputs": [],
   "source": [
    "mpsa_class = mpsa.Mpsa()\n",
    "f = np.zeros(g.dim * g.num_cells)\n",
    "data= {'stiffness': constit, 'source': f, 'bc': bound, 'bc_val': u_b}\n",
    "\n",
    "A, b = mpsa_class.matrix_rhs(g, data)\n",
    "\n",
    "u_class = np.linalg.solve(A.A, b)"
   ]
  },
  {
   "cell_type": "markdown",
   "metadata": {},
   "source": [
    "And we can plott the y_displacement"
   ]
  },
  {
   "cell_type": "code",
   "execution_count": 4,
   "metadata": {},
   "outputs": [
    {
     "data": {
      "image/png": "[encoded data removed]",
      "text/plain": [
       "<matplotlib.figure.Figure at 0x7f0a00863588>"
      ]
     },
     "metadata": {},
     "output_type": "display_data"
    }
   ],
   "source": [
    "from porepy.viz import plot_grid\n",
    "\n",
    "plot_grid.plot_grid(g, cell_value=u_class[1::2])"
   ]
  },
  {
   "cell_type": "markdown",
   "metadata": {},
   "source": [
    "To better understand what goes on under the hood of the mpsa class, we manually create the lhs and rhs"
   ]
  },
  {
   "cell_type": "code",
   "execution_count": 5,
   "metadata": {},
   "outputs": [],
   "source": [
    "constit =tensor.FourthOrder(g.dim, mu, lam)\n",
    "stress, bound_stress = mpsa.mpsa(g, constit, bound)"
   ]
  },
  {
   "cell_type": "markdown",
   "metadata": {},
   "source": [
    "MPSA returns the two sparse matrices \"stress\" and \"bound_stress\". They give define the discretization of the cell-face traction:\n",
    "\\begin{equation}\n",
    "T = \\text{stress} \\cdot u + \\text{bound_stress} \\cdot u_b\n",
    "\\end{equation}\n",
    "Here $u$ is a vector of cell center displacement and has length g.dim $*$ g.num_cells. The vector $u_b$ is the boundary condition values. It is the displacement for Dirichlet boundaries and traction for Neumann boundaries and has length g.dim $*$ g.num_faces.\n"
   ]
  },
  {
   "cell_type": "markdown",
   "metadata": {},
   "source": [
    "We are now ready to set up the linear system of equations and solve it. We define the body forces $f = 0$. Each row in the discretized system is now\n",
    "\\begin{equation}\n",
    "-\\int_{\\Omega_k} f dv = \\int_{\\partial\\Omega_k} T(n)dA = [div \\cdot \\text{stress} \\cdot u + div\\cdot\\text{bound_stress}\\cdot u_b]_k,\n",
    "\\end{equation}\n",
    "We move the known boundary variable $u_b$ over to the right hand side and solve the system:\n"
   ]
  },
  {
   "cell_type": "code",
   "execution_count": 6,
   "metadata": {
    "collapsed": true
   },
   "outputs": [],
   "source": [
    "from porepy.numerics.fv.fvutils import vector_divergence\n",
    "\n",
    "f = np.zeros(g.dim * g.num_cells)\n",
    "\n",
    "div = vector_divergence(g)\n",
    "A = div * stress\n",
    "b = -f - div * bound_stress * u_b\n",
    "\n",
    "u = np.linalg.solve(A.A, b)"
   ]
  },
  {
   "cell_type": "markdown",
   "metadata": {},
   "source": [
    "This gives the same displacement as for the Mpsa class:"
   ]
  },
  {
   "cell_type": "code",
   "execution_count": 7,
   "metadata": {},
   "outputs": [],
   "source": [
    "assert np.allclose(u, u_class)"
   ]
  },
  {
   "cell_type": "markdown",
   "metadata": {},
   "source": [
    "We can now plot the y-displacement"
   ]
  },
  {
   "cell_type": "code",
   "execution_count": 8,
   "metadata": {},
   "outputs": [
    {
     "data": {
      "image/png": "[encoded data removed]",
      "text/plain": [
       "<matplotlib.figure.Figure at 0x7f0a00863390>"
      ]
     },
     "metadata": {},
     "output_type": "display_data"
    }
   ],
   "source": [
    "plot_grid.plot_grid(g, cell_value=u[1::2])"
   ]
  },
  {
   "cell_type": "markdown",
   "metadata": {},
   "source": [
    "We can also retrieve the traction on the faces. "
   ]
  },
  {
   "cell_type": "code",
   "execution_count": 9,
   "metadata": {},
   "outputs": [
    {
     "data": {
      "image/png": "[encoded data removed]",
      "text/plain": [
       "<matplotlib.figure.Figure at 0x7f09d174d0b8>"
      ]
     },
     "metadata": {},
     "output_type": "display_data"
    }
   ],
   "source": [
    "T = stress * u + bound_stress * u_b\n",
    "\n",
    "neumann_faces = np.argwhere(bound.is_neu)\n",
    "neumann_dof = np.ravel((2*neumann_faces, 2*neumann_faces+1),'F')\n",
    "\n",
    "assert np.allclose(np.abs(u_b[neumann_dof]), np.abs(T[neumann_dof]))\n",
    "\n",
    "T = np.vstack((T.reshape((g.dim, -1),order='F'), np.zeros(g.num_faces)))\n",
    "plot_grid.plot_grid(g, vector_value=50*T)"
   ]
  },
  {
   "cell_type": "markdown",
   "metadata": {},
   "source": [
    "Note that the traction on face i: T[2*i:2*i+g.dim] is the traction on the face as defined by the normal vectors g.face_normals. This means that for the bottom boundary, the traction T[bot] is the force from to box on the outside (since the normal vectors here are [0,1]), while on the top boundary, the traction T[top] is the force applied to to top faces from the outside (since the normals here point out of the domain)."
   ]
  }
 ],
 "metadata": {
  "kernelspec": {
   "display_name": "Python 3",
   "language": "python",
   "name": "python3"
  },
  "language_info": {
   "codemirror_mode": {
    "name": "ipython",
    "version": 3
   },
   "file_extension": ".py",
   "mimetype": "text/x-python",
   "name": "python",
   "nbconvert_exporter": "python",
   "pygments_lexer": "ipython3",
   "version": "3.5.3"
  }
 },
 "nbformat": 4,
 "nbformat_minor": 2
}
