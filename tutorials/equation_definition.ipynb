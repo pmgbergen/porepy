{
    "cells": [
        {
            "attachments": {},
            "cell_type": "markdown",
            "id": "historical-situation",
            "metadata": {},
            "source": [
                "# Setting up equations using algorithmic differentiation \n",
                "\n",
                "*This tutorial is deprecated. It will be updated during an ongoing overhaul of tutorials.*\n",
                "\n",
                "This tutorial is meant as an introduction to the PorePy framework for defining and working with (non-linear) equations, using the mixed-dimensional flow problem as an example. For an introduction to basic concepts of algorithmic differentiation, please refer to the dedicated [automatic differentiation tutorial](https://github.com/pmgbergen/porepy/blob/develop/tutorials/automatic_differentiation.ipynb). \n",
                "Note that for several much used problems, PorePy provides `Model` classes to solve mixed-dimensional PDEs. These classes use the AD functionality as described herein. A less technical explanation of how to solve the present mixed-dimensional problem is provided in the [incompressible flow tutorial](https://github.com/pmgbergen/porepy/blob/develop/tutorials/incompressible_flow_model.ipynb), which also details the equations. Herein, we provide more detailed explanations and descriptions of the design of the AD objects."
            ]
        },
        {
            "cell_type": "markdown",
            "id": "further-bride",
            "metadata": {},
            "source": [
                "## Framework components\n",
                "The framework consists of four types of classes:\n",
                "1. Variables. These carry the numerical state of the primary variables, and also values at previous time steps and iteration states.\n",
                "2. Grid-dependent operators are defined on one or multiple subdomain grids. Examples are:\n",
                "    * divergence and trace operators\n",
                "    * boundary conditions\n",
                "    * parameter arrays and matrices\n",
                "    * projections between interfaces and subdomain grids\n",
                "    * projections between sets of subdomains and subsets.\n",
                "3. Discretization objects. These are essentially shells around standard PorePy discretization methods. Their purpose is to provide access to the discretization matrices computed by those methods in a form consistent with the AD framework.\n",
                "4. Classes for book-keeping, notably degree-of-freedom handling and the relation between equations/variables and the underlying mixed-dimensional grid.\n",
                "\n",
                "Solving (partial differential) equations on a mixed-dimensional grid requires defining the above objects, combining them into equations and solving the ensuing equation system. \n",
                "\n",
                "## Test case: A mixed-dimensional grid.\n",
                "As a test case, we define a mixed-dimensional grid, which we for simplicity let be Cartesian"
            ]
        },
        {
            "cell_type": "code",
            "execution_count": 4,
            "id": "moral-nerve",
            "metadata": {},
            "outputs": [],
            "source": [
                "import numpy as np\n",
                "import porepy as pp\n",
                "\n",
                "\n",
                "import scipy.sparse.linalg as spla\n",
                "\n",
                "# fractures 1 and 2 form a T-intersection in (3, 3)\n",
                "frac_1 = np.array([[2, 2], [2, 4]])\n",
                "frac_2 = np.array([[2, 5], [3, 3]])\n",
                "# fracture 3 is isolated\n",
                "frac_3 = np.array([[6, 6], [1, 5]])\n",
                "\n",
                "mdg = pp.meshing.cart_grid([frac_1, frac_2, frac_3], nx=np.array([7, 7]))"
            ]
        },
        {
            "cell_type": "markdown",
            "id": "temporal-booking",
            "metadata": {},
            "source": [
                "Next, we define the PDE's variables and parameters on the subdomains and interfaces."
            ]
        },
        {
            "cell_type": "code",
            "execution_count": 5,
            "id": "bigger-outside",
            "metadata": {},
            "outputs": [],
            "source": [
                "# String representations of the variables.\n",
                "pressure_var = 'pressure'\n",
                "mortar_var = 'mortar_flux'\n",
                "param_key = 'flow'\n",
                "\n",
                "# Loop over all subdomains\n",
                "for sd, data in mdg.subdomains(return_data=True):\n",
                "    # Define a cell centered variable\n",
                "    data[pp.PRIMARY_VARIABLES] = {pressure_var: {'cells': 1}}\n",
                "    # Assign an initial numerical value\n",
                "    pp.set_solution_values(\n",
                "        name=pressure_var, \n",
                "        values=np.random.rand(sd.num_cells), \n",
                "        data=data, \n",
                "        time_step_index=0)\n",
                "    # Set default parameters for the flow problem\n",
                "    pp.initialize_default_data(sd, data, param_key, {})\n",
                "    \n",
                "# Also loop over interfaces\n",
                "for intf, data in mdg.interfaces(return_data=True):\n",
                "    data[pp.PRIMARY_VARIABLES] = {mortar_var: {'cells': 1}}\n",
                "    pp.set_solution_values(\n",
                "        name=mortar_var, \n",
                "        values=np.random.rand(intf.num_cells), \n",
                "        data=data, \n",
                "        time_step_index=0)\n",
                "    kn = 1e-1 * np.ones(intf.num_cells)\n",
                "    pp.initialize_data(intf, data, param_key, {'normal_diffusivity': kn})\n"
            ]
        },
        {
            "cell_type": "markdown",
            "id": "bb4c81f1-0512-4b48-9d42-225a6aa34255",
            "metadata": {},
            "source": [
                "### Mixed-dimensional AD variables and book-keeping\n",
                "The next step is to define Ad representations of the (mixed-dimensional) variables. For this, we first need to define a degree of freedom manager (`DofManager`) and an equation manager (`EquationManager`). The `DofManager` is responsible for keeping track of the degrees of freedom in the mixed-dimensional system, whereas the `EquationManager` is responsible for providing the Ad  representations of the variables.\n",
                "\n",
                "*NOTE*: A consistent ordering of subdomains is crucial, as it sets the ordering of variables, discretization objects, etc. Thus, the same ordering should be used throughout the simulation."
            ]
        },
        {
            "cell_type": "code",
            "execution_count": 6,
            "id": "dirty-wesley",
            "metadata": {},
            "outputs": [],
            "source": [
                "dof_manager = pp.DofManager(mdg)\n",
                "equation_manager = pp.ad.EquationManager(mdg, dof_manager)\n",
                "p = equation_manager.merge_variables([(sd, pressure_var) for sd in mdg.subdomains()])\n",
                "lmbda = equation_manager.merge_variables([(intf, mortar_var) for intf in mdg.interfaces()])"
            ]
        },
        {
            "cell_type": "markdown",
            "id": "endangered-operator",
            "metadata": {},
            "source": [
                "Note that `p` and `lmbda` do not have numerical values. What we have done instead is:\n",
                "1. Prepare the ground to write the abstract equations, and\n",
                "2. Prepare for the subsequent translation of the equations to numerical representation (values and derivatives)\n",
                "\n",
                "### Grid-related operators\n",
                "Now, we are ready to apply define AD objects for this mixed-dimensional problem. The key to exploit this efficiently (in terms of both userfriendliness and computational speed) is to operate on several subdomains simultaneously. For instance, the mass conservation equation requires a divergence operator, which we define jointly for all subdomains. We also require a representation of boundary conditions."
            ]
        },
        {
            "cell_type": "code",
            "execution_count": 7,
            "id": "usual-gardening",
            "metadata": {},
            "outputs": [
                {
                    "ename": "AttributeError",
                    "evalue": "module 'porepy.numerics.ad' has no attribute 'BoundaryCondition'",
                    "output_type": "error",
                    "traceback": [
                        "\u001b[1;31m---------------------------------------------------------------------------\u001b[0m",
                        "\u001b[1;31mAttributeError\u001b[0m                            Traceback (most recent call last)",
                        "Cell \u001b[1;32mIn[7], line 4\u001b[0m\n\u001b[0;32m      1\u001b[0m div \u001b[39m=\u001b[39m pp\u001b[39m.\u001b[39mad\u001b[39m.\u001b[39mDivergence(subdomains\u001b[39m=\u001b[39mmdg\u001b[39m.\u001b[39msubdomains())\n\u001b[0;32m      2\u001b[0m \u001b[39m# The boundary condition object is initialized with the parameter key used to set the parameters in the\u001b[39;00m\n\u001b[0;32m      3\u001b[0m \u001b[39m# above loop. This is critical to ensure parameters are not mixed in multi-physics simulations.\u001b[39;00m\n\u001b[1;32m----> 4\u001b[0m bound_ad \u001b[39m=\u001b[39m pp\u001b[39m.\u001b[39;49mad\u001b[39m.\u001b[39;49mBoundaryCondition(param_key, subdomains\u001b[39m=\u001b[39mmdg\u001b[39m.\u001b[39msubdomains())\n",
                        "\u001b[1;31mAttributeError\u001b[0m: module 'porepy.numerics.ad' has no attribute 'BoundaryCondition'"
                    ]
                }
            ],
            "source": [
                "div = pp.ad.Divergence(subdomains=mdg.subdomains())\n",
                "# The boundary condition object is initialized with the parameter key used to set the parameters in the\n",
                "# above loop. This is critical to ensure parameters are not mixed in multi-physics simulations.\n",
                "bound_ad = pp.ad.BoundaryCondition(param_key, subdomains=mdg.subdomains())"
            ]
        },
        {
            "cell_type": "markdown",
            "id": "seven-illness",
            "metadata": {},
            "source": [
                "Note that these are not matrices, but a special object:"
            ]
        },
        {
            "cell_type": "code",
            "execution_count": null,
            "id": "superior-crossing",
            "metadata": {},
            "outputs": [
                {
                    "data": {
                        "text/plain": [
                            "porepy.numerics.ad.grid_operators.Divergence"
                        ]
                    },
                    "execution_count": 5,
                    "metadata": {},
                    "output_type": "execute_result"
                }
            ],
            "source": [
                "type(div)"
            ]
        },
        {
            "cell_type": "markdown",
            "id": "straight-saskatchewan",
            "metadata": {},
            "source": [
                "We will come back to how to translate `div` into a numerical expression. Similarly, `bound_ad` is not a numerical boundary condition, but rather a way to access given boundary data.\n",
                "\n",
                "We can also define merged projection operators between subdomain grids and mortar grids. This can be done either on the whole `mdg` or on parts of it. The ordering of the grids matters- you most likely will not get consistent results if the ordering is altered throughout the simulation (if you get a warning, disregard it; this will be handled at a later point):"
            ]
        },
        {
            "cell_type": "code",
            "execution_count": null,
            "id": "controlling-prisoner",
            "metadata": {},
            "outputs": [
                {
                    "name": "stderr",
                    "output_type": "stream",
                    "text": [
                        "c:\\users\\ivar\\onedrive - university of bergen\\documents\\github\\porepy\\src\\porepy\\grids\\mortar_grid.py:801: UserWarning: Is it really meaningful to ask for signs of a one sided mortar grid?\n",
                        "  warnings.warn(\n"
                    ]
                }
            ],
            "source": [
                "mortar_proj = pp.ad.MortarProjections(mdg=mdg, subdomains=mdg.subdomains(), interfaces=mdg.interfaces())"
            ]
        },
        {
            "cell_type": "markdown",
            "id": "fdff8566-8b4a-45e1-949a-3e31afe939bb",
            "metadata": {},
            "source": [
                "### Discretization objects\n",
                "Next, we turn to discretization. To be compatible with the Ad framework, PorePy discretizations need a wrapper which mainly allows for the delayed evaluation of the expressions. For instance, the Ad version of Mpfa is defined by writing"
            ]
        },
        {
            "cell_type": "code",
            "execution_count": null,
            "id": "ranking-layer",
            "metadata": {},
            "outputs": [],
            "source": [
                "mpfa = pp.ad.MpfaAd(param_key, mdg.subdomains())"
            ]
        },
        {
            "cell_type": "markdown",
            "id": "f37f4124-5dfa-4dd2-86e8-c530b4e07c9d",
            "metadata": {},
            "source": [
                "This object, once again, has no numerical values but is rather an abstract representation of a standard Mpfa discretization. The two versions of Mpfa refer to the discretization matrices resulting from the discretization in similar ways: Mpfa has attributes like `flux_matrix_key`, which specifies where the flux discretization matrix is stored inside the `data` dictionary. Similarly, MpfaAd has an attribute `flux`, which, upon parsing of an Ad expression (below), will access the same discretization matrix.\n",
                "\n",
                "Finally, we define a discretization object for the interface equation"
            ]
        },
        {
            "cell_type": "code",
            "execution_count": null,
            "id": "cleared-multimedia",
            "metadata": {},
            "outputs": [],
            "source": [
                "robin = pp.ad.RobinCouplingAd(param_key, mdg.interfaces())"
            ]
        },
        {
            "cell_type": "markdown",
            "id": "destroyed-outdoors",
            "metadata": {},
            "source": [
                "## Mixed-dimensional ad equations\n",
                "To explore how the mixed-dimensional Ad framework works in action, we can define the flux discretization on all subdomains as"
            ]
        },
        {
            "cell_type": "code",
            "execution_count": null,
            "id": "difficult-edmonton",
            "metadata": {},
            "outputs": [],
            "source": [
                "interior_flux = mpfa.flux @ p"
            ]
        },
        {
            "cell_type": "markdown",
            "id": "genetic-stock",
            "metadata": {},
            "source": [
                "In essence, there are two types of Ad objects:\n",
                "1. Atomic objects, like `mpfa.flux` and `p`. These can be considered pointers to places in the data dictionary where the numerical values associated with the objects are stored. For instance, `p` in our example points to a collection of `data[pp.STATE][pressure_var]`, where `data` is the data dictionary for each of the subdomains on which `p` is defined.\n",
                "2. Composite objects, like `interior_flux`, formed by combining Ad objects (which themselves can be atomic or composites) using basic mathematical operations. \n",
                "\n",
                "These Ad objects are not designed for numerical evaluation by themselves, they can be thought of as recipes for combining discretizations, variables, etc. To parse a recipe, we provide it with a `MixedDimensionalGrid`, from where it can pull numerical values for variables, discretization matrices, and so on."
            ]
        },
        {
            "cell_type": "code",
            "execution_count": null,
            "id": "defined-daughter",
            "metadata": {},
            "outputs": [
                {
                    "ename": "UnboundLocalError",
                    "evalue": "local variable 'data' referenced before assignment",
                    "output_type": "error",
                    "traceback": [
                        "\u001b[1;31m---------------------------------------------------------------------------\u001b[0m",
                        "\u001b[1;31mUnboundLocalError\u001b[0m                         Traceback (most recent call last)",
                        "Cell \u001b[1;32mIn[12], line 2\u001b[0m\n\u001b[0;32m      1\u001b[0m interior_flux\u001b[39m.\u001b[39mdiscretize(mdg)\n\u001b[1;32m----> 2\u001b[0m num_flux \u001b[39m=\u001b[39m interior_flux\u001b[39m.\u001b[39;49mevaluate(dof_manager)\n\u001b[0;32m      3\u001b[0m \u001b[39mprint\u001b[39m(num_flux)\n",
                        "File \u001b[1;32mc:\\users\\ivar\\onedrive - university of bergen\\documents\\github\\porepy\\src\\porepy\\numerics\\ad\\operators.py:737\u001b[0m, in \u001b[0;36mOperator.evaluate\u001b[1;34m(self, system_manager, state)\u001b[0m\n\u001b[0;32m    730\u001b[0m \u001b[39mself\u001b[39m\u001b[39m.\u001b[39m_prev_iter_ids \u001b[39m=\u001b[39m prev_iter_ids\n\u001b[0;32m    732\u001b[0m \u001b[39m# Parsing in two stages: First make a forward Ad-representation of the variable\u001b[39;00m\n\u001b[0;32m    733\u001b[0m \u001b[39m# state (this must be done jointly for all variables of the operator to get all\u001b[39;00m\n\u001b[0;32m    734\u001b[0m \u001b[39m# derivatives represented). Then parse the operator by traversing its\u001b[39;00m\n\u001b[0;32m    735\u001b[0m \u001b[39m# tree-representation, and parse and combine individual operators.\u001b[39;00m\n\u001b[1;32m--> 737\u001b[0m prev_vals \u001b[39m=\u001b[39m system_manager\u001b[39m.\u001b[39;49mget_variable_values(from_iterate\u001b[39m=\u001b[39;49m\u001b[39mFalse\u001b[39;49;00m)\n\u001b[0;32m    739\u001b[0m \u001b[39mif\u001b[39;00m state \u001b[39mis\u001b[39;00m \u001b[39mNone\u001b[39;00m:\n\u001b[0;32m    740\u001b[0m     state \u001b[39m=\u001b[39m system_manager\u001b[39m.\u001b[39mget_variable_values(from_iterate\u001b[39m=\u001b[39m\u001b[39mTrue\u001b[39;00m)\n",
                        "File \u001b[1;32mc:\\users\\ivar\\onedrive - university of bergen\\documents\\github\\porepy\\src\\porepy\\numerics\\mixed_dim\\dof_manager.py:350\u001b[0m, in \u001b[0;36mDofManager.get_variable_values\u001b[1;34m(self, variables, from_iterate)\u001b[0m\n\u001b[0;32m    348\u001b[0m         values\u001b[39m.\u001b[39mappend(data[pp\u001b[39m.\u001b[39mSTATE][pp\u001b[39m.\u001b[39mITERATE][name]\u001b[39m.\u001b[39mcopy())\n\u001b[0;32m    349\u001b[0m     \u001b[39melse\u001b[39;00m:\n\u001b[1;32m--> 350\u001b[0m         values\u001b[39m.\u001b[39mappend(data[pp\u001b[39m.\u001b[39mSTATE][name]\u001b[39m.\u001b[39mcopy())\n\u001b[0;32m    351\u001b[0m \u001b[39mexcept\u001b[39;00m \u001b[39mKeyError\u001b[39;00m:\n\u001b[0;32m    352\u001b[0m     \u001b[39mraise\u001b[39;00m \u001b[39mKeyError\u001b[39;00m(\n\u001b[0;32m    353\u001b[0m         \u001b[39mf\u001b[39m\u001b[39m\"\u001b[39m\u001b[39mNo values stored for variable \u001b[39m\u001b[39m{\u001b[39;00mname\u001b[39m}\u001b[39;00m\u001b[39m, \u001b[39m\u001b[39m\"\u001b[39m\n\u001b[0;32m    354\u001b[0m         \u001b[39mf\u001b[39m\u001b[39m\"\u001b[39m\u001b[39mfrom_iterate=\u001b[39m\u001b[39m{\u001b[39;00mfrom_iterate\u001b[39m}\u001b[39;00m\u001b[39m\"\u001b[39m\n\u001b[0;32m    355\u001b[0m         \u001b[39mf\u001b[39m\u001b[39m\"\u001b[39m\u001b[39m\\n\u001b[39;00m\u001b[39mon grid \u001b[39m\u001b[39m{\u001b[39;00mgrid\u001b[39m}\u001b[39;00m\u001b[39m.\u001b[39m\u001b[39m\"\u001b[39m\n\u001b[0;32m    356\u001b[0m     )\n",
                        "\u001b[1;31mUnboundLocalError\u001b[0m: local variable 'data' referenced before assignment"
                    ]
                }
            ],
            "source": [
                "interior_flux.discretize(mdg)\n",
                "num_flux = interior_flux.evaluate(dof_manager)\n",
                "print(num_flux)"
            ]
        },
        {
            "cell_type": "markdown",
            "id": "reasonable-bachelor",
            "metadata": {},
            "source": [
                "We note that, since the `mpfa` object was defined on all subdomains, `num_flux` has the size of the total number of faces in the grid. Its Jacobian matrix is a mapping from all the declared primary variables in the full `MixedDimensionalGrid` (in this case, pressure in the cells on subdomains and fluxes for all interface cells) to the faces on all subdomains.\n",
                "\n",
                "\n",
                "We can define more elaborate combinations of variables. The `interior_flux` object represents only the part of the flux caused by pressure variations in the interior of the subdomains. To get the _full flux_, we need to account for boundary conditions from external boundaries, as well as from internal boundaries to neighboring subdomains of lower dimensions."
            ]
        },
        {
            "cell_type": "code",
            "execution_count": null,
            "id": "balanced-overhead",
            "metadata": {},
            "outputs": [],
            "source": [
                "full_flux = (\n",
                "    interior_flux \n",
                "    + mpfa.bound_flux @ (bound_ad \n",
                "                         + mortar_proj.mortar_to_primary_int @ lmbda\n",
                "                        )\n",
                "    )"
            ]
        },
        {
            "cell_type": "markdown",
            "id": "nasty-papua",
            "metadata": {},
            "source": [
                "In the lower-dimensional subdomains, the projected interface fluxes manifest as sources.\n",
                "Put together, we now have the full mass conservation equation on all subdomains:"
            ]
        },
        {
            "cell_type": "code",
            "execution_count": null,
            "id": "dimensional-lexington",
            "metadata": {},
            "outputs": [],
            "source": [
                "conservation = div @ full_flux + mortar_proj.mortar_to_secondary_int @ lmbda"
            ]
        },
        {
            "cell_type": "markdown",
            "id": "right-brunei",
            "metadata": {},
            "source": [
                "We can also define equations for the interfaces. To that end, we first define the pressure trace on internal boundaries - the most accurate representation of this trace is a bit complex within Mpfa (and Tpfa) methods"
            ]
        },
        {
            "cell_type": "code",
            "execution_count": null,
            "id": "behind-heater",
            "metadata": {},
            "outputs": [],
            "source": [
                "pressure_trace_from_primary = (\n",
                "    mortar_proj.primary_to_mortar_avg @ mpfa.bound_pressure_cell @ p\n",
                "    + mortar_proj.primary_to_mortar_avg * mpfa.bound_pressure_face * mortar_proj.mortar_to_primary_int * lmbda\n",
                "    )\n"
            ]
        },
        {
            "cell_type": "markdown",
            "id": "introductory-buffalo",
            "metadata": {},
            "source": [
                "Now, we can write the Darcy-type equation for the interface flux"
            ]
        },
        {
            "cell_type": "code",
            "execution_count": null,
            "id": "suburban-vinyl",
            "metadata": {},
            "outputs": [],
            "source": [
                "interface_flux_eq = (\n",
                "    robin.mortar_discr * (pressure_trace_from_primary\n",
                "                          - mortar_proj.secondary_to_mortar_avg * p)\n",
                "    + lmbda)"
            ]
        },
        {
            "cell_type": "markdown",
            "id": "characteristic-animal",
            "metadata": {},
            "source": [
                "### Assemble the system of equations\n",
                "Now, we only have to feed the equations to the equation manager to be ready to assemble the full system, formed by the conservation statement and the interface flux equations:"
            ]
        },
        {
            "cell_type": "code",
            "execution_count": null,
            "id": "choice-treat",
            "metadata": {},
            "outputs": [],
            "source": [
                "eqs = {'subdomain_conservation': conservation, 'interface_fluxes': interface_flux_eq}\n",
                "equation_manager.equations.update(eqs)"
            ]
        },
        {
            "cell_type": "markdown",
            "id": "green-exclusion",
            "metadata": {},
            "source": [
                "The `equation_manager` can be used to assemble the coupled linear system, much in the same way as a recipe is evaluated. Before that, the discretization matrices must be constructed.\n",
                "\n",
                "**NOTE**: The computed solution has the interpretation of the update to the existing state, that is, the random values we assigned above. The solution must be distributed in an additive manner. "
            ]
        },
        {
            "cell_type": "code",
            "execution_count": null,
            "id": "answering-denver",
            "metadata": {},
            "outputs": [],
            "source": [
                "# first discretize\n",
                "equation_manager.discretize(mdg)\n",
                "# next assemble the equations\n",
                "A, b = equation_manager.assemble()\n",
                "\n",
                "# Solve system, note the minus sign on the right hand side\n",
                "solution = spla.spsolve(A, b)\n",
                "\n",
                "# Distribute variable to local data dictionaries\n",
                "dof_manager.distribute_variable(solution, additive=True)\n",
                "\n",
                "exporter = pp.Exporter(mdg, 'ad_test')\n",
                "exporter.write_vtu([pressure_var])\n",
                "\n"
            ]
        },
        {
            "cell_type": "markdown",
            "id": "about-income",
            "metadata": {},
            "source": [
                "## What have we done\n",
                "We summarize the steps needed to define an equation:\n",
                "1. Define variables \n",
                "2. Define grid-related operators (not strictly necessary, but most often)\n",
                "3. Define discretizations\n",
                "4. Combine into equations, and evaluate."
            ]
        }
    ],
    "metadata": {
        "kernelspec": {
            "display_name": "condapp",
            "language": "python",
            "name": "python3"
        },
        "language_info": {
            "codemirror_mode": {
                "name": "ipython",
                "version": 3
            },
            "file_extension": ".py",
            "mimetype": "text/x-python",
            "name": "python",
            "nbconvert_exporter": "python",
            "pygments_lexer": "ipython3",
            "version": "3.10.6"
        },
        "vscode": {
            "interpreter": {
                "hash": "ffc5b0a7f9c7db892dae2ef51b4b23072576b4ba6e83a9602165851401d5c9eb"
            }
        }
    },
    "nbformat": 4,
    "nbformat_minor": 5
}