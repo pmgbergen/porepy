{
 "cells": [
  {
   "cell_type": "markdown",
   "id": "0effde27",
   "metadata": {},
   "source": [
    "# Introduction\n",
    "This introduction describes PorePy's main concepts and features. For more detail on individual topics and code examples, we refer the reader to the corresponding tutorial notebooks, see the [readme](readme.md) for an overview.\n",
    "For a more rigorous and theoretical description, please see [Keilegavlen et al.](https://link.springer.com/article/10.1007/s10596-020-10002-5) and references therein.\n",
    "\n",
    "## Conceptual model\n",
    "PorePy is a simulation toolbox covering several (coupled) physical processes tailored to _fractured_ porous media. \n",
    "The underlying mixed-dimensional model arises from dimension reduction of fractures, which is motivated by their high aspect ratio.\n",
    "Averaging along the thickness of the fracture allows representing it as a two-dimensional subdomain with the aperture [m] accounting for the collapsed dimension.\n",
    "Similarly, a fracture intersection is represented by a one-dimensional subdomain and intersections of fracture intersections by zero-dimensional points.\n",
    "To account for the collapsed area and volume, we introduce a _specific volume_ [m$^{3-d}$], with $d$ denoting the dimension of the subdomain in question.\n",
    "Each lower-dimensional subdomain corresponds to an internal boundary for one or more higher-dimensional subdomain. \n",
    "Each such pair of neighboring subdomains exactly one dimension apart is connected through an _interface_. \n",
    "Thus, the entire mixed-dimensional domain can be represented by a graph with *nodes* corresponding to subdomains and *edges* corresponding to interfaces.\n",
    "\n",
    "## Key components\n",
    "The definition of a mixed-dimensional domain allows modeling, equation definition and numerical discretization to take place on individual subdomains and interfaces.\n",
    "From the numerical point of view, this facilitates a high level of modularity and extensive code reuse. \n",
    "It also implies the need for a structure representing a mixed-dimensional grid and handling of this structure:\n",
    "* The `MixedDimensionalGrid` object has a $d$-dimensional grid representing a subdomain and likewise an interface (or \"mortar\") grid at each edge. Each node and edge also has an associated data dictionary for storage of parameters, variables, discretization matrices etc.\n",
    "* A `FractureNetwork` class processes a set of fractures (defined through vertices) by computing intersections to define the collection of subdomains. Then, the actual meshing of subdomains is done using [gmsh](https://gmsh.info/). The resulting mixed-dimensional mesh is conforming, in that any internal boundary corresponds to a face of the mesh, but may be non-matching, i.e. we do not require a one-to-one face correspondance between the two sides of a fracture.\n",
    "* `DofManager` handles degree-of-freedom bookkeeping, including the mapping from local to global ordering, i.e. from subdomains to the whole mixed-dimensional domain.\n",
    "* `EquationManager` takes care of assembly of the global equation system based on equations defined for (sets of) subdomains and interfaces.\n",
    "* An automatic differentiation package underlies the `EquationManager`'s translation from user-defined equations to a linear system of equations.\n",
    "* `Discretization` objects are defined on each subdomain and interface. Discretization is local to a subdomain and relies on the corresponding grid and parameters defined in the subdomain's data dictionary. To facilitate coupling over the interfaces, subdomain discretizations operate on grids and data of the two neighboring subdomains as well as those of the interface. \n",
    "\n",
    "## Capabilities\n",
    "The above outlined framework enables implementation of numerical models for a wide range of phenomena in fractured porous media. Specifically, the code has been used to simulate:\n",
    "* Single-phase flow, both incompressible and compressible.\n",
    "* Two-phase flow\n",
    "* Linear elasticity\n",
    "* Fracture contact mechanics\n",
    "* Flow and transport, either decoupled, weakly coupled or strongly coupled.\n",
    "* Biot poroelasticity\n",
    "Combinations of the above are also possible, e.g. solving the Biot equations in the matrix, and flow and contact mechanics in fractures.\n",
    "The maturity of the code varies between the components, and adaptations may be needed to apply PorePy to a specific problem.\n",
    "\n",
    "The setup of a coupled multi-physics mixed-dimensional simulation is nontrivial. We therefore provide `Model` classes with (unitary) parameters, discretizations, equation definition etc, which all may be modularly adjusted according to the user's needs. Several of the models are demonstrated in other tutorials. \n",
    "\n",
    "## Other comments\n",
    "If you are considering to apply PorePy to a specific problem, you may want to take the following comments into consideration:\n",
    "* The software can only be applied by writing Python code. The amount and complexity of coding needed depends on the problem at hand.\n",
    "* Problems are defined in terms of governing equations, often in the form of partial differential equations. New models, for instance constitutive relations, to be implemented in PorePy must adhere to this framework.\n",
    "* There is currently no native support for linear and non-linear solvers in PorePy; specifically tailored approaches for coupled physical processes are lacking. This means simulations on large grids will be time consuming."
   ]
  },
  {
   "cell_type": "code",
   "execution_count": null,
   "id": "c8ca4372",
   "metadata": {},
   "outputs": [],
   "source": []
  }
 ],
 "metadata": {
  "kernelspec": {
   "display_name": "Python 3 (ipykernel)",
   "language": "python",
   "name": "python3"
  },
  "language_info": {
   "codemirror_mode": {
    "name": "ipython",
    "version": 3
   },
   "file_extension": ".py",
   "mimetype": "text/x-python",
   "name": "python",
   "nbconvert_exporter": "python",
   "pygments_lexer": "ipython3",
   "version": "3.9.12"
  }
 },
 "nbformat": 4,
 "nbformat_minor": 5
}
