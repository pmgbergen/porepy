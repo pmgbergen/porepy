{
 "cells": [
  {
   "cell_type": "markdown",
   "metadata": {
    "vscode": {
     "languageId": "plaintext"
    }
   },
   "source": [
    "# Compositional flow simulation\n",
    "In this tutorial, we provide a step-by-step guide to conducting a compositional flow simulation in porepy. A compositional model is designed to simulate the transport of multiple components within a multi-phase flow system. First, we will present the compositional flow equations for two-phase system-namingly, liquid (L) and vapour (V) comprising salt (NaCl) and water ($\\text{H}_2\\text{O}$) components. We will assume negligible capillary pressure, gravity segregation, chemcical reactions between components, and energy dispersion respectively. Subsequently, we will introduce further assumptions to simplify the model to represent a linear tracer-like setting, with which we will investigate its solution setup in porepy using basically the formulation in `GeothermalFlowModel`class.\n",
    "\n",
    "All mathematical formulations of compositional model, including the different notations and their units used in this tutorial are taken from [Formulation for compositional flow in porous media with\n",
    "gravity effects](https://www.overleaf.com/5672663691knrhbpmwdbfj#51d404 \"Optional Title\")\n"
   ]
  },
  {
   "cell_type": "markdown",
   "metadata": {},
   "source": [
    "## Two-phase two-component problem statement:\n",
    "Given the physical domain $\\Omega \\subset \\mathbb{R}^2,$ along with constant fluid and rock properties data such as porosity, permeability tensor, and constitutive relations. Appropriate boundary and initial condition data are also given. The problem is to find two sets of variables, primary variables, which includes global pressure ($p$), enthalpy(or temperature), and overall molar composition of salt ($z_{NaCl}$) and water ($z_{\\text{H}_2\\text{O}}$) and the secondary variables. Ensuring that the following governing equations are satisfied:\n",
    "1. Pressure equation is given by:\n",
    "\\begin{align*}\n",
    "\\frac{\\partial (\\phi\\rho)}{\\partial t} + \\nabla \\cdot (\\textbf{m}) = 0\n",
    "\\end{align*}\n",
    "2. Mass Conservation for Each Component:\n",
    "For a two-component system of water (H₂O) and salt (NaCl), the conservative equation of water component in the mixture is given as follows:\n",
    "\\begin{align*}\n",
    "\\frac{\\partial (\\phi\\rho z_{H_20})}{\\partial t} + \\nabla \\cdot (f_{H_2O}(\\textbf{m} - \\Delta \\hat{\\rho}_{H_20})) = 0.\n",
    "\\end{align*}\n",
    "At each time step, the salt concentration in the mixture can be computed using the component constraint given by:\n",
    "\\begin{align*}\n",
    "z_{H_2O} + z_{NaCl} = 1.\n",
    "\\end{align*}\n",
    "3. Energy equation of the mixture is given by:\n",
    "\\begin{align*}\n",
    "\\frac{\\partial (\\phi\\rho u + (1 - \\phi)\\rho_s u_s)}{\\partial t} + \\nabla \\cdot ( -(h_{L}(\\textbf{m}_L) + h_{V}(\\textbf{m}_V)  - \\textbf{K}_e\\nabla T )) = 0,\n",
    "\\end{align*}. "
   ]
  },
  {
   "cell_type": "markdown",
   "metadata": {},
   "source": [
    "### Linear tracer formulation:\n",
    "For simplicity, we will assume constant global pressure and temperature with respect to time in the system. Consequently, the pressure and energy equations become negligible in the above model. This assumption leads to the presence of a single liquid (L) phase, eliminating the need to account for multiphase interactions. We will omit the correlation calculations used to determine other phase-behavior thermodynamic properties. In this case, we primarily consider a mass transport equation of a single passive tracer (the NaCl component) in a water medium."
   ]
  },
  {
   "cell_type": "markdown",
   "metadata": {},
   "source": [
    "### Import required modules to simulate linear tracer flow.\n",
    "Here we imports necessary modules and classes from porepy and porepy.composite, sets up the geometry, boundary conditions, initial conditions, and the equations for the compositional flow model."
   ]
  },
  {
   "cell_type": "code",
   "execution_count": 14,
   "metadata": {},
   "outputs": [],
   "source": [
    "from __future__ import annotations\n",
    "import numpy as np\n",
    "import porepy as pp\n",
    "import porepy.composite as ppc\n",
    "from porepy.models.geometry import ModelGeometry\n",
    "from porepy.models.compositional_flow import(\n",
    "    BoundaryConditionsCF,\n",
    "    CFModelMixin,\n",
    "    InitialConditionsCF,\n",
    "    PrimaryEquationsCF,\n",
    ")\n",
    "from porepy.examples.geothermal_flow_via_correlations.LinearTracerConstitutiveDescription import SecondaryEquations,LiquidLikeCorrelations"
   ]
  },
  {
   "cell_type": "markdown",
   "metadata": {},
   "source": [
    "### Domain Geometry\n",
    "we start by defining the geometry of the domain (with specification of fracture type, the boundary points, and grid cell type and sizes) on which we shall solve the tracer model in the porepy sense. This class extends the ModelGeometry class and is customized for a specific 2D benchmark scenario. It overrides several methods to tailor the geometry and meshing process to the requirements of this benchmark model."
   ]
  },
  {
   "cell_type": "code",
   "execution_count": 4,
   "metadata": {},
   "outputs": [],
   "source": [
    "class Benchmark2DC1(ModelGeometry):\n",
    "    def set_fractures(self) -> None:\n",
    "        \"\"\"Sets the fractures specifically for the benchmark 2D case 1.\n",
    "        \"\"\"\n",
    "        self._fractures = pp.applications.md_grids.fracture_sets.benchmark_2d_case_1()\n",
    "    def grid_type(self) -> str:\n",
    "        \"\"\"Specifies the type of grid to be used as simplex.\n",
    "        \"\"\"\n",
    "        return self.params.get(\"grid_type\", \"simplex\")\n",
    "    def meshing_arguments(self) -> dict:\n",
    "        \"\"\"Overrides the meshing_arguments method for the benchmark case, with finer cell size adjustments.\n",
    "        \"\"\"\n",
    "        cell_size = self.solid.convert_units(0.1, \"m\")\n",
    "        mesh_args: dict[str, float] = {\"cell_size\": cell_size}\n",
    "        return mesh_args\n",
    "    def get_inlet_outlet_sides(self, sd: pp.Grid | pp.BoundaryGrid) -> np.ndarray:\n",
    "        \"\"\"Determines the inlet and outlet sides of the grid or boundary grids.\n",
    "        \"\"\"\n",
    "        if isinstance(sd, pp.Grid):\n",
    "            x = sd.face_centers.T\n",
    "        elif isinstance(sd, pp.BoundaryGrid):\n",
    "            x = sd.cell_centers.T\n",
    "        else:\n",
    "            raise ValueError(\"Type not expected.\")\n",
    "        sides = self.domain_boundary_sides(sd)\n",
    "        idx = sides.all_bf\n",
    "        rc = 0.25  # Radius of the sphere for inlet\n",
    "        xc = np.array([0.0, 0.0, 0.0])  # Center of the sphere for inlet\n",
    "        logical = Benchmark2DC1.harvest_sphere_members(xc, rc, x[idx])\n",
    "        inlet_facets = idx[logical]\n",
    "        rc = 0.25  # Radius of the sphere for outlet\n",
    "        xc = np.array([1.0, 1.0, 0.0])  # Center of the sphere for outlet\n",
    "        logical = Benchmark2DC1.harvest_sphere_members(xc, rc, x[idx])\n",
    "        outlet_facets = idx[logical]\n",
    "        return inlet_facets, outlet_facets\n",
    "    @staticmethod\n",
    "    def harvest_sphere_members(xc, rc, x):\n",
    "        \"\"\"Identifies points within a sphere of a given radius and center\n",
    "        \"\"\"\n",
    "        dx = x - xc\n",
    "        r = np.linalg.norm(dx, axis=1)\n",
    "        return np.where(r < rc, True, False)"
   ]
  },
  {
   "cell_type": "markdown",
   "metadata": {},
   "source": [
    "### Boundary Conditions\n",
    "The `BoundaryConditions` class extends the `BoundaryConditionsCF` class to define various boundary conditions for the compositional flow model, including pressure, enthalpy, and component fractions, etc, since the default boundary condition is zero Dirichlet.\n",
    "This class includes methods for setting Dirichlet boundary conditions for different types of flux (Fourier, Darcy, and advective) based on inlet and outlet sides of the grid. Additionally, it provides methods to define boundary conditions for pressure, enthalpy, component fractions, and temperature.\n",
    "To close the above system of linear equations, we consider the following set of boundary conditions for the unknown variables.\n",
    "\n"
   ]
  },
  {
   "cell_type": "code",
   "execution_count": 15,
   "metadata": {},
   "outputs": [],
   "source": [
    "class BoundaryConditions(BoundaryConditionsCF):\n",
    "    \"\"\"See parent class how to set up BC. Default is all zero and Dirichlet.\"\"\"\n",
    "    def bc_type_fourier_flux(self, sd: pp.Grid) -> pp.BoundaryCondition:\n",
    "        \"\"\"Sets Dirichlet boundary conditions for Fourier flux based on inlet and outlet sides.\n",
    "        \"\"\"\n",
    "        facet_idx = np.concatenate(self.get_inlet_outlet_sides(sd))\n",
    "        return pp.BoundaryCondition(sd, facet_idx, \"dir\")\n",
    "\n",
    "    def bc_type_darcy_flux(self, sd: pp.Grid) -> pp.BoundaryCondition:\n",
    "        \"\"\"Sets dirichlet boundary conditions for Darcy flux based on inlet and outlet sides.\n",
    "        \"\"\"\n",
    "        facet_idx = np.concatenate(self.get_inlet_outlet_sides(sd))\n",
    "        return pp.BoundaryCondition(sd, facet_idx, \"dir\")\n",
    "\n",
    "    def bc_type_advective_flux(self, sd: pp.Grid) -> pp.BoundaryCondition:\n",
    "        \"\"\"Sets dirichlet boundary conditions for advective flux based on inlet and outlet sides.\n",
    "        \"\"\"\n",
    "        facet_idx = np.concatenate(self.get_inlet_outlet_sides(sd))\n",
    "        return pp.BoundaryCondition(sd, facet_idx, \"dir\")\n",
    "\n",
    "    def bc_values_pressure(self, boundary_grid: pp.BoundaryGrid) -> np.ndarray:\n",
    "        \"\"\"Sets dirichlet boundary conditions for advective flux based on inlet and outlet sides.\n",
    "        \"\"\"\n",
    "        inlet_idx, outlet_idx = self.get_inlet_outlet_sides(boundary_grid)\n",
    "        p_inlet = 15.0e6\n",
    "        p_outlet = 10.0e6\n",
    "        p = p_inlet * np.ones(boundary_grid.num_cells) \n",
    "        p[inlet_idx] = p_inlet\n",
    "        p[outlet_idx] = p_outlet\n",
    "        return p\n",
    "\n",
    "    def bc_values_enthalpy(self, boundary_grid: pp.BoundaryGrid) -> np.ndarray:\n",
    "        \"\"\"Sets enthalpy boundary conditions for the boundary grid\n",
    "        \"\"\"\n",
    "        inlet_idx, _ = self.get_inlet_outlet_sides(boundary_grid)\n",
    "        h_init = 2.0e6\n",
    "        h_inlet = 2.0e6\n",
    "        h = h_init * np.ones(boundary_grid.num_cells)\n",
    "        h[inlet_idx] = h_inlet\n",
    "        return h\n",
    "\n",
    "    def bc_values_overall_fraction(\n",
    "        self, component: ppc.Component, boundary_grid: pp.BoundaryGrid\n",
    "    ) -> np.ndarray:\n",
    "        \"\"\" Sets Dirichlet boundary conditions for overall composition at the boundary grid\n",
    "        \"\"\"\n",
    "        inlet_idx, _ = self.get_inlet_outlet_sides(boundary_grid)\n",
    "        z_init = 0.15\n",
    "        z_inlet = 1.0\n",
    "        if component.name == \"H2O\":\n",
    "            z_H2O = (1 - z_init) * np.ones(boundary_grid.num_cells)\n",
    "            z_H2O[inlet_idx] = 1 - z_inlet\n",
    "            return z_H2O\n",
    "        else:\n",
    "            z_NaCl = z_init * np.ones(boundary_grid.num_cells)\n",
    "            z_NaCl[inlet_idx] = z_inlet\n",
    "            return z_NaCl\n",
    "\n",
    "    def bc_values_temperature(self, boundary_grid: pp.BoundaryGrid) -> np.ndarray:\n",
    "        \"\"\" Sets Dirichlet boundary conditions for temperature at the boundary grid\n",
    "        \"\"\"\n",
    "        h = self.bc_values_enthalpy(boundary_grid)\n",
    "        factor = 630.0 / 2.0e6\n",
    "        T = factor * h\n",
    "        return T"
   ]
  },
  {
   "cell_type": "markdown",
   "metadata": {},
   "source": [
    "### Initial conditions\n",
    "Here, we specify the the initial condition (at time $t = 0$) data for the unknow variables for all the grid cells as follows:\n",
    "\n",
    "The `InitialConditions` class extends `InitialConditionsCF` to define the initial conditions for the different unknow variables in the compositional flow model.\n",
    "\n"
   ]
  },
  {
   "cell_type": "code",
   "execution_count": 6,
   "metadata": {},
   "outputs": [],
   "source": [
    "class InitialConditions(InitialConditionsCF):\n",
    "    \"\"\"See parent class how to set up BC. Default is all zero and Dirichlet.\n",
    "    \"\"\"\n",
    "    def initial_pressure(self, sd: pp.Grid) -> np.ndarray:\n",
    "        \"\"\"Sets the initial pressure distribution across the grid\n",
    "        \"\"\"\n",
    "        p_init = 15.0e6\n",
    "        p_outlet = 15.0e6\n",
    "        xc = sd.cell_centers.T\n",
    "        def p_D(xv):\n",
    "            p_val = (1-xv[0]/2)*p_init + (xv[0]/2)*p_outlet\n",
    "            return p_val\n",
    "        p_vals = np.fromiter(map(p_D, xc),dtype=float)\n",
    "        return p_vals\n",
    "\n",
    "    def initial_enthalpy(self, sd: pp.Grid) -> np.ndarray:\n",
    "        \"\"\"Sets the initial condition data for enthalpy\n",
    "        \"\"\"\n",
    "        h = 2.0e6\n",
    "        return np.ones(sd.num_cells) * h\n",
    "\n",
    "    def initial_overall_fraction(\n",
    "        self, component: ppc.Component, sd: pp.Grid\n",
    "    ) -> np.ndarray:\n",
    "        \"\"\"Sets the initial condition data for overall fraction of a given component \n",
    "        \"\"\"\n",
    "        z = 0.15\n",
    "        if component.name == \"H2O\":\n",
    "            return (1 - z) * np.ones(sd.num_cells)\n",
    "        else:\n",
    "            return z * np.ones(sd.num_cells)\n",
    "\n",
    "    def initial_temperature(self, sd: pp.Grid) -> np.ndarray:\n",
    "        \"\"\"Computes the initial temperature based on the initial enthalpy\n",
    "        \"\"\"\n",
    "        h = self.initial_enthalpy(sd)\n",
    "        factor = 630.0 / 2.0e6\n",
    "        T = factor * h\n",
    "        return T"
   ]
  },
  {
   "cell_type": "markdown",
   "metadata": {},
   "source": [
    "### Model equations setup\n",
    "\n",
    "The `ModelEquations` class extends `PrimaryEquationsCF` and `SecondaryEquations` to collect primary flow and transport equations, and secondary equations which provide substitutions for independent saturations and partial fractions.\n",
    "\n",
    "This class includes a method `set_equations` to call the equations. The parent classes don't use `super()`, so the user must provide the proper order resolution. This approach is consistent with other models, potentially due to the sparsity pattern.\n",
    "\n",
    "The `set_equations` method first sets the flow and transport equations in the mixed-dimensional (MD) setting by calling `PrimaryEquationsCF.set_equations(self)`, and then handles the local elimination of dangling secondary variables by calling `SecondaryEquations.set_equations(self)`."
   ]
  },
  {
   "cell_type": "code",
   "execution_count": 7,
   "metadata": {},
   "outputs": [],
   "source": [
    "\n",
    "class ModelEquations(\n",
    "    PrimaryEquationsCF,\n",
    "    SecondaryEquations\n",
    "):\n",
    "    \"\"\"Collecting primary flow and transport equations, and secondary equations\n",
    "    which provide substitutions for independent saturations and partial fractions.\n",
    "    \"\"\"\n",
    "    def set_equations(self):\n",
    "        \"\"\"Call to the equation. Parent classes don't use super(). User must provide\n",
    "        proper order resultion.\n",
    "        \"\"\"\n",
    "        # Flow and transport in MD setting\n",
    "        PrimaryEquationsCF.set_equations(self)\n",
    "        # local elimination of dangling secondary variables\n",
    "        SecondaryEquations.set_equations(self)"
   ]
  },
  {
   "cell_type": "markdown",
   "metadata": {},
   "source": [
    "### Define fluid mixture\n",
    "The `FluidMixture` class extends `ppc.FluidMixtureMixin` to create a brine mixture with two components, H2O and NaCl. This class includes methods to set the components, configure the phase properties, and establish dependencies of phase properties. \n",
    "\n",
    "#### Key Methods and Attributes\n",
    "\n",
    "- **enthalpy**: Callable attribute provided by `VariablesEnergyBalance`.\n",
    "\n",
    "- **get_components**: Sets H2O as the reference component, eliminating \\(z_{H2O}\\). It loads species [\"H2O\", \"NaCl\"] and returns a sequence of components.\n",
    "\n",
    "- **get_phase_configuration**: Configures the phase with liquid-like correlations for the components.\n",
    "\n",
    "- **dependencies_of_phase_properties**: Establishes the dependencies of phase properties, including pressure, enthalpy, and the fraction of NaCl.\n",
    "\n",
    "- **set_components_in_phases**: Applies the unified assumption by default, ensuring all components are present in all phases.\n",
    "\n"
   ]
  },
  {
   "cell_type": "code",
   "execution_count": 8,
   "metadata": {},
   "outputs": [],
   "source": [
    "from typing import Callable,Sequence\n",
    "\n",
    "class FluidMixture(ppc.FluidMixtureMixin):\n",
    "    \"\"\"Mixture mixin creating the brine mixture with two components.\"\"\"\n",
    "\n",
    "    enthalpy: Callable[[list[pp.Grid]], pp.ad.MixedDimensionalVariable]\n",
    "    \"\"\"Provided by :class:`~porepy.models.compositional_flow.VariablesEnergyBalance`.\"\"\"\n",
    "\n",
    "    def get_components(self) -> Sequence[ppc.Component]:\n",
    "        \"\"\"Setting H20 as first component in Sequence makes it the reference component.\n",
    "        z_H20 will be eliminated.\n",
    "        \n",
    "        \"\"\"\n",
    "        species = ppc.load_species([\"H2O\", \"NaCl\"])\n",
    "        components = [ppc.Component.from_species(s) for s in species]\n",
    "        return components\n",
    "\n",
    "    def get_phase_configuration(\n",
    "        self, components: Sequence[ppc.Component]\n",
    "    ) -> Sequence[tuple[ppc.AbstractEoS, int, str]]:\n",
    "        \"\"\"Configures the phase with liquid-like correlations for the components.\n",
    "        \"\"\"\n",
    "        eos_L = LiquidLikeCorrelations(components)\n",
    "        return [(eos_L, 0, \"liq\")]\n",
    "\n",
    "    def dependencies_of_phase_properties(\n",
    "        self, phase: ppc.Phase\n",
    "    ) -> Sequence[Callable[[pp.GridLikeSequence], pp.ad.Operator]]:\n",
    "        \"\"\"Establishes the dependencies of phase properties, including pressure, enthalpy, and the fraction of NaCl.\n",
    "        \"\"\"\n",
    "        z_NaCl = [\n",
    "            comp.fraction\n",
    "            for comp in self.fluid_mixture.components\n",
    "            if comp != self.fluid_mixture.reference_component\n",
    "        ]\n",
    "        return [self.pressure, self.enthalpy] + z_NaCl\n",
    "\n",
    "    def set_components_in_phases(\n",
    "        self, components: Sequence[ppc.Component], phases: Sequence[ppc.Phase]\n",
    "    ) -> None:\n",
    "        \"\"\"Applies the unified assumption by default, ensuring all components are present in all phases\n",
    "\n",
    "        \"\"\"\n",
    "        super().set_components_in_phases(components, phases)\n"
   ]
  },
  {
   "cell_type": "markdown",
   "metadata": {},
   "source": [
    "### Complete linear tracer model\n",
    "\n",
    "The `LinearTracerFlowModel` class combines various components to create a model for linear tracer flow. This class extends `Benchmark2DC1`, `FluidMixture`, `InitialConditions`, `BoundaryConditions`, `ModelEquations`, and `CFModelMixin`.\n"
   ]
  },
  {
   "cell_type": "code",
   "execution_count": 9,
   "metadata": {},
   "outputs": [],
   "source": [
    "class LinearTracerFlowModel(\n",
    "    Benchmark2DC1,\n",
    "    FluidMixture,\n",
    "    InitialConditions,\n",
    "    BoundaryConditions,\n",
    "    ModelEquations,\n",
    "    CFModelMixin,\n",
    "):\n",
    "\n",
    "    def relative_permeability(\n",
    "        self, \n",
    "        saturation: pp.ad.Operator\n",
    "    ) -> pp.ad.Operator:\n",
    "        return saturation"
   ]
  },
  {
   "cell_type": "markdown",
   "metadata": {},
   "source": [
    "### Constant solid fluid parameters data.\n",
    "Here we sets up the constant parameters and time stepping configurations required for the linear tracer flow model simulation.\n",
    "\n",
    "##### Time Management\n",
    "The `time_manager` is configured using the `pp.TimeManager` class to handle the simulation schedule, time steps, and iteration settings.\n",
    "\n",
    "- **day**: Number of seconds in a day, defined as \\(86400\\).\n",
    "- **t_scale**: Time scaling factor, set to \\(0.01\\).\n",
    "- **schedule**: Time points for the simulation, from \\(0.0\\) to \\(10 \\times \\text{day} \\times \\text{t_scale}\\).\n",
    "- **dt_init**: Initial time step, set to \\(1.0 \\times \\text{day} \\times \\text{t_scale}\\).\n",
    "- **constant_dt**: Whether the time step is constant, set to `True`.\n",
    "- **iter_max**: Maximum number of iterations, set to `50`.\n",
    "- **print_info**: Whether to print information during simulation, set to `True`.\n",
    "\n",
    "##### Material Constants\n",
    "The `solid_constants` and `material_constants` define the physical properties of the solid material used in the simulation.\n",
    "\n",
    "- **permeability**: Set to $(9.869233 \\times 10^{-14})$.\n",
    "- **porosity**: Set to (0.2).\n",
    "- **thermal_conductivity**: Set to (1.92).\n",
    "\n",
    "#### Simulation Parameters\n",
    "The `params` dictionary collects all the settings and configurations required for the simulation.\n",
    "- **material_constants**: Contains the `solid_constants`.\n",
    "- **eliminate_reference_phase**: Whether to eliminate the reference phase (`s_liq`), set to `True`.\n",
    "- **eliminate_reference_component**: Whether to eliminate the reference component (`z_H2O`), set to `True`.\n",
    "- **time_manager**: Contains the `time_manager` object.\n",
    "- **prepare_simulation**: Whether to prepare the simulation, set to `False`.\n",
    "- **reduce_linear_system_q**: Whether to reduce the linear system, set to `False`.\n",
    "- **petsc_solver_q**: Whether to use the PETSc solver, set to `False`.\n",
    "- **nl_convergence_tol**: Nonlinear convergence tolerance, set to $(1.0 \\times 10^{-3})$.\n",
    "- **max_iterations**: Maximum number of iterations, set to `25`."
   ]
  },
  {
   "cell_type": "code",
   "execution_count": 10,
   "metadata": {},
   "outputs": [],
   "source": [
    "day = 86400\n",
    "t_scale = 0.01\n",
    "time_manager = pp.TimeManager(\n",
    "    schedule=[0.0, 10.0 * day * t_scale],\n",
    "    dt_init=1.0 * day * t_scale,\n",
    "    constant_dt=True,\n",
    "    iter_max=50,\n",
    "    print_info=True,\n",
    ")\n",
    "solid_constants = pp.SolidConstants(\n",
    "    {\"permeability\": 9.869233e-14, \"porosity\": 0.2, \"thermal_conductivity\": 1.92}\n",
    ")\n",
    "material_constants = {\"solid\": solid_constants}\n",
    "params = {\n",
    "    \"material_constants\": material_constants,\n",
    "    \"eliminate_reference_phase\": True,  # s_liq eliminated, default is True\n",
    "    \"eliminate_reference_component\": True,  # z_H2O eliminated, default is True\n",
    "    \"time_manager\": time_manager,\n",
    "    \"prepare_simulation\": False,\n",
    "    \"reduce_linear_system_q\": False,\n",
    "    \"petsc_solver_q\": False,\n",
    "    \"nl_convergence_tol\": 1.0e-3,\n",
    "    \"max_iterations\": 25,\n",
    "}"
   ]
  },
  {
   "cell_type": "markdown",
   "metadata": {},
   "source": [
    "### Run complete simulation\n"
   ]
  },
  {
   "cell_type": "code",
   "execution_count": 11,
   "metadata": {},
   "outputs": [
    {
     "name": "stdout",
     "output_type": "stream",
     "text": [
      "\n",
      "Intel MKL WARNING: Support of Intel(R) Streaming SIMD Extensions 4.2 (Intel(R) SSE4.2) enabled only processors has been deprecated. Intel oneAPI Math Kernel Library 2025.0 will require Intel(R) Advanced Vector Extensions (Intel(R) AVX) instructions.\n",
      "Total number of DoF:  2904\n",
      "Mixed-dimensional grid information:  Mixed-dimensional grid. \n",
      "Maximum dimension present: 2 \n",
      "Minimum dimension present: 0 \n",
      "Size of highest dimensional grid: Cells: 368. Nodes: 261\n",
      "In lower dimensions: \n",
      "6 grids of dimension 1, with in total 46 cells and 64 nodes. \n",
      "9 grids of dimension 0, with in total 9 cells and 0 nodes. \n",
      "Total number of interfaces: 24\n",
      "6 interfaces between grids of dimension 2 and 1 with in total 92 cells.\n",
      "18 interfaces between grids of dimension 1 and 0 with in total 30 cells.\n",
      "\n"
     ]
    }
   ],
   "source": [
    "model = LinearTracerFlowModel(params)\n",
    "model.prepare_simulation()\n",
    "model.exporter.write_vtu()\n",
    "pp.run_time_dependent_model(model,params)\n",
    "print(\"Total number of DoF: \", model.equation_system.num_dofs())\n",
    "print(\"Mixed-dimensional grid information: \", model.mdg)"
   ]
  },
  {
   "cell_type": "markdown",
   "metadata": {},
   "source": [
    "Visualization of the solution to this problem is demonstrated in the GIF below. ParaView for the visualization is used to visualize the transport of a tracer in the medium. "
   ]
  },
  {
   "cell_type": "markdown",
   "metadata": {},
   "source": [
    "<img src='img/linear_tracer_transport.gif'  width=600>"
   ]
  }
 ],
 "metadata": {
  "kernelspec": {
   "display_name": "Python 3 (ipykernel)",
   "language": "python",
   "name": "python3"
  },
  "language_info": {
   "codemirror_mode": {
    "name": "ipython",
    "version": 3
   },
   "file_extension": ".py",
   "mimetype": "text/x-python",
   "name": "python",
   "nbconvert_exporter": "python",
   "pygments_lexer": "ipython3",
   "version": "3.11.8"
  }
 },
 "nbformat": 4,
 "nbformat_minor": 4
}
