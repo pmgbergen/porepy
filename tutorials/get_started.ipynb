{
 "cells": [
  {
   "cell_type": "markdown",
   "metadata": {},
   "source": [
    "# Get started\n",
    "In this tutorial we investigate how to solve single-phase flow in PorePy using a two-point flux approximation.<br>\n",
    "Let is $\\Omega$ a regular domain with boundary $\\partial \\Omega$. The boundary can be divided in two non-overlapping parts useful to impose Dirichlet ($\\partial \\Omega_d$) and Neumann ($\\partial \\Omega_n$) boundary conditions. We indicate with $\\mathbf{n}$ the outward unit normal vector of $\\partial \\Omega$.<br>\n",
    "The single-phase flow can be written as\n",
    "$$ - \\nabla \\cdot K \\nabla p = f $$\n",
    "with boundary conditions on $\\partial \\Omega_d$ and $\\partial \\Omega_n$:\n",
    "$$ p = p_b \\qquad - K \\nabla p \\cdot \\mathbf{n} = u_b$$\n",
    "\n",
    "Where $f$ is a scalar source/sink term, $K$ is the permeability matrix, $p_b$ is the pressure at the boundary (Dirichlet condition), and $u_p$ is the flux at the boundary (Neumann condition).<br>\n",
    "\n",
    "We present *step-by-step* how to create the grid, declare the problem data, and finally solve the problem. <br><br>\n",
    "\n",
    "For the example we assume: $\\Omega = [0, 1]^2$, $\\partial \\Omega_d = \\partial \\Omega$, $\\partial \\Omega_n = \\emptyset$, with data: $f = 1$, $K = I$, and $p_b = 0$."
   ]
  },
  {
   "cell_type": "markdown",
   "metadata": {},
   "source": [
    "## Import modules\n",
    "Before creating the grid we need access to the following PorePy modules and classes:\n",
    "* `plot_grid` plots the grid and the solution using Matplotlib;\n",
    "* `tensor` is used to declare the permeability;\n",
    "* `BoundaryCondition` handles the information useful for the boundary conditions.\n",
    "* `Parameters` contains the physical data for the problem.\n",
    "\n",
    "They are all accessed through the `import porepy as pp` statement. We also use the standard python libraries `numpy` and `scipy.sparse`."
   ]
  },
  {
   "cell_type": "code",
   "execution_count": 1,
   "metadata": {},
   "outputs": [],
   "source": [
    "import numpy as np\n",
    "import scipy.sparse as sps\n",
    "import porepy as pp"
   ]
  },
  {
   "cell_type": "markdown",
   "metadata": {},
   "source": [
    "## Creation of the grid\n",
    "We create a Cartesian grid and compute its geometry. As grids usually refer to a subdomain, the PorePy convention is to name instances `sd`. However, in select contexts we use `g` or `grid`, notably when the grid refers to either a subdomain or interface grid in a mixed-dimensional grid."
   ]
  },
  {
   "cell_type": "code",
   "execution_count": 2,
   "metadata": {},
   "outputs": [],
   "source": [
    "Nx = Ny = 10                                         \n",
    "sd = pp.CartGrid([Nx, Ny], [1, 1])\n",
    "sd.compute_geometry()"
   ]
  },
  {
   "cell_type": "markdown",
   "metadata": {},
   "source": [
    "Represent the grid with additional information: \n",
    "* `info='c'` represents cell information, center and id\n",
    "* `info='f'` represents face information, center and id\n",
    "* `info='n'` represents node information, position and id\n",
    "* `info='o'` represents normal information\n",
    "\n",
    "A combination of the options is possible, the order is not important. <br>\n",
    "\n",
    "**Note**: The `info='all'` is equivalent to `info='cfno'`"
   ]
  },
  {
   "cell_type": "code",
   "execution_count": 3,
   "metadata": {},
   "outputs": [],
   "source": [
    "# pp.plot_grid(sd, info=\"all\", alpha=0, figsize=(15, 12))"
   ]
  },
  {
   "cell_type": "markdown",
   "metadata": {},
   "source": [
    "# Problem data\n",
    "All the data in PorePy are piecewise constant in their respective domain (cells or faces).<br>\n",
    "The simplest way to create an identity tensor is:"
   ]
  },
  {
   "cell_type": "code",
   "execution_count": 4,
   "metadata": {},
   "outputs": [],
   "source": [
    "perm = pp.SecondOrderTensor(np.ones(sd.num_cells))"
   ]
  },
  {
   "cell_type": "markdown",
   "metadata": {},
   "source": [
    "However, the test case has an heterogeneous permeability tensor $K$ and a constant scalar source term $f$. They can be declared as"
   ]
  },
  {
   "cell_type": "code",
   "execution_count": 5,
   "metadata": {},
   "outputs": [],
   "source": [
    "Omega_1 = sd.cell_centers[0, :] < 0.5\n",
    "\n",
    "kxx, kyy, kxy = 1e2*np.ones(sd.num_cells), np.ones(sd.num_cells), 8*np.ones(sd.num_cells)\n",
    "kxx[Omega_1] = np.ones(np.sum(Omega_1))\n",
    "kyy[Omega_1] = 1e2*np.ones(np.sum(Omega_1))\n",
    "perm = pp.SecondOrderTensor(kxx=kxx, kyy=kyy, kxy=kxy)                              \n",
    "f = sd.cell_volumes"
   ]
  },
  {
   "cell_type": "markdown",
   "metadata": {},
   "source": [
    "To impose the boundary conditions we need to create an object of class `BoundaryCondition`. Apart from the grid, it needs the list of the boundary faces and a flag indicating the type of boundary condition:\n",
    "* `'dir'` for Dirichlet\n",
    "* `'neu'` for Neumann\n",
    "\n",
    "The value of the boundary conditions is stored in a vector of lenght `sd.num_faces`.<br>\n",
    "**Note**: The list of face ids needs to be sorted.<br>\n",
    "**Note**: In the case of mixed boundary conditions only one object is required, the flags need to be ordered according to the second argument of the constructor of `BoundaryCondition`."
   ]
  },
  {
   "cell_type": "code",
   "execution_count": 6,
   "metadata": {},
   "outputs": [],
   "source": [
    "b_faces = sd.tags['domain_boundary_faces'].nonzero()[0]\n",
    "\n",
    "labels = np.array(['dir']*b_faces.size)\n",
    "labels[sd.face_centers[1, b_faces] == 1.] = 'neu'\n",
    "\n",
    "bc = pp.BoundaryCondition(sd, b_faces, labels)\n",
    "\n",
    "bc_val = np.zeros(sd.num_faces)\n",
    "bottom = b_faces[sd.face_centers[1, b_faces] == 0.]\n",
    "bc_val[bottom] = np.ones(bottom.size)"
   ]
  },
  {
   "cell_type": "markdown",
   "metadata": {},
   "source": [
    "Once all the data are created we use the data class to group them. Since we solve a flow problem, we use `'flow'` as key for the problem physics."
   ]
  },
  {
   "cell_type": "code",
   "execution_count": 7,
   "metadata": {},
   "outputs": [],
   "source": [
    "specified_parameters = {\"second_order_tensor\": perm, \"source\": f, \"bc\": bc, \"bc_values\": bc_val}\n",
    "data = pp.initialize_default_data(sd, {}, \"flow\", specified_parameters)"
   ]
  },
  {
   "cell_type": "markdown",
   "metadata": {},
   "source": [
    "## Problem solution\n",
    "PorePy implements a common interface for all numerical schemes: it returns the matrix and the right-hand side given the grid and problem data. <br>"
   ]
  },
  {
   "cell_type": "code",
   "execution_count": 8,
   "metadata": {},
   "outputs": [],
   "source": [
    "solver = pp.Tpfa(\"flow\")\n",
    "solver.discretize(sd, data)\n",
    "A, b = solver.assemble_matrix_rhs(sd, data)\n",
    "p = sps.linalg.spsolve(A, b)"
   ]
  },
  {
   "cell_type": "markdown",
   "metadata": {},
   "source": [
    "`plot_grid` is able to represent piecewise constant solutions, scalar and vector fields."
   ]
  },
  {
   "cell_type": "code",
   "execution_count": 9,
   "metadata": {},
   "outputs": [
    {
     "name": "stderr",
     "output_type": "stream",
     "text": [
      "c:\\users\\ivar\\onedrive - university of bergen\\documents\\github\\porepy\\src\\porepy\\viz\\plot_grid.py:197: UserWarning: Attempting to set identical bottom == top == 0.0 results in singular transformations; automatically expanding.\n",
      "  ax.set_zlim3d(z)\n"
     ]
    },
    {
     "data": {
      "image/png": "[encoded data removed]",
      "text/plain": [
       "<Figure size 1080x864 with 2 Axes>"
      ]
     },
     "metadata": {
      "needs_background": "light"
     },
     "output_type": "display_data"
    }
   ],
   "source": [
    "pp.plot_grid(sd, p, figsize=(15, 12))"
   ]
  },
  {
   "cell_type": "markdown",
   "metadata": {},
   "source": [
    "Consistency test with a known solution."
   ]
  },
  {
   "cell_type": "code",
   "execution_count": 10,
   "metadata": {},
   "outputs": [],
   "source": [
    "assert np.isclose(pp.error.norm_L2(sd, p), 0.6041807238769925)"
   ]
  }
 ],
 "metadata": {
  "kernelspec": {
   "display_name": "Python 3 (ipykernel)",
   "language": "python",
   "name": "python3"
  },
  "language_info": {
   "codemirror_mode": {
    "name": "ipython",
    "version": 3
   },
   "file_extension": ".py",
   "mimetype": "text/x-python",
   "name": "python",
   "nbconvert_exporter": "python",
   "pygments_lexer": "ipython3",
   "version": "3.9.12"
  }
 },
 "nbformat": 4,
 "nbformat_minor": 4
}
