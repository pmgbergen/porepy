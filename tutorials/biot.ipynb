{
 "cells": [
  {
   "cell_type": "markdown",
   "metadata": {},
   "source": [
    "# Assembly of the Biot equations\n",
    "\n",
    "In this tutorial we demonstrate how to assemble and solve the multi-physics Biot problem in PorePy. <br>\n",
    "We consider the following discretization schemes:\n",
    "* two-point flux approximation\n",
    "* multi-point flux approximation\n",
    "* dual virtual element method\n",
    "\n",
    "**Note**: This tutorial will focus on a 2d domain, however most of the code works for 1d, 2d, and 3d domains.<br>\n",
    "\n",
    "Let is $\\Omega$ a regular domain with boundary $\\partial \\Omega$. The boundary can be divided in two non-overlapping parts useful to impose Dirichlet ($\\partial \\Omega_d$) and Neumann ($\\partial \\Omega_n$) boundary conditions. We indicate with $\\mathbf{n}$ the outward unit normal vector of $\\partial \\Omega$.<br>\n",
    "The Biot equations in primal formulation read:\n",
    "$$ \\nabla \\cdot \\frac{1}{2}D(\\nabla \\mathbf{u} + \\nabla \\mathbf{u}^T) + \\alpha \\nabla p = F \\\\\n",
    "\\frac{\\partial}{\\partial t}(\\beta p + \\alpha \\nabla \\cdot \\mathbf{u}) + \\nabla \\cdot (\\rho \\mathbf{g} - K \\nabla p) = f$$\n",
    "with boundary conditions on $\\partial \\Omega_d$ and $\\partial \\Omega_n$:\n",
    "$$ p = p_b \\qquad \\quad \\qquad - K \\nabla p \\cdot \\mathbf{n} = v_b$$\n",
    "$$ \\mathbf{u} = \\mathbf{u}_b \\qquad \\frac{1}{2}D(\\nabla \\mathbf{u} + \\nabla \\mathbf{u}^T) \\cdot \\mathbf{n} = t_b$$\n",
    "\n",
    "In the above, the unknowns are the displacements $\\mathbf{u}$ and the pressure $p$. The parameters are the scalar and vector source/sink terms $F$ and $f$, the permeability matrix $K$, the stiffness matrix $D$, the Biot coefficient $\\alpha$, the fluid compressibility and density $\\beta$ and $\\rho$ and the gravity vector $\\mathbf{g}$. $p_b$ is the pressure at the boundary (Dirichlet condition), $v_p$ is the flux at the boundary (Neumann condition), $\\mathbf{u}_b$ is the displacement at the boundary (Dirichlet condition) and $t_b$ is the traction at the boundary (Neumann condition).<br>\n",
    "\n",
    "We present *step-by-step* how to create the grid, declare the problem data, assemble the system of equations and finally solve the problem."
   ]
  },
  {
   "cell_type": "code",
   "execution_count": 1,
   "metadata": {},
   "outputs": [],
   "source": [
    "import numpy as np\n",
    "import scipy.sparse as sps\n",
    "\n",
    "import porepy as pp"
   ]
  },
  {
   "cell_type": "code",
   "execution_count": 2,
   "metadata": {},
   "outputs": [],
   "source": [
    "def make_grid():\n",
    "    # Define a grid for a toy problem\n",
    "    gb = pp.meshing.cart_grid([], [2, 3])\n",
    "    gb.compute_geometry()\n",
    "    gb.assign_node_ordering()\n",
    "    return gb\n"
   ]
  },
  {
   "cell_type": "code",
   "execution_count": 3,
   "metadata": {},
   "outputs": [],
   "source": [
    "def assign_data(g, d, parameter_keyword_flow, parameter_keyword_mechanics):\n",
    "    # Method to assign data.\n",
    "\n",
    "    # We will mainly use default values for parameters, while overriding some of the \n",
    "    # values. \n",
    "\n",
    "    # Assign a non-default permeability, for illustrative purposes\n",
    "    k = 2 * np.ones(g.num_cells)\n",
    "    perm = pp.SecondOrderTensor(gb.dim_max(), k)\n",
    "\n",
    "    bound_faces = g.get_all_boundary_faces()\n",
    "    bound_flow = pp.BoundaryCondition(\n",
    "        g, bound_faces.ravel(\"F\"), [\"dir\"] * bound_faces.size\n",
    "    )\n",
    "    bound_mech = pp.BoundaryConditionVectorial(\n",
    "        g, bound_faces.ravel(\"F\"), [\"dir\"] * bound_faces.size\n",
    "    )\n",
    "    boundary_values_flow = np.zeros(g.num_faces)\n",
    "    boundary_values_flow[0] = 1\n",
    "    # Create a dictionary to override the default parameters\n",
    "    specified_parameters_flow = {\"second_order_tensor\": perm, \"biot_alpha\": 1,\n",
    "                                 \"bc\": bound_flow, \"bc_values\": boundary_values_flow}\n",
    "    specified_parameters_mechanics = {\"biot_alpha\": 1, \"bc\": bound_mech}\n",
    "\n",
    "    # Initialize the parameters for flow and transport.\n",
    "    # The following keywords are used to define which set of default parameters to pick, i.e. the\n",
    "    # type of parameters. For example, initialize_default_data initializes a second order permeability\n",
    "    # tensor in the flow data, and a fourth order stiffness tensor in the mechanics data.\n",
    "    parameter_type_flow = \"flow\"\n",
    "    parameter_type_mechanics = \"mechanics\"\n",
    "    pp.initialize_default_data(g, d, parameter_type_flow, specified_parameters_flow,\n",
    "                               parameter_keyword_flow)\n",
    "    pp.initialize_default_data(g, d, parameter_type_mechanics, specified_parameters_mechanics,\n",
    "                               parameter_keyword_mechanics)\n"
   ]
  },
  {
   "cell_type": "code",
   "execution_count": 4,
   "metadata": {},
   "outputs": [
    {
     "name": "stdout",
     "output_type": "stream",
     "text": [
      "number of ncasym eliminated:  0\n",
      "max igrad:  2.0\n",
      "[[ 6.08437500e+01 -9.92708333e+00 -9.92708333e+00  1.04166667e-02\n",
      "   0.00000000e+00  0.00000000e+00]\n",
      " [-9.92708333e+00  6.08437500e+01  1.04166667e-02 -9.92708333e+00\n",
      "   0.00000000e+00  0.00000000e+00]\n",
      " [-9.92708333e+00  1.04166667e-02  5.07708333e+01 -9.93750000e+00\n",
      "  -9.92708333e+00  1.04166667e-02]\n",
      " [ 1.04166667e-02 -9.92708333e+00 -9.93750000e+00  5.07708333e+01\n",
      "   1.04166667e-02 -9.92708333e+00]\n",
      " [ 0.00000000e+00  0.00000000e+00 -9.92708333e+00  1.04166667e-02\n",
      "   6.08437500e+01 -9.92708333e+00]\n",
      " [ 0.00000000e+00  0.00000000e+00  1.04166667e-02 -9.92708333e+00\n",
      "  -9.92708333e+00  6.08437500e+01]]\n"
     ]
    }
   ],
   "source": [
    "# The practical way of setting up a problem on a single grid\n",
    "# with two variables and multiple terms is described here.\n",
    "\n",
    "# Define a grid\n",
    "gb = make_grid()\n",
    "g = gb.grids_of_dimension(2)[0]\n",
    "d = gb.node_props(g)\n",
    "# Assign data, tagging them with the following keywords\n",
    "kw_f = \"flow\"\n",
    "kw_m = \"mechanics\"\n",
    "assign_data(g, d, kw_f, kw_m)\n",
    "\n",
    "# Discretize the mechanics related terms using the Biot class. This is a\n",
    "# dirty trick to ensure efficient discretization where we re-use the \n",
    "# local gradient systems of MPSA (see pp/numerics/fv/mpsa.py) for all\n",
    "# the mechanical terms involved.\n",
    "biot_discretizer = pp.Biot()\n",
    "biot_discretizer._discretize_mech(g, d)\n",
    "\n",
    "# Variable names\n",
    "v_0 = \"displacement\"\n",
    "v_1 = \"pressure\"\n",
    "# Names of the five terms of the equation + additional stabilization term.\n",
    "# Note that the numbering (i and j in \"term_ij\") corresponds to the Biot\n",
    "# equation as defined above, since stress equals stiffness tensor times the \n",
    "# symmetric gradient of displacement.\n",
    "term_00 = \"stress_divergence\"          # div symmetric grad u\n",
    "term_01 = \"pressure_gradient\"          # alpha grad p\n",
    "term_10 = \"displacement_divergence\"    # d/dt alpha div u\n",
    "term_11_0 = \"fluid_mass\"               # d/dt beta p\n",
    "term_11_1 = \"fluid_flux\"               # div (rho g - K grad p)\n",
    "term_11_2 = \"stabilization\"            #\n",
    "\n",
    "# Store in the data dictionary d\n",
    "d[pp.PRIMARY_VARIABLES] = {v_0: {\"cells\": g.dim}, v_1: {\"cells\": 1}}\n",
    "d[pp.DISCRETIZATION] = {\n",
    "    v_0: {term_00: pp.Mpsa(kw_m)},\n",
    "    v_1: {\n",
    "        term_11_0: pp.MassMatrix(kw_f),\n",
    "        term_11_1: pp.Mpfa(kw_f),\n",
    "        term_11_2: pp.BiotStabilization(kw_f),\n",
    "    },\n",
    "    v_0 + \"_\" + v_1: {term_01: pp.GradP(kw_m)},\n",
    "    v_1 + \"_\" + v_0: {term_10: pp.DivD(kw_m)},\n",
    "}\n",
    "\n",
    "\n",
    "\n",
    "# The task of assembling the linear system is left to a dedicated object:\n",
    "assembler = pp.Assembler()\n",
    "\n",
    "# Assembly of the global linear system can in many cases be carried out by a\n",
    "# single function call of the assembler. Note that for the current problem, \n",
    "# this is not possible. Rather, we had to discretize first by calling\n",
    "# biot_discretizer._discretize_mech(g, d)\n",
    "\n",
    "# Assemble the linear system, using the information stored in the GridBucket\n",
    "A, b, block_dof, full_dof = assembler.assemble_matrix_rhs(gb)\n",
    "\n",
    "# Here, A is the global linear system, and b is the corresponding right hand side.\n",
    "# We can thus obtain the displacement and pressure solution by\n",
    "x = sps.linalg.spsolve(A, b)\n",
    "\n",
    "# The ordering of the unknowns in the global linear system will vary depending \n",
    "# on how the components in the GridBucket are traversed.\n",
    "# Untangling the ordering is a two-stage process:\n",
    "# 1. The system is ordered as a block system, with one block per combination of \n",
    "# primary variable and grid or edge (between grids). This information is stored\n",
    "# in the field block_dof.\n",
    "# 2. For each block, the local degrees of freedom can be obtained from the field\n",
    "# full_dof\n",
    "\n",
    "# To get the block number of a specific primary variable, we need the identifier\n",
    "# of the relevant component in the GridBucket (either the grid, or the edge between\n",
    "# grids), and the variable name.\n",
    "# Getting the grids is easy, there is only one, namely g. Now, the block ordering \n",
    "# is obtained for the two variables \n",
    "block_v0 = block_dof[(g, v_0)]\n",
    "block_v1 = block_dof[(g, v_1)]\n",
    "\n",
    "# full_dof contains the number of dofs per block. To get a global ordering, use\n",
    "global_dof = np.r_[0, np.cumsum(full_dof)]\n",
    "\n",
    "# Get the global displacement and pressure dofs\n",
    "global_displacement_dof = np.arange(global_dof[block_v0], global_dof[block_v0+1])\n",
    "global_pressure_dof = np.arange(global_dof[block_v1], global_dof[block_v1+1])\n",
    "# Print the pressure part of the system matrix\n",
    "print(A.toarray()[global_pressure_dof, :][:, global_pressure_dof])"
   ]
  },
  {
   "cell_type": "code",
   "execution_count": 5,
   "metadata": {},
   "outputs": [
    {
     "name": "stderr",
     "output_type": "stream",
     "text": [
      "/home/ivar/anaconda3/envs/porepy/lib/python3.6/site-packages/mpl_toolkits/mplot3d/axes3d.py:744: UserWarning: Attempting to set identical bottom==top results\n",
      "in singular transformations; automatically expanding.\n",
      "bottom=0.0, top=0.0\n",
      "  'bottom=%s, top=%s') % (bottom, top))\n"
     ]
    },
    {
     "data": {
      "image/png": "[encoded data removed]",
      "text/plain": [
       "<Figure size 1080x864 with 2 Axes>"
      ]
     },
     "metadata": {},
     "output_type": "display_data"
    }
   ],
   "source": [
    "# We visualize the solution cell-wise using PorePy's plotting functionality,\n",
    "# representing the pressure by colors and displacement by arrows. \n",
    "# To plot the displacement vectors, we first need to reshape them\n",
    "# and add a zero value for the z direction. We also scale the values\n",
    "# using the \"vector_scale\" argument for visualization purposes.\n",
    "pressure = x[global_pressure_dof]\n",
    "displacement = x[global_displacement_dof]\n",
    "d = np.reshape(displacement, (2, g.num_cells), 'F')\n",
    "d = np.vstack((d, np.zeros(g.num_cells)))\n",
    "pp.plot_grid(g, pressure, d, figsize=(15, 12), vector_scale=10)"
   ]
  }
 ],
 "metadata": {
  "kernelspec": {
   "display_name": "Python 3",
   "language": "python",
   "name": "python3"
  },
  "language_info": {
   "codemirror_mode": {
    "name": "ipython",
    "version": 3
   },
   "file_extension": ".py",
   "mimetype": "text/x-python",
   "name": "python",
   "nbconvert_exporter": "python",
   "pygments_lexer": "ipython3",
   "version": "3.6.3"
  }
 },
 "nbformat": 4,
 "nbformat_minor": 2
}
