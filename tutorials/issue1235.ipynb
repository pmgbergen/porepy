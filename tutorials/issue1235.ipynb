{
 "cells": [
  {
   "cell_type": "markdown",
   "metadata": {},
   "source": [
    "# Projections of intensive and extensive quantities in PorePy"
   ]
  },
  {
   "cell_type": "markdown",
   "metadata": {},
   "source": [
    "In this tutorial, the focus is to illustrate the use of the projection methods that\n",
    "exist in PorePy. The projection of quantities is done between a pair of subdomains that\n",
    "are exactly one dimension apart, such as e.g. a rock and a fracture. The transfer is\n",
    "done via the use of specific projections to and from the interface between them, where\n",
    "the type of projection method used depends on the type of quantities involved. \n",
    "\n",
    "The two types of quantities we will consider in this tutorial are extensive and\n",
    "intensive quantities:\n",
    "- Extensive quantities depend on the size or amount of the system. Examples include\n",
    "fluxes, mass and total energy. If you divide the system in half, these quantities are\n",
    "also halved.\n",
    "- Intensive quantities are independent of the size or amount of the system. Examples\n",
    "include temperature, pressure and density. These remain the same whether you look at the\n",
    "whole system or just part of it.\n",
    "\n",
    "We will provide examples of projections for both types of quantities."
   ]
  },
  {
   "cell_type": "markdown",
   "metadata": {},
   "source": [
    "## Terminology and concept\n",
    "Consider a fractured domain, like that shown in the left diagram below, which is\n",
    "represented by a mixed-dimensional geometry. Quantities are projected between the\n",
    "fracture (lower-dimensional subdomain, colored in black) and the rock (higher-dimensional subdomain, colored in light grey) through an interface (right diagram,\n",
    "dashed blue).\n",
    "\n",
    "There are in total two grids neighboring an interface, and they are often referred to as\n",
    "primary or secondary grids. Typically, the secondary grid is of the same dimension as\n",
    "the interface, while the primary grid is of one dimension higher.\n",
    "\n",
    "<img src='img/issue1235_frac_intf.png'  width=900>\n",
    "\n",
    "Projecting an arbitrary quantity $\\gamma$ from the higher-dimensional subdomain (primary\n",
    "grid, $\\Omega_h$) to the lower-dimensional subdomain (secondary grid, $\\Omega_l$) is\n",
    "done via the interface, $\\Gamma$. The projection is therefore required to happen in\n",
    "two-steps: first from the primary grid to the interface, and then from the interface to\n",
    "the secondary grid. \n",
    "\n",
    "Mathematically, the process is described as follows: $$ \\Omega_h\\overset{\\Pi_{j}^h\n",
    "\\gamma}{\\longrightarrow} \\Gamma_j\\overset{{\\Xi}_{l}^j (\\beta)}{\\longrightarrow}\n",
    "\\Omega_l, $$ where $$\\beta = \\Pi_{h}^j(\\gamma).$$ Here $\\Pi_{j}^h$ is the projection map\n",
    "from $\\Omega_h$ to $\\Gamma_j,$ and $\\Xi_{l}^j$ is the projection map from $\\Gamma_j$ to\n",
    "$\\Omega_l$."
   ]
  },
  {
   "cell_type": "markdown",
   "metadata": {},
   "source": [
    "# Demonstration of projections\n",
    "We will use a simulation example to demonstrate the workings of the projections of both\n",
    "intensive and extensive quantities for a non-matching grid.\n",
    "\n",
    "## Creation of non-matching mixed-dimensional geometry\n",
    "The model class we will use for the following projection examples is going to be based\n",
    "on the single phase flow model found within PorePy. The modifications we are going to\n",
    "make are to add non-trivial boundary conditions and setting a fractured geometry. \n",
    "\n",
    "To make the mixed-dimensional grid non-matching, we will modify the method\n",
    "`set_geometry`. This is simply done by grabbing the fracture subdomain, defining a new\n",
    "fracture subdomain by refining the old one, and then using the method\n",
    "`replace_subdomains_and_interfaces` to update the mixed-dimensional geometry. In the\n",
    "case demonstrated below, the fracture grid is refined by a ratio of 2. "
   ]
  },
  {
   "cell_type": "code",
   "execution_count": 1,
   "metadata": {},
   "outputs": [
    {
     "name": "stderr",
     "output_type": "stream",
     "text": [
      "c:\\users\\ija008\\programming\\porepy\\src\\porepy\\numerics\\nonlinear\\nonlinear_solvers.py:14: TqdmExperimentalWarning: Using `tqdm.autonotebook.tqdm` in notebook mode. Use `tqdm.tqdm` instead to force console mode (e.g. in jupyter console)\n",
      "  from tqdm.autonotebook import trange  # type: ignore\n"
     ]
    }
   ],
   "source": [
    "import porepy as pp\n",
    "import numpy as np\n",
    "\n",
    "\n",
    "class GeometryAndBC:\n",
    "    \"\"\"Mixin for defining the model geometry and boundary conditions.\"\"\"\n",
    "    \n",
    "    def set_geometry(self) -> None:\n",
    "        \"\"\"Define geometry and create a non-matching mixed-dimensional grid.\"\"\"\n",
    "        super().set_geometry()\n",
    "        \n",
    "        # Refine fracture grid such that the mixed-dimensional geometry is non-matching.\n",
    "        old_fracture_grid = self.mdg.subdomains(dim=1)[0]\n",
    "        new_fracture_grid = pp.refinement.refine_grid_1d(g=old_fracture_grid, ratio=2)\n",
    "        self.mdg.replace_subdomains_and_interfaces(\n",
    "            {old_fracture_grid: new_fracture_grid}\n",
    "        )\n",
    "\n",
    "        # Create projections between local and global coordinates for fracture grids.\n",
    "        pp.set_local_coordinate_projections(self.mdg)\n",
    "\n",
    "    def set_domain(self) -> None:\n",
    "        \"\"\"Defining a two-dimensional rectangular domain.\"\"\"\n",
    "        size = self.units.convert_units(1.0, \"m\")\n",
    "        box: dict[str, pp.number] = {\"xmax\": size, \"ymax\": 2.0 * size}\n",
    "        self._domain = pp.Domain(box)\n",
    "\n",
    "    def meshing_arguments(self) -> dict[str, float]:\n",
    "        \"\"\"Set the meshing arguments.\"\"\"\n",
    "        return self.params.get(\"meshing_arguments\", {\"cell_size\": 0.5})\n",
    "\n",
    "    def set_fractures(self) -> None:\n",
    "        \"\"\"Setting a vertical fracture\"\"\"\n",
    "        frac_1_points = self.units.convert_units(\n",
    "            np.array([[0.5, 0.5], [0.5, 1.5]]), \"m\"\n",
    "        )\n",
    "        frac_1 = pp.LineFracture(frac_1_points)\n",
    "        self._fractures = [frac_1]\n",
    "\n",
    "    def bc_type_darcy_flux(self, sd: pp.Grid) -> pp.BoundaryCondition:\n",
    "        \"\"\"Assign dirichlet to the west and east boundaries.\"\"\"\n",
    "        bounds = self.domain_boundary_sides(sd)\n",
    "        bc = pp.BoundaryCondition(sd, bounds.west + bounds.east, \"dir\")\n",
    "        return bc\n",
    "\n",
    "    def bc_values_pressure(self, boundary_grid: pp.BoundaryGrid) -> np.ndarray:\n",
    "        \"\"\"Assign pressure boundary values for projection tutorial.\n",
    "        \n",
    "        We assign some non-trivial pressure boundary condition values for demonstrating\n",
    "        the projection of quantities between the rock matrix, mortar grids and fracture.\n",
    "        \n",
    "        \"\"\"\n",
    "        bounds = self.domain_boundary_sides(boundary_grid)\n",
    "        values = np.zeros(boundary_grid.num_cells)\n",
    "\n",
    "        y = boundary_grid.cell_centers[1, :][bounds.west]\n",
    "        values[bounds.west] = self.units.convert_units(42 * y, \"Pa\")\n",
    "        values[bounds.east] = self.units.convert_units(24, \"Pa\")\n",
    "        return values"
   ]
  },
  {
   "cell_type": "markdown",
   "metadata": {},
   "source": [
    "We then combine the mixin for the geometry and boundary conditions with the single phase\n",
    "flow model class. Subsequently we run the simulation: "
   ]
  },
  {
   "cell_type": "code",
   "execution_count": 2,
   "metadata": {},
   "outputs": [],
   "source": [
    "class SinglePhaseFlowNonMatchingGrid(GeometryAndBC, pp.SinglePhaseFlow):    \n",
    "    \"\"\"Single phase flow in a fractured domain represented by non-matching grids.\"\"\"\n",
    "\n",
    "params = {}\n",
    "model = SinglePhaseFlowNonMatchingGrid(params)\n",
    "pp.run_time_dependent_model(model, params)"
   ]
  },
  {
   "cell_type": "markdown",
   "metadata": {},
   "source": [
    "We plot the mixed-dimensional grid to visualize the location of the fracture and we plot\n",
    "the fracture grid to visualize that the mixed-dimensional grid is non-matching.\n",
    "\n",
    "In the plot which vizualises the fracture only, fracture cells are indicated in red\n",
    "circles while fracture faces are indicated by yellow diamonds."
   ]
  },
  {
   "cell_type": "code",
   "execution_count": 3,
   "metadata": {},
   "outputs": [
    {
     "data": {
      "image/png": "[encoded data removed]",
      "text/plain": [
       "<Figure size 640x480 with 1 Axes>"
      ]
     },
     "metadata": {},
     "output_type": "display_data"
    },
    {
     "data": {
      "image/png": "[encoded data removed]",
      "text/plain": [
       "<Figure size 640x480 with 1 Axes>"
      ]
     },
     "metadata": {},
     "output_type": "display_data"
    }
   ],
   "source": [
    "pp.plot_grid(model.mdg, fracturewidth_1d=4, plot_2d=True, alpha=0.75)\n",
    "pp.plot_grid(\n",
    "    model.mdg.subdomains(dim=1)[0], \n",
    "    fracturewidth_1d=4, \n",
    "    plot_2d=True, \n",
    "    info=\"cf\")"
   ]
  },
  {
   "cell_type": "markdown",
   "metadata": {},
   "source": [
    "We see in the 2D plot that the fracture (indicated by a bold, black, vertical line) is\n",
    "neighboring two higher-dimensional grid cells on each side. However, as shown in the\n",
    "second plot, the fracture itself has four cells. This means that for each face of the\n",
    "higher-dimensional grid which neighbors the fracture, there are two fracture cells.\n",
    "\n",
    "Specifically, we have the following grid-relations which we will use later:\n",
    "* Fracture cells are numbered 0, 1, 2, 3.\n",
    "* Fracture cells 0 and 1 are neighbors of face 7 and 23 of the matrix.\n",
    "* Fracture cells 2 and 3 are neighbors of face 4 and 22 of the matrix.\n",
    "\n",
    "Additionally we will mention that the cells of the mortar grid match the faces of the\n",
    "matrix. That is, we have a mortar grid with 4 cells (two on each side of the fracture)."
   ]
  },
  {
   "cell_type": "markdown",
   "metadata": {},
   "source": [
    "We now fetch the subdomains and interfaces, and then instantiate the mortar projections.\n",
    "These will be used in the following sections which demonstrate the projections by\n",
    "examples."
   ]
  },
  {
   "cell_type": "code",
   "execution_count": 4,
   "metadata": {},
   "outputs": [],
   "source": [
    "mdg_interfaces = model.mdg.interfaces(codim=1)\n",
    "subdomains = model.interfaces_to_subdomains(mdg_interfaces)\n",
    "rock = subdomains[0]\n",
    "fracture = subdomains[1]\n",
    "\n",
    "projection = pp.ad.MortarProjections(model.mdg, subdomains, mdg_interfaces, dim=1)"
   ]
  },
  {
   "cell_type": "markdown",
   "metadata": {},
   "source": [
    "## Projection of intensive quantities\n",
    "We will here demonstrate projections of an intensive quantity. The projections are done\n",
    "by projection methods found in the MortarProjections class. The projections intended for\n",
    "intensive quantities have a name ending with `_avg`:\n",
    "- `mortar_to_primary_avg`\n",
    "- `mortar_to_secondary_avg`\n",
    "- `primary_to_mortar_avg`\n",
    "- `secondary_to_mortar_avg`\n",
    "\n",
    "In order to project the pressures to the fracture, we need to first take the trace of\n",
    "the pressure. The pressure in the higher-dimensional subdomain is a cell quantity, but\n",
    "as we need a face quantity, we first take the trace of the pressure such that it becomes\n",
    "a face quantity. Acknowledging we need to take the trace, the projection can be divided\n",
    "into two steps: First we project the (traced) pressure from the matrix to the mortar\n",
    "grid, and then we project from the mortar grid to the fracture:"
   ]
  },
  {
   "cell_type": "code",
   "execution_count": 5,
   "metadata": {},
   "outputs": [],
   "source": [
    "pressure_from_h = projection.primary_to_mortar_avg @ model.pressure_trace(subdomains)\n",
    "pressure_from_intf = projection.mortar_to_secondary_avg @ pressure_from_h"
   ]
  },
  {
   "cell_type": "markdown",
   "metadata": {},
   "source": [
    "The resulting quantity, `pressure_from_intf`, receives projected values from both sides\n",
    "of the mortar grid. The contributions from each side are summed together, resulting in\n",
    "the following projected values:"
   ]
  },
  {
   "cell_type": "code",
   "execution_count": 6,
   "metadata": {},
   "outputs": [
    {
     "name": "stdout",
     "output_type": "stream",
     "text": [
      "Projection using MortarProjection: [73.5915493 73.5915493 58.4084507 58.4084507]\n"
     ]
    }
   ],
   "source": [
    "print(\n",
    "    \"Projection using MortarProjection:\", \n",
    "    pressure_from_intf.value(model.equation_system)[-4:]\n",
    ")"
   ]
  },
  {
   "cell_type": "markdown",
   "metadata": {},
   "source": [
    "We will now compute the same projection, but with the use of hard-coded indices instead\n",
    "of the MortarProjection class:"
   ]
  },
  {
   "cell_type": "code",
   "execution_count": 7,
   "metadata": {},
   "outputs": [
    {
     "name": "stdout",
     "output_type": "stream",
     "text": [
      "Projection using hard-coded indices: 73.59154929577466\n",
      "Projection using hard-coded indices: 58.40845070422535\n"
     ]
    }
   ],
   "source": [
    "pressure_trace = model.pressure_trace(subdomains).value(model.equation_system)\n",
    "\n",
    "# Traced pressures neighboring fracture cells 0 and 1:\n",
    "print(\"Projection using hard-coded indices:\", pressure_trace[7] + pressure_trace[23])\n",
    "\n",
    "# Traced pressures neighboring fracture cells 2 and 3:\n",
    "print(\"Projection using hard-coded indices:\", pressure_trace[4] + pressure_trace[22])"
   ]
  },
  {
   "cell_type": "markdown",
   "metadata": {},
   "source": [
    "Projecting from the fracture to the mortar grid means (in this case) that we are\n",
    "projecting _from_ two cells _to_ one cell. \n",
    "\n",
    "The projection works in the following way: the projection of a\n",
    "quantity from (in general) several cells to _one_ cell is done by averaging the values\n",
    "of the (in general) several cells. We will demonstrate this below:"
   ]
  },
  {
   "cell_type": "code",
   "execution_count": 8,
   "metadata": {},
   "outputs": [
    {
     "name": "stdout",
     "output_type": "stream",
     "text": [
      "Projection using MortarProjection: [36.6971831 29.3028169 36.6971831 29.3028169]\n",
      "Projection using hard-coded indices: 36.69718309859155 29.30281690140845\n"
     ]
    }
   ],
   "source": [
    "# Pressure values in the fracture:\n",
    "pressure_fracture_values = model.pressure(subdomains).value(model.equation_system)[-4:]\n",
    "\n",
    "# Pressure values projected from the fracture onto the mortar grid:\n",
    "pressure_l = projection.secondary_to_mortar_avg @ model.pressure(subdomains)\n",
    "pressure_l_value = pressure_l.value(model.equation_system)\n",
    "print(\"Projection using MortarProjection:\", pressure_l_value)\n",
    "\n",
    "# Average values:\n",
    "average_01 = (pressure_fracture_values[0] + pressure_fracture_values[1])/2\n",
    "average_23 = (pressure_fracture_values[2] + pressure_fracture_values[3])/2\n",
    "\n",
    "print(\"Projection using hard-coded indices:\", average_01, average_23)"
   ]
  },
  {
   "cell_type": "markdown",
   "metadata": {},
   "source": [
    "We see in this example that the pressure projected onto the mortar grid from e.g.\n",
    "fracture cells 0 and 1 equals the average of the pressure in fracture cells 0 and 1."
   ]
  },
  {
   "cell_type": "markdown",
   "metadata": {},
   "source": [
    "## Projection of extensive quantities\n",
    "Extensive quantities are projected by use of projection methods that have a name ending\n",
    "with `_int`:\n",
    "- `primary_to_mortar_int`\n",
    "- `secondary_to_mortar_int`\n",
    "- `mortar_to_primary_int`\n",
    "- `mortar_to_secondary_int`\n",
    "\n",
    "In the figure below we see a set of non-matching cells with areas $A_{1}$, $A_{2}$ and\n",
    "$A$. Projecting from one cell to two cells means that the flux is split between the\n",
    "target cells, where the amount of flux per cell is determined by the relative target\n",
    "cell area (compared to that of the original cell).\n",
    "\n",
    "<img src='img/figure_issue_1235.png'  width=900>\n",
    "\n",
    "In the example we are about to show, values are projected to the fracture\n",
    "from two sides. This means that the values in the fracture will be the sum of the values\n",
    "from each mortar side. As the values are projected between non-matching grids, the\n",
    "values are also distributed (in a weighted manner) to all the target fracture cells."
   ]
  },
  {
   "cell_type": "code",
   "execution_count": 9,
   "metadata": {},
   "outputs": [
    {
     "name": "stdout",
     "output_type": "stream",
     "text": [
      "Fluxes projected using MortarProjection: [12.3895984  12.3895984   3.72980459  3.72980459]\n",
      "Fluxes projected by hard-coded indices: 12.389598399753808 3.7298045853208173\n"
     ]
    }
   ],
   "source": [
    "# For demonstrating how the projection works we will fetch the Darcy flux values in the\n",
    "# matrix:\n",
    "darcy_flux_value = model.darcy_flux(subdomains).value(model.equation_system)\n",
    "\n",
    "# The projection of Darcy flux values to the fracture:\n",
    "flux_from_h = projection.primary_to_mortar_int @ model.darcy_flux(subdomains)\n",
    "flux_to_l = projection.mortar_to_secondary_int @ flux_from_h\n",
    "flux_to_l_value = flux_to_l.value(model.equation_system)[-4:]\n",
    "\n",
    "print(\"Fluxes projected using MortarProjection:\", flux_to_l_value)\n",
    "\n",
    "# Sum of fluxes from each side of the fracture, and then divided by two as there are two\n",
    "# fracture cells of equal size:\n",
    "fracture_flux_01 = (darcy_flux_value[23] + darcy_flux_value[7]) / 2\n",
    "fracture_flux_23 = (darcy_flux_value[22] + darcy_flux_value[4]) / 2\n",
    "\n",
    "print(\"Fluxes projected by hard-coded indices:\", fracture_flux_01, fracture_flux_23)"
   ]
  },
  {
   "cell_type": "markdown",
   "metadata": {},
   "source": [
    "We see that the projected values resulting from using MortarProjection (first print) are\n",
    "equal to the projection using hard-coded indices (second print)."
   ]
  },
  {
   "cell_type": "markdown",
   "metadata": {},
   "source": [
    "# What we have explored\n",
    "The projections used to project values between higher and lower dimensional subdomains\n",
    "through an interface. Specifically this is done by considering several examples of\n",
    "projections between non-matching grids."
   ]
  }
 ],
 "metadata": {
  "kernelspec": {
   "display_name": "porepy",
   "language": "python",
   "name": "python3"
  },
  "language_info": {
   "codemirror_mode": {
    "name": "ipython",
    "version": 3
   },
   "file_extension": ".py",
   "mimetype": "text/x-python",
   "name": "python",
   "nbconvert_exporter": "python",
   "pygments_lexer": "ipython3",
   "version": "3.11.0"
  }
 },
 "nbformat": 4,
 "nbformat_minor": 2
}
