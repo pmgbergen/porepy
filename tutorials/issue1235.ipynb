{
 "cells": [
  {
   "cell_type": "markdown",
   "metadata": {},
   "source": [
    "# Projections in PorePy (first draft, large changes might happen)"
   ]
  },
  {
   "cell_type": "markdown",
   "metadata": {},
   "source": [
    "In this tutorial, the focus is to illustrate the use of the projection methods that\n",
    "exist in PorePy. The projection of quantities is done between a pair of subdomains that\n",
    "are exactly one dimension apart, such as e.g. a rock and a fracture. The transfer is\n",
    "done via the use of specific projections to and from the interface between them, where\n",
    "the type of projection method used depends on the type of quantities involved (extensive\n",
    "or intensive properties). \n",
    "\n",
    "In PorePy, the following projection methods exist:\n",
    "\n",
    "1. Projections used for Extensive Quantities (e.g. flux):\n",
    "- `primary_to_mortar_int`\n",
    "- `secondary_to_mortar_int`\n",
    "- `mortar_to_primary_int`\n",
    "- `mortar_to_secondary_int`\n",
    "\n",
    "2. Projections used for Intensive Quantities (e.g. pressure):\n",
    "- `mortar_to_primary_avg`\n",
    "- `mortar_to_secondary_avg`\n",
    "- `primary_to_mortar_avg`\n",
    "- `secondary_to_mortar_avg`"
   ]
  },
  {
   "cell_type": "markdown",
   "metadata": {},
   "source": [
    "## Terminology and concept\n",
    "Consider a fractured domain, like that shown in the left diagram below, which is\n",
    "represented by a mixed-dimensional geometry. Quantities are projected between the\n",
    "fracture (lower dimensional subdomain, colored in black) and the rock (higher\n",
    "dimensional subdomain, colored in light grey) through an interface (right diagram,\n",
    "dashed blue).\n",
    "\n",
    "There are in total two grids neighboring an interface, and they are often referred to as\n",
    "primary or secondary grids. Typically, the secondary grid is of the same dimension as\n",
    "the interface, while the primary grid is of one dimension higher.\n",
    "\n",
    "<img src='img/issue1235_frac_intf.png'  width=900>\n",
    "\n",
    "Projecting an arbitrary quantity $\\gamma$ from the higher dimensional subdomain (primary\n",
    "grid, $\\Omega_h$) to the lower dimensional subdomain (secondary grid, $\\Omega_l$) is\n",
    "done via the interface, $\\Gamma$. The projection is therefore required to happen in\n",
    "two-steps: first from the primary grid to the interface, and then from the interface to\n",
    "the secondary grid. \n",
    "\n",
    "Mathematically, the process is described as follows: $$ \\Omega_h\\overset{\\Pi_{j}^h\n",
    "\\gamma}{\\longrightarrow} \\Gamma_j\\overset{{\\Xi}_{l}^j (\\beta)}{\\longrightarrow}\n",
    "\\Omega_l, $$ where $$\\beta = \\Pi_{h}^j(\\gamma).$$ Here $\\Pi_{j}^h$ is the projection map\n",
    "from $\\Omega_h$ to $\\Gamma_j,$ and $\\Xi_{l}^j$ is the projection map from $\\Gamma_j$ to\n",
    "$\\Omega_l$."
   ]
  },
  {
   "cell_type": "markdown",
   "metadata": {},
   "source": [
    "# Demonstration of projections\n",
    "We will use a simulation example to demonstrate the workings of the projections of both\n",
    "intensive and extensive quantities for a non-matching grid.\n",
    "\n",
    "## Creation of non-matching mixed-dimensional geometry\n",
    "First we define the model and the geometry. The model is based on the single\n",
    "phase flow model found within PorePy"
   ]
  },
  {
   "cell_type": "code",
   "execution_count": 10,
   "metadata": {},
   "outputs": [],
   "source": [
    "import porepy as pp\n",
    "import numpy as np\n",
    "\n",
    "\n",
    "class GeometryAndBC:\n",
    "    \"\"\"Mixins for defining the model geometry and boundary conditions.\"\"\"\n",
    "\n",
    "    def set_domain(self) -> None:\n",
    "        \"\"\"Defining a two-dimensional rectangular domain.\"\"\"\n",
    "        size = self.units.convert_units(1.0, \"m\")\n",
    "        box: dict[str, pp.number] = {\"xmax\": size, \"ymax\": 2.0 * size}\n",
    "        self._domain = pp.Domain(box)\n",
    "\n",
    "    def set_fractures(self) -> None:\n",
    "        \"\"\"Setting a vertical fracture\"\"\"\n",
    "        frac_1_points = self.units.convert_units(\n",
    "            np.array([[0.5, 0.5], [0.5, 1.5]]), \"m\"\n",
    "        )\n",
    "        frac_1 = pp.LineFracture(frac_1_points)\n",
    "        self._fractures = [frac_1]\n",
    "\n",
    "    def bc_type_darcy_flux(self, sd: pp.Grid) -> pp.BoundaryCondition:\n",
    "        \"\"\"Assign dirichlet to the west and east boundaries. The rest are Neumann by default.\"\"\"\n",
    "        bounds = self.domain_boundary_sides(sd)\n",
    "        bc = pp.BoundaryCondition(sd, bounds.west + bounds.east, \"dir\")\n",
    "        return bc\n",
    "\n",
    "    def bc_values_pressure(self, boundary_grid: pp.BoundaryGrid) -> np.ndarray:\n",
    "        \"\"\"Assign pressure boundary values for projection tutorial.\n",
    "        \n",
    "        We assign some non-trivial pressure boundary condition values for demonstrating\n",
    "        the projection of quantities between the rock matrix, mortar grids and fracture.\n",
    "        \n",
    "        \"\"\"\n",
    "        bounds = self.domain_boundary_sides(boundary_grid)\n",
    "        values = np.zeros(boundary_grid.num_cells)\n",
    "\n",
    "        y = boundary_grid.cell_centers[1, :][bounds.west]\n",
    "        values[bounds.west] = self.units.convert_units(2 * y, \"Pa\")\n",
    "        values[bounds.east] = self.units.convert_units(2, \"Pa\")\n",
    "        return values"
   ]
  },
  {
   "cell_type": "markdown",
   "metadata": {},
   "source": [
    "We will modify `prepare_simulation` to make the mixed-dimensional grid non-matching.\n",
    "This is simply done by grabbing the fracture subdomain, defining a new fracture\n",
    "subdomain by refining the old one, and using the method\n",
    "`replace_subdomains_and_interfaces` to update the mixed-dimensional geometry. In the\n",
    "case demonstrated below, the fracture grid is refined by a ratio of 2."
   ]
  },
  {
   "cell_type": "code",
   "execution_count": 11,
   "metadata": {},
   "outputs": [],
   "source": [
    "class SinglePhaseFlowNonMatchingGrid(GeometryAndBC, pp.SinglePhaseFlow):    \n",
    "    def prepare_simulation(self) -> None:\n",
    "        \"\"\"Run at the start of simulation. Used for initialization etc.\"\"\"\n",
    "        self.set_materials()\n",
    "        self.set_geometry()\n",
    "\n",
    "        # Refining the fracture grid such that the mixed-dimensional grid is\n",
    "        # non-matching.\n",
    "        old_frac = self.mdg.subdomains(dim=1)[0]\n",
    "        new_frac = pp.refinement.refine_grid_1d(g=old_frac, ratio=2)\n",
    "        self.mdg.replace_subdomains_and_interfaces({old_frac: new_frac})\n",
    "\n",
    "        self.initialize_data_saving()\n",
    "\n",
    "        self.set_equation_system_manager()\n",
    "        self.create_variables()\n",
    "\n",
    "        self.assign_thermodynamic_properties_to_phases()\n",
    "        self.initial_condition()\n",
    "        self.reset_state_from_file()\n",
    "        self.set_equations()\n",
    "\n",
    "        self.set_discretization_parameters()\n",
    "        self.discretize()\n",
    "        self._initialize_linear_solver()\n",
    "        self.set_nonlinear_discretizations()\n",
    "\n",
    "        # Export initial condition\n",
    "        self.save_data_time_step()\n",
    "\n",
    "params = {\"meshing_arguments\": {\"cell_size\": 0.5}}\n",
    "model = SinglePhaseFlowNonMatchingGrid(params)\n",
    "pp.run_time_dependent_model(model, params)"
   ]
  },
  {
   "cell_type": "markdown",
   "metadata": {},
   "source": [
    "We plot the mixed-dimensional grid to visualize the location of the fracture and we plot\n",
    "the fracture grid to illustrate that the mixed-dimensional grid is non-matching- \n",
    "\n",
    "In the plot which vizualises the fracture only, fracture cells are indicated in red\n",
    "circles while fracture faces are indicated by yellow diamonds."
   ]
  },
  {
   "cell_type": "code",
   "execution_count": 12,
   "metadata": {},
   "outputs": [
    {
     "data": {
      "image/png": "[encoded data removed]",
      "text/plain": [
       "<Figure size 640x480 with 1 Axes>"
      ]
     },
     "metadata": {},
     "output_type": "display_data"
    },
    {
     "data": {
      "image/png": "[encoded data removed]",
      "text/plain": [
       "<Figure size 640x480 with 1 Axes>"
      ]
     },
     "metadata": {},
     "output_type": "display_data"
    }
   ],
   "source": [
    "pp.plot_grid(model.mdg, fracturewidth_1d=4, plot_2d=True)\n",
    "pp.plot_grid(\n",
    "    model.mdg.subdomains(dim=1)[0], \n",
    "    fracturewidth_1d=4, \n",
    "    plot_2d=True, \n",
    "    info=\"cf\")"
   ]
  },
  {
   "cell_type": "markdown",
   "metadata": {},
   "source": [
    "We see in the 2D plot that the fracture (indicated by a bold, black, vertical line) is\n",
    "neighboring two higher-dimensional grid cells on each side. However, the fracture itself\n",
    "has four cells, meaning that for each face of the higher-dimensional grid which\n",
    "neighbors the fracture, there are two fracture cells.\n",
    "\n",
    "Specifically, we have the following grid-relations which we will use later:\n",
    "* Fracture cells are numbered 0, 1, 2, 3.\n",
    "* Fracture cells 0 and 1 are neighbors of face 7 and 23 of the matrix.\n",
    "* Fracture cells 2 and 3 are neighbors of face 4 and 22 of the matrix.\n",
    "\n",
    "Additionally we will mention that the cells of the mortar grid match the faces of the\n",
    "matrix. That is, we have a mortar grid with 4 cells (two on each side of the fracture)."
   ]
  },
  {
   "cell_type": "markdown",
   "metadata": {},
   "source": [
    "We now fetch the subdomains and interfaces, and then instantiate the mortar projections.\n",
    "These will be used in the following sections which demonstrate the projections by\n",
    "examples."
   ]
  },
  {
   "cell_type": "code",
   "execution_count": 13,
   "metadata": {},
   "outputs": [],
   "source": [
    "mdg_interfaces = model.mdg.interfaces(codim=1)\n",
    "subdomains = model.interfaces_to_subdomains(mdg_interfaces)\n",
    "rock = subdomains[0]\n",
    "fracture = subdomains[1]\n",
    "\n",
    "projection = pp.ad.MortarProjections(model.mdg, subdomains, mdg_interfaces, dim=1)"
   ]
  },
  {
   "cell_type": "markdown",
   "metadata": {},
   "source": [
    "## Projection of intensive quantities\n",
    "We will here demonstrate projections of an intensive quantity. The projections are done\n",
    "by projection methods found in the MortarProjections class. The projections intended for\n",
    "intensive quantities have a name ending with `_avg`. \n",
    "\n",
    "First we project the pressure trace from the matrix to the mortar grid, and further from\n",
    "the mortar grid to the fracture:"
   ]
  },
  {
   "cell_type": "code",
   "execution_count": 14,
   "metadata": {},
   "outputs": [],
   "source": [
    "from_higher = projection.primary_to_mortar_avg @ model.pressure_trace(subdomains)\n",
    "to_lower = projection.mortar_to_secondary_avg @ from_higher"
   ]
  },
  {
   "cell_type": "markdown",
   "metadata": {},
   "source": [
    "The resulting quantity, `to_lower`, receives projected values from both sides of the\n",
    "mortar grid. The contributions from each side are summed together, resulting in the\n",
    "following projected values:"
   ]
  },
  {
   "cell_type": "code",
   "execution_count": 15,
   "metadata": {},
   "outputs": [
    {
     "name": "stdout",
     "output_type": "stream",
     "text": [
      "[4.36150235 4.36150235 3.63849765 3.63849765]\n"
     ]
    }
   ],
   "source": [
    "print(to_lower.value(model.equation_system)[-4:])"
   ]
  },
  {
   "cell_type": "markdown",
   "metadata": {},
   "source": [
    "These values are equal to the sum of the traced pressures on each side of the fracture:"
   ]
  },
  {
   "cell_type": "code",
   "execution_count": 16,
   "metadata": {},
   "outputs": [
    {
     "name": "stdout",
     "output_type": "stream",
     "text": [
      "4.36150234741784\n",
      "3.63849765258216\n"
     ]
    }
   ],
   "source": [
    "traced_pressure_values = model.pressure_trace(subdomains).value(model.equation_system)\n",
    "\n",
    "# Traced pressures neighboring fracture cells 0 and 1:\n",
    "print(traced_pressure_values[7] + traced_pressure_values[23])\n",
    "\n",
    "# Traced pressures neighboring fracture cells 2 and 3:\n",
    "print(traced_pressure_values[4] + traced_pressure_values[22])"
   ]
  },
  {
   "cell_type": "markdown",
   "metadata": {},
   "source": [
    "Projecting from the fracture to the mortar grid means (in this case) that we are\n",
    "projecting _from_ two cells _to_ one cell. \n",
    "\n",
    "The projection works in the following way: the projection of a\n",
    "quantity from (in general) several cells to _one_ cell is done by averaging the values\n",
    "of the (in general) several cells. We will demonstrate this below:"
   ]
  },
  {
   "cell_type": "code",
   "execution_count": 17,
   "metadata": {},
   "outputs": [
    {
     "name": "stdout",
     "output_type": "stream",
     "text": [
      "2.176056338028169 1.823943661971831\n",
      "[2.17605634 1.82394366 2.17605634 1.82394366]\n"
     ]
    }
   ],
   "source": [
    "# Pressure values in the fracture:\n",
    "pressure_fracture_values = model.pressure(subdomains).value(model.equation_system)[-4:]\n",
    "\n",
    "# Average values:\n",
    "average_01 = (pressure_fracture_values[0] + pressure_fracture_values[1])/2\n",
    "average_23 = (pressure_fracture_values[2] + pressure_fracture_values[3])/2\n",
    "\n",
    "print(average_01, average_23)\n",
    "\n",
    "# Pressure values projected from the fracture onto the mortar grid:\n",
    "pressure_l = projection.secondary_to_mortar_avg @ model.pressure(subdomains)\n",
    "pressure_l_value = pressure_l.value(model.equation_system)\n",
    "print(pressure_l_value)\n"
   ]
  },
  {
   "cell_type": "markdown",
   "metadata": {},
   "source": [
    "We see in this example that the pressure projected onto the mortar grid from e.g.\n",
    "fracture cells 0 and 1 equals the average of the pressure in fracture cells 0 and 1."
   ]
  },
  {
   "cell_type": "markdown",
   "metadata": {},
   "source": [
    "### Projection of extensive quantities\n",
    "Extensive quantities are projected by use of projection methods that have a name ending\n",
    "with `_int`.\n",
    "\n",
    "In the figure below we see a set of non-matching cells with areas $A_{1}$, $A_{2}$ and\n",
    "$A$. Projecting from one cell to two cells means that the flux is split between the\n",
    "target cells, where the amount of flux per cell is determined by the relative target\n",
    "cell area (compared to that of the original cell).\n",
    "\n",
    "<img src='img/figure_issue_1235.png'  width=900>\n",
    "\n",
    "In the example we are about to show, values are projected to the fracture\n",
    "from two sides. This means that the values in the fracture will be the sum of the values\n",
    "from each mortar side. As the values are projected between non-matching grids, the\n",
    "values are also distributed (in a weighted manner) to all the target fracture cells."
   ]
  },
  {
   "cell_type": "code",
   "execution_count": 18,
   "metadata": {},
   "outputs": [
    {
     "name": "stdout",
     "output_type": "stream",
     "text": [
      "[ 0.20618557  0.20618557 -0.20618557 -0.20618557]\n",
      "0.20618556701030932 -0.20618556701030927\n"
     ]
    }
   ],
   "source": [
    "# For demonstrating how the projection works we will fetch the Darcy flux values in the\n",
    "# matrix:\n",
    "darcy_flux_value = model.darcy_flux(subdomains).value(model.equation_system)\n",
    "\n",
    "# The projection of Darcy flux values to the fracture:\n",
    "flux_from_h = projection.primary_to_mortar_int @ model.darcy_flux(subdomains)\n",
    "flux_to_l = projection.mortar_to_secondary_int @ flux_from_h\n",
    "flux_to_l_value = flux_to_l.value(model.equation_system)[-4:]\n",
    "\n",
    "# Printing the projected flux values\n",
    "print(flux_to_l_value)\n",
    "\n",
    "# Sum of fluxes from each side of the fracture, and then divided by two as there are two\n",
    "# fracture cells of equal size:\n",
    "fracture_flux_01 = (darcy_flux_value[23] + darcy_flux_value[7]) / 2\n",
    "fracture_flux_23 = (darcy_flux_value[22] + darcy_flux_value[4]) / 2\n",
    "\n",
    "# Printing the \"manually\" computed fracture flux values\n",
    "print(fracture_flux_01, fracture_flux_23)"
   ]
  },
  {
   "cell_type": "markdown",
   "metadata": {},
   "source": [
    "We see that the projected values (first print) are equal to the manually computed values\n",
    "(second print)."
   ]
  },
  {
   "cell_type": "markdown",
   "metadata": {},
   "source": [
    "# What we have explored\n",
    "The projections used to project values between higher and lower dimensional subdomains\n",
    "through an interface. Specifically this is done by considering several examples of\n",
    "projections between non-matching grids."
   ]
  }
 ],
 "metadata": {
  "kernelspec": {
   "display_name": "porepy",
   "language": "python",
   "name": "python3"
  },
  "language_info": {
   "codemirror_mode": {
    "name": "ipython",
    "version": 3
   },
   "file_extension": ".py",
   "mimetype": "text/x-python",
   "name": "python",
   "nbconvert_exporter": "python",
   "pygments_lexer": "ipython3",
   "version": "3.11.0"
  }
 },
 "nbformat": 4,
 "nbformat_minor": 2
}
