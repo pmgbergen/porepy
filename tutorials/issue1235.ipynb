{
 "cells": [
  {
   "cell_type": "markdown",
   "metadata": {},
   "source": [
    "# Projections in PorePy (first draft, large changes might happen)"
   ]
  },
  {
   "cell_type": "markdown",
   "metadata": {},
   "source": [
    "In this tutorial, the focus is to illustrate the use of the projection methods that\n",
    "exist in PorePy. The projection of quantities is done between a pair of subdomains that\n",
    "are exactly one dimension apart, such as e.g. a rock and a fracture. The transfer is\n",
    "done via the use of specific projections to and from the interface between them, where\n",
    "the type of projection method used depends on the type of quantities involved (extensive\n",
    "or intensive properties). \n",
    "\n",
    "In PorePy, the following projection methods exist:\n",
    "\n",
    "1. Projections used for Extensive Quantities:\n",
    "-  `primary_to_mortar_int`\n",
    "- `secondary_to_mortar_int`\n",
    "- `mortar_to_primary_int`\n",
    "- `mortar_to_secondary_int`\n",
    "\n",
    "2. Projections used for Intensive Quantities:\n",
    "- `mortar_to_primary_avg`\n",
    "- `mortar_to_secondary_avg`\n",
    "- `primary_to_mortar_avg`\n",
    "- `secondary_to_mortar_avg`"
   ]
  },
  {
   "cell_type": "markdown",
   "metadata": {},
   "source": [
    "## Terminology and concept\n",
    "Assume that we have a fractured domain, like that shown in the left diagram below, which\n",
    "is represented by a mixed-dimensional geometry. Quantities are projected between the\n",
    "fracture (lower dimensional subdomain, colored in black) and the rock (higher\n",
    "dimensional subdomain, colored in light grey) through an interface (right diagram,\n",
    "dashed blue).\n",
    "\n",
    "There is one grid/subdomain on each side of the interface, and in addition to being\n",
    "referred to as subdomains, they are also termed primary and secondary grid. Typically,\n",
    "the primary grid is of one dimension higher than the interface, while the secondary grid\n",
    "is of the same dimension as the interface.\n",
    "\n",
    "<img src='img/issue1235_frac_intf.png'  width=900>\n",
    "\n",
    "We now want to project an arbitrary quantity $\\gamma$ from the higher dimensional\n",
    "subdomain (primary grid, $\\Omega_h$) to the lower dimensional subdomain (secondary grid,\n",
    "$\\Omega_l$). The projection is done via the interface $\\Gamma_j$, and it therefore\n",
    "requires projecting in two-steps: first from the primary grid to the interface, and then\n",
    "from the interface to the secondary grid. \n",
    "\n",
    "Mathematically, the process is described as follows: $$ \\Omega_h\\overset{\\Pi_{j}^h\n",
    "\\gamma}{\\longrightarrow} \\Gamma_j\\overset{{\\Xi}_{l}^j (\\beta)}{\\longrightarrow}\n",
    "\\Omega_l, $$ where $$\\beta = \\Pi_{h}^j(\\gamma).$$ Here:\n",
    "- $\\Pi_{j}^h$: is the projection map from $\\Omega_h$ to $\\Gamma_j,$\n",
    "- $\\Xi_{l}^j$: is the projection map from $\\Gamma_j$ to $\\Omega_l.$\n",
    "\n",
    "For a more detailed explanation of the mathematics underlying these projections, please\n",
    "refer to [this webpage](https://github.com/pmgbergen/porepy/issues/1235).\n"
   ]
  },
  {
   "cell_type": "markdown",
   "metadata": {},
   "source": [
    "## Example of projection of an intensive quantity\n",
    "We are now going to explore projecting an intensive quantity (e.g., pressure) from the\n",
    "primary to the secondary grid. In practice that means that we will use the following two\n",
    "projection methods: `primary_to_mortar_avg` and `mortar_to_secondary_avg`.\n",
    "\n",
    "First we define the mixed-dimensional geometry which represent the fractured domain:\n"
   ]
  },
  {
   "cell_type": "code",
   "execution_count": null,
   "metadata": {},
   "outputs": [],
   "source": [
    "import numpy as np\n",
    "import porepy as pp\n",
    "\n",
    "# Define a rectangular domain in terms of range in the two dimensions\n",
    "bounding_box = {'xmin': 0, 'xmax': 3, 'ymin': 0, 'ymax': 3}\n",
    "domain = pp.Domain(bounding_box=bounding_box)\n",
    "\n",
    "# Define the fracture\n",
    "fracture = pp.LineFracture(\n",
    "    np.array(\n",
    "        [\n",
    "            [1.5, 1.5],\n",
    "            [0.5, 2.5]\n",
    "        ]\n",
    "    )\n",
    ")\n",
    "# Define a fracture network in 2d\n",
    "network_2d = pp.create_fracture_network([fracture], domain)\n",
    "\n",
    "# Set overall target cell size and target cell size close to the fracture.\n",
    "mesh_args: dict[str, float] = {\"cell_size\": 0.5, \"cell_size_fracture\": 0.1} \n",
    "\n",
    "# Generate a mixed-dimensional grid\n",
    "mdg = pp.create_mdg(\"cartesian\", mesh_args, network_2d)"
   ]
  },
  {
   "cell_type": "markdown",
   "metadata": {},
   "source": [
    "We want to project \"pressure\" values, and we therefore generate an array of random\n",
    "\"pressure\"-values:"
   ]
  },
  {
   "cell_type": "code",
   "execution_count": 32,
   "metadata": {},
   "outputs": [],
   "source": [
    "for g in mdg.subdomains():\n",
    "    if g.dim == 2:\n",
    "        prim_faces = g.num_faces\n",
    "primary_pressure = np.random.rand(prim_faces)"
   ]
  },
  {
   "cell_type": "markdown",
   "metadata": {},
   "source": [
    "Now that the values are defined, we project them from the primary grid to the mortar\n",
    "grid, and then from the mortar grid and to the secondary grid:"
   ]
  },
  {
   "cell_type": "code",
   "execution_count": null,
   "metadata": {},
   "outputs": [],
   "source": [
    "# Fetch the interface/mortar grid\n",
    "interface = mdg.interfaces()[0]\n",
    "\n",
    "# Project from the primary grid to the mortar grid\n",
    "mortar_pressure = interface.primary_to_mortar_avg() @ primary_pressure\n",
    "# print(\"Pressure on the mortar grids:\", mortar_pressure)\n",
    "\n",
    "# Project from the mortar grid to the secondary grid\n",
    "secondary_pressure = interface.mortar_to_secondary_avg() @ mortar_pressure\n",
    "# print(\"Projected pressure on secondary grid:\", secondary_pressure)"
   ]
  },
  {
   "cell_type": "markdown",
   "metadata": {},
   "source": [
    "Once the values are projected to the secondary grid we are able to compare whether we\n",
    "obtain the expected values or not. Specifically, we expect that the values on the\n",
    "secondary grid is equal to the sum of the values on each of the mortar sides:"
   ]
  },
  {
   "cell_type": "code",
   "execution_count": 34,
   "metadata": {},
   "outputs": [
    {
     "name": "stdout",
     "output_type": "stream",
     "text": [
      "Expected values on the secondary grid: [1.37739803 1.33558773 1.62133727 0.65985094]\n"
     ]
    }
   ],
   "source": [
    "expected_pressure_on_secondary_grid = (mortar_pressure[:4] + mortar_pressure[4:])\n",
    "print(\"Expected values on the secondary grid:\", expected_pressure_on_secondary_grid)"
   ]
  },
  {
   "cell_type": "markdown",
   "metadata": {},
   "source": [
    "Finally, we check that the values match:"
   ]
  },
  {
   "cell_type": "code",
   "execution_count": 35,
   "metadata": {},
   "outputs": [],
   "source": [
    "assert np.isclose(\n",
    "    secondary_pressure, \n",
    "    expected_pressure_on_secondary_grid\n",
    ").all(), \"Arrays are not close enough\""
   ]
  }
 ],
 "metadata": {
  "kernelspec": {
   "display_name": "porepy",
   "language": "python",
   "name": "python3"
  },
  "language_info": {
   "codemirror_mode": {
    "name": "ipython",
    "version": 3
   },
   "file_extension": ".py",
   "mimetype": "text/x-python",
   "name": "python",
   "nbconvert_exporter": "python",
   "pygments_lexer": "ipython3",
   "version": "3.11.0"
  }
 },
 "nbformat": 4,
 "nbformat_minor": 4
}
