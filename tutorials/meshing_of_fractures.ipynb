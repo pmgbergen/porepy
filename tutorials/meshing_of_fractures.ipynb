{
 "cells": [
  {
   "cell_type": "markdown",
   "metadata": {},
   "source": [
    "# Construction and meshing of fracture networks"
   ]
  },
  {
   "cell_type": "markdown",
   "metadata": {},
   "source": [
    "In this tutorial, we will show:\n",
    "\n",
    "1. How to define fractures and a fracture network in a 3d domain.\n",
    "2. How to construct a family of meshes that represent the 3d domain, the fractures and their intersections.\n",
    "3. Assembly of the grids into a `GridBucket` container that stores all grids, and the geometric relation between them.\n",
    "\n",
    "Together, these are the first steps towards creating a simulation model for a mixed-dimensional problem in fractured domains.\n",
    "\n",
    "\n",
    "## Grid bucket directly from fractures\n",
    "For most simulation purposes, the final grid bucket is all that is needed. Therefore, we start by showing a shortcut for obtaining a `GridBucket` given a set of fractures, a domain and two mesh size parameters. All these will be described in more detail below."
   ]
  },
  {
   "cell_type": "code",
   "execution_count": 1,
   "metadata": {},
   "outputs": [
    {
     "name": "stdout",
     "output_type": "stream",
     "text": [
      "\n",
      "\n",
      "Grid creation completed. Elapsed time 0.04973602294921875\n",
      "\n",
      "\n",
      "Created 1 3-d grids with 3306 cells\n",
      "Created 2 2-d grids with 106 cells\n",
      "Created 1 1-d grids with 3 cells\n",
      "\n",
      "\n"
     ]
    }
   ],
   "source": [
    "import numpy as np\n",
    "import porepy as pp\n",
    "\n",
    "mesh_size_frac = 0.7\n",
    "mesh_size_min = 0.2\n",
    "domain = {'xmin': -2, 'xmax': 3, 'ymin': -2, 'ymax': 3, 'zmin': -3, 'zmax': 3}\n",
    "f_1 = np.array([[0, 1, 2, 0], [0, 0, 1, 1], [0, 0, 1, 1]])\n",
    "f_2 = np.array([[0.5, 0.5, 0.5, 0.5], [-1, 2, 2, -1], [-1, -1, 2, 2]])\n",
    "gb = pp.meshing.simplex_grid([f_1, f_2], domain, mesh_size_frac=mesh_size_frac, mesh_size_min=mesh_size_min, ensure_matching_face_cell=False)"
   ]
  },
  {
   "cell_type": "markdown",
   "metadata": {},
   "source": [
    " Note the option ensure_matching_face_cell=False - this is needed to circumvent some issues with the way gmsh produces grids. As far as we are aware, it has no consequences for the simulation quality, but we are working on fixing it.\n",
    " \n",
    "We will now investigate the process carried out by simplex_grid step by step in order to highlight the inner workings of the meshing algorithm. "
   ]
  },
  {
   "cell_type": "markdown",
   "metadata": {},
   "source": [
    "# Fractures and a fracture network"
   ]
  },
  {
   "cell_type": "markdown",
   "metadata": {},
   "source": [
    "Functionality for fractures and their intersection are provided in the subpackage `porepy.fracs`. Fractures are defined either as Elliptic fractures, or as convex, planar polygons."
   ]
  },
  {
   "cell_type": "code",
   "execution_count": 2,
   "metadata": {},
   "outputs": [],
   "source": [
    "# Specify a fracture by its vertexes, as a 3xn array\n",
    "f_1 = pp.Fracture(f_1)\n",
    "\n",
    "# .. and another fracture, intersecting the first\n",
    "f_2 = pp.Fracture(f_2)\n",
    "               "
   ]
  },
  {
   "cell_type": "markdown",
   "metadata": {},
   "source": [
    "We can also specify the fracture as an ellipsis, approximated as a polygon."
   ]
  },
  {
   "cell_type": "code",
   "execution_count": 3,
   "metadata": {},
   "outputs": [],
   "source": [
    "# Specify the fracture center\n",
    "center = np.array([0.1, 0.3, 0.2])\n",
    "# The minor and major axis\n",
    "major_axis = 1.5\n",
    "minor_axis = 0.5\n",
    "\n",
    "# Rotate the major axis around the center.\n",
    "# Note that the angle is measured in radians\n",
    "major_axis_angle = np.pi/6\n",
    "\n",
    "# So far, the fracture is located in the xy-plane. To define the incline, specify the strike angle, and the dip angle.\n",
    "# Note that the dip rotation is carried out after the major_axis rotation (recall rotations are non-commutative).\n",
    "strike_angle = -np.pi/3\n",
    "dip_angle = -np.pi/3\n",
    "\n",
    "# Finally, the number of points used to approximate the ellipsis. \n",
    "# This is the only optional parameter; if not specified, 16 points will be used.\n",
    "num_pt = 12\n",
    "f_3 = pp.EllipticFracture(center, major_axis, minor_axis, major_axis_angle, strike_angle, dip_angle, num_points=num_pt)"
   ]
  },
  {
   "cell_type": "markdown",
   "metadata": {},
   "source": [
    "The fractures can be joined into a `FractureNetwork`."
   ]
  },
  {
   "cell_type": "code",
   "execution_count": 4,
   "metadata": {},
   "outputs": [],
   "source": [
    "network = pp.FractureNetwork([f_1, f_2, f_3])"
   ]
  },
  {
   "cell_type": "markdown",
   "metadata": {
    "collapsed": true
   },
   "source": [
    "The `FractureNetwork` class is the base for analysis and manipulation of fracture networks. The functionality is expanding on demand. For the moment, the most interesting feature is the export of the fracture network to ParaView (requires the vtk extension of python installed, see installation instruction):"
   ]
  },
  {
   "cell_type": "code",
   "execution_count": 5,
   "metadata": {},
   "outputs": [
    {
     "name": "stderr",
     "output_type": "stream",
     "text": [
      "/home/rbe051/anaconda3/envs/porepy/lib/python3.6/site-packages/vtk/util/numpy_support.py:134: FutureWarning: Conversion of the second argument of issubdtype from `complex` to `np.complexfloating` is deprecated. In future, it will be treated as `np.complex128 == np.dtype(complex).type`.\n",
      "  assert not numpy.issubdtype(z.dtype, complex), \\\n"
     ]
    }
   ],
   "source": [
    "network.to_vtk('fracture_network.vtu')"
   ]
  },
  {
   "cell_type": "markdown",
   "metadata": {},
   "source": [
    "The resulting file can be opened in ParaView. A little bit of work in ParaView gives the following picture"
   ]
  },
  {
   "cell_type": "markdown",
   "metadata": {},
   "source": [
    "<img src=\"fracture_network.png\" width=300>"
   ]
  },
  {
   "cell_type": "markdown",
   "metadata": {},
   "source": [
    "We have not yet set a boundary for the `FractureNetwork`, and effectively for the domain. The boundary is defined as a box, and is imposed in the following way"
   ]
  },
  {
   "cell_type": "code",
   "execution_count": 6,
   "metadata": {},
   "outputs": [],
   "source": [
    "# The domain is a dictionary with fields xmin, xmax, etc.\n",
    "domain = {'xmin': -2, 'xmax': 3, 'ymin': -2, 'ymax': 3, 'zmin': -3, 'zmax': 3}\n",
    "network.impose_external_boundary(domain)"
   ]
  },
  {
   "cell_type": "markdown",
   "metadata": {},
   "source": [
    "Above, we defined the bounding box to not intersect with the fractures. If the domain would have been smaller, fractures that intersect a face of the box would by default (can be overruled) have been truncated so that they are confined within the bounding box."
   ]
  },
  {
   "cell_type": "markdown",
   "metadata": {},
   "source": [
    "# Meshing"
   ]
  },
  {
   "cell_type": "markdown",
   "metadata": {},
   "source": [
    "Our aim is to create a computational mesh that conforms to the fractures, as well as to their intersections (1d lines, 0d points). For the actual grid construction we rely on Gmsh (Triangle / Tetgen will be added in the summer of 2017). However, these packages all require that the geometric constraints, that is the fractures, are described as *non-intersecting* polygons [if you know of packages that do not require this, please let us know]. It only takes some thinking to understand why the meshing software would not like to do this themselves; this is a highly challenging task.\n",
    "\n",
    "PorePy provides functionality for finding intersections between fractures, and splitting them into non-intersecting polygons. Intersections are found by "
   ]
  },
  {
   "cell_type": "code",
   "execution_count": 7,
   "metadata": {},
   "outputs": [],
   "source": [
    "network.find_intersections()"
   ]
  },
  {
   "cell_type": "markdown",
   "metadata": {},
   "source": [
    "To get information on the number of intersections, type"
   ]
  },
  {
   "cell_type": "code",
   "execution_count": 8,
   "metadata": {},
   "outputs": [
    {
     "data": {
      "text/plain": [
       "'In total 9 fractures intersect in 15 intersections'"
      ]
     },
     "execution_count": 8,
     "metadata": {},
     "output_type": "execute_result"
    }
   ],
   "source": [
    "network.intersection_info()"
   ]
  },
  {
   "cell_type": "markdown",
   "metadata": {},
   "source": [
    "When we have found all intersections, the fracture planes should be split into polygons that do not intersect, but that may share edges along intersection lines."
   ]
  },
  {
   "cell_type": "code",
   "execution_count": 9,
   "metadata": {},
   "outputs": [],
   "source": [
    "network.split_intersections()"
   ]
  },
  {
   "cell_type": "markdown",
   "metadata": {},
   "source": [
    "### Geometric tolerances and stability of meshing algorithm\n",
    "A critical concept in meshing of fractured domains is the concept of geometric tolerance: Since we are operating in finite precision aritmethics, two points may or may not be consider equal (or similarly, two lines / planes may or may not intersect), depending on how accurately we consider their representation. At least three concepts come into play here\n",
    "\n",
    "1. The accuracy of the numerical representation of the objects (accumulated effect of finite precision rounding errors).\n",
    "2. The accuracy in geological interpretation of fracture data: If the fracture network originates from an interpretation of satellite images, differences measured in centimeters should be treated with some caution\n",
    "3. The resolution of the computational grid: If points with a certain distance are considered non-equal, this may also require that we resolve their difference in the mesh. In addition, the mesh generator will use its own concept of geometric tolerance for internal calculations.\n",
    "\n",
    "In PorePy, these issues are attempted resolved as follows: The `FractureNetwork` has an attribute `tol` that represent the geometric tolerance used in the calculation of intersections and subsequent splitting of the fractures. If meshing is done with gmsh, the tolerances used in PorePy and gmsh are related. The approach works reasonably well, but for complex configurations of fracture intersections, stability issues can arise. We are working to iprove these matters."
   ]
  },
  {
   "cell_type": "markdown",
   "metadata": {},
   "source": [
    "## Interaction with gmsh\n",
    "\n",
    "Next, create grids for the domain, as well as for fractures and fracture intersections. This involves creating a config file for the mesh generator that contains geometry description, including fracture planes and their intersections. The mesh is then created by calling gmsh (NOTE: The path to the gmsh executable should be specified in a PorePy config file, type 'porepy.utils.read_config?' for more information). The resuling mesh information is read back to python, and `Grid` objects representing the matrix, fractures and fracture intersections are created.\n",
    "\n"
   ]
  },
  {
   "cell_type": "markdown",
   "metadata": {},
   "source": [
    "Gmsh is quite flexible in terms of letting the user set / guide the preferred mesh size in different parts of the domain. PorePy tries to adjust to this adapting the specified mesh size to the geometry. From the user side, two parameters must be specified: mesh_size_frac gives the target mesh size in the absence of geometric constraints, while mesh_size_min gives the minimal mesh size to be specified to Gmsh. What actually happens with the mesh, that is, how Gmsh translates these preferred options into a grid, is another matter. It may take some practice to get this to work properly.\n"
   ]
  },
  {
   "cell_type": "code",
   "execution_count": 10,
   "metadata": {},
   "outputs": [
    {
     "name": "stdout",
     "output_type": "stream",
     "text": [
      "\n",
      "\n",
      "Grid creation completed. Elapsed time 0.17117786407470703\n",
      "\n",
      "\n",
      "Created 1 3-d grids with 4423 cells\n",
      "Created 3 2-d grids with 357 cells\n",
      "Created 3 1-d grids with 14 cells\n",
      "\n",
      "\n"
     ]
    }
   ],
   "source": [
    "mesh_size_frac = 0.7\n",
    "mesh_size_min = 0.2\n",
    "\n",
    "# Create the grids\n",
    "grids = pp.fracs.simplex.tetrahedral_grid(network=network, mesh_size_frac=mesh_size_frac, mesh_size_min=mesh_size_min, verbose=1)"
   ]
  },
  {
   "cell_type": "markdown",
   "metadata": {},
   "source": [
    "As we see from the output, gmsh has created one 3d grid, 3 2d grids (one per fracture) and 3 1d grids along fracture intersections. \n",
    "\n",
    "So far there are no connections between the grids. To do this, we will construct a `GridBucket` from the list of grids. In its core, the `GridBucket` is a graph, where the nodes represent individual grids of the matrix, fractures etc, while the edges are connections between the grids. The `GridBucket` also provides methods to work with the hierarchy of grids.\n",
    "\n",
    "To create the `GridBucket`, we use"
   ]
  },
  {
   "cell_type": "code",
   "execution_count": 11,
   "metadata": {},
   "outputs": [
    {
     "name": "stderr",
     "output_type": "stream",
     "text": [
      "/home/rbe051/uib/porepy/src/porepy/fracs/tools.py:243: UserWarning: Found inconsistency between cells and higher\n",
      "                          dimensional faces. Continuing, fingers crossed\n",
      "  dimensional faces. Continuing, fingers crossed''')\n"
     ]
    }
   ],
   "source": [
    "# For 1d lines, we need to differentiate between those along fracture intersections, and those along fracture tips\n",
    "pp.meshing._tag_faces(grids)\n",
    "\n",
    "# Assemble the grids in a GridBucket\n",
    "gb = pp.meshing._assemble_in_bucket(grids, ensure_matching_face_cell=False)\n",
    "# The keywork ensure matching_face_cell is here set to false. This is due to a bug in gmsh that causes a\n",
    "# missmatch between the lower-dimensinal grid and higher dimensional grid.\n",
    "gb.compute_geometry()"
   ]
  },
  {
   "cell_type": "markdown",
   "metadata": {},
   "source": [
    "Each face in the 3d grid that lies on a fracture will coincide with a cell in the 2d grid. The final step involves to split the face into two, one laying on each side of the fracture, by duplicating the nodes on the fracture surface. Similarly, we split faces of fracture grids that coincide with 1d grids, and 1d faces and 0d grids, respectively.\n",
    "\n",
    "Also create a mapping between the grids on the graph edge."
   ]
  },
  {
   "cell_type": "code",
   "execution_count": 12,
   "metadata": {},
   "outputs": [
    {
     "name": "stdout",
     "output_type": "stream",
     "text": [
      "Before splitting\n",
      "Number of cells: 4423\n",
      "Number of faces: 9410\n",
      "Number of nodes: 1037\n",
      "\n",
      "\n",
      "After splitting\n",
      "Number of cells: 4423\n",
      "Number of faces: 9766\n",
      "Number of nodes: 1198\n"
     ]
    }
   ],
   "source": [
    "# To see the effect of the splitting, consider the number of cells, faces and nodes before and after.\n",
    "def report_grid(gb):\n",
    "    # Find the grid \n",
    "    g = [g for g, _ in gb if g.dim == gb.dim_max()][0]\n",
    "    print('Number of cells: ' + str(g.num_cells))\n",
    "    print('Number of faces: ' + str(g.num_faces))\n",
    "    print('Number of nodes: ' + str(g.num_nodes))\n",
    "\n",
    "print('Before splitting')\n",
    "report_grid(gb)\n",
    "print('\\n')\n",
    "pp.fracs.split_grid.split_fractures(gb)\n",
    "\n",
    "print('After splitting')\n",
    "report_grid(gb)"
   ]
  },
  {
   "cell_type": "markdown",
   "metadata": {},
   "source": [
    "### Full GridBucket with shortcut\n",
    "Remember that we will usually prefer to do all of the above using the shortcut introduced at the very beginning. Seeing as all fractures, the domain and the mesh size parameters are already defined, the full `GridBucket` with all three fractures is constructed by "
   ]
  },
  {
   "cell_type": "code",
   "execution_count": 13,
   "metadata": {},
   "outputs": [
    {
     "name": "stdout",
     "output_type": "stream",
     "text": [
      "\n",
      "\n",
      "Grid creation completed. Elapsed time 0.07212495803833008\n",
      "\n",
      "\n",
      "Created 1 3-d grids with 4423 cells\n",
      "Created 3 2-d grids with 357 cells\n",
      "Created 3 1-d grids with 14 cells\n",
      "\n",
      "\n"
     ]
    },
    {
     "name": "stderr",
     "output_type": "stream",
     "text": [
      "/home/rbe051/uib/porepy/src/porepy/fracs/tools.py:243: UserWarning: Found inconsistency between cells and higher\n",
      "                          dimensional faces. Continuing, fingers crossed\n",
      "  dimensional faces. Continuing, fingers crossed''')\n"
     ]
    }
   ],
   "source": [
    "gb = pp.meshing.simplex_grid([f_1, f_2, f_3], domain, mesh_size_frac=mesh_size_frac, mesh_size_min=mesh_size_min, ensure_matching_face_cell=False)"
   ]
  },
  {
   "cell_type": "markdown",
   "metadata": {},
   "source": [
    "# Visualization of the mixed-dimensional mesh\n",
    "The set of meshes in the `GridBucket` can be dumped to ParaView by simply writing"
   ]
  },
  {
   "cell_type": "code",
   "execution_count": 14,
   "metadata": {},
   "outputs": [
    {
     "name": "stderr",
     "output_type": "stream",
     "text": [
      "/home/rbe051/anaconda3/envs/porepy/lib/python3.6/site-packages/vtk/util/numpy_support.py:134: FutureWarning: Conversion of the second argument of issubdtype from `complex` to `np.complexfloating` is deprecated. In future, it will be treated as `np.complex128 == np.dtype(complex).type`.\n",
      "  assert not numpy.issubdtype(z.dtype, complex), \\\n"
     ]
    }
   ],
   "source": [
    "e = pp.Exporter(gb, 'grid_bucket')\n",
    "e.write_vtk()"
   ]
  },
  {
   "cell_type": "markdown",
   "metadata": {},
   "source": [
    "Again, some manipulations in ParaView show how the grids on fracture surfaces intersects with the matrix grid.\n",
    "\n",
    "<img src='mixed_dimensional_grid.png'  width=200>\n",
    "\n"
   ]
  },
  {
   "cell_type": "markdown",
   "metadata": {},
   "source": [
    "### How about 2d problems?\n",
    "Working with fracture networks in 2d domains, and in particular meshing, is significantly simpler than in 3d. The main reason is that the possible intersection configurations in 2d is much simpler, basically, lines can meet eithen in an X- or a Y-intersection. For this reason, the FractureNetwork class has not been extended to 2d problems; there has simply not been the use for it.\n",
    "\n",
    "This is of course not to say that meshing in 2d is not difficult; but the challenges mainly lie in the actual grid construction, which we outsource to external packages. "
   ]
  },
  {
   "cell_type": "markdown",
   "metadata": {},
   "source": [
    "# Next steps\n",
    "Now that we have created the `GridBucket`, the next step is to solve mixed-dimensional flow and transport problems. This is covered by the tutorial Darcy_equation, among others."
   ]
  }
 ],
 "metadata": {
  "kernelspec": {
   "display_name": "Python 3",
   "language": "python",
   "name": "python3"
  },
  "language_info": {
   "codemirror_mode": {
    "name": "ipython",
    "version": 3
   },
   "file_extension": ".py",
   "mimetype": "text/x-python",
   "name": "python",
   "nbconvert_exporter": "python",
   "pygments_lexer": "ipython3",
   "version": "3.6.3"
  }
 },
 "nbformat": 4,
 "nbformat_minor": 2
}
