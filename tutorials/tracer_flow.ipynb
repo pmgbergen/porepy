{
 "cells": [
  {
   "cell_type": "markdown",
   "metadata": {},
   "source": [
    "# Tracer flow (single-phase, two-component flow)"
   ]
  },
  {
   "cell_type": "markdown",
   "metadata": {},
   "source": [
    "## Introduction\n",
    "\n",
    "This tutorial demonstrates how to set up a single-phase, 2-component model using water\n",
    "and a tracer. The assumptions on the tracer are that it has no effects on the fluid\n",
    "properties or flow dynamics, hence a pure tracer. The spreading of the tracer component\n",
    "throughout the domain is simulated using a hyperbolic transport equation, also referred\n",
    "to as component mass balance for the tracer.\n",
    "\n",
    "The full model is implemented in `porepy.examples.tracer_flow` and a step-by-step guide\n",
    "of the implementation is given here."
   ]
  },
  {
   "cell_type": "markdown",
   "metadata": {},
   "source": [
    "## Mathematical model\n",
    "\n",
    "To understand the required steps and classes, let's first recount the mathematical model.\n",
    "\n",
    "### Single phase flow\n",
    "\n",
    "This model aspect is covered in full detail in the respective [tutorial](./single_phase_flow.ipynb).\n",
    "We recall here that the physics of single phase flow introduce one variable, pressure $p$,\n",
    "and one governing equation, the (total) fluid mass balance:\n",
    "\n",
    "$$\n",
    "\\dfrac{\\partial}{\\partial t}\\left(\\Phi \\rho\\right) - \\nabla\\cdot\\left( \\dfrac{\\rho}{\\mu} \\mathbf{K} \\nabla p\\right) = 0.\n",
    "$$\n",
    "\n",
    "### Transport equation\n",
    "\n",
    "Porepy utilizes the overall fraction formulation for multi-component fluids.\n",
    "The mass corresponding to a component $i$ is represented by an overall fraction $z_i$.\n",
    "One component can arbitrarily be chosen as the reference component and its overall fraction $z_r$\n",
    "is computed by unity of fractions\n",
    "\n",
    "$$\n",
    "z_r = 1 - \\sum_{i\\neq r} z_i,\n",
    "$$\n",
    "i.e. it is a dependent variable. For the sake of our model, we set water as the reference component\n",
    "and the only remaining quantity of interest is the tracer fraction $z$.\n",
    "\n",
    "The mass in one phase is in general also split between the present components, leading to\n",
    "the requirement to introduce partial fractions of a component $i$ in some phase $j$.\n",
    "But since we assume single-phase flow, the fraction of mass of one component in the single phase\n",
    "is due to conservation of mass equal to its overall fraction.\n",
    "\n",
    "This allows us to write the tracer transport equation for the unknown $z$ in the following compact form:\n",
    "\n",
    "$$\n",
    "\\dfrac{\\partial}{\\partial t}\\left(\\Phi \\rho z\\right) - \\nabla\\cdot\\left( \\dfrac{\\rho z}{\\mu} \\mathbf{K} \\nabla p\\right) = 0.\n",
    "$$\n",
    "\n",
    "### Summary\n",
    "\n",
    "In a simplified setting with only 1 phase and 2 components, the variables of interest are\n",
    "\n",
    "- pressure $p$ and\n",
    "- independent overall fraction $z$.\n",
    "\n",
    "The governing equations are given by\n",
    "\n",
    "- total mass balance (pressure equation) and\n",
    "- one component mass balance (tracer transport equation).\n",
    "\n",
    "The extension of this model to the mixed-dimensional setting is a technicality, which can be omitted here.\n",
    "In short, the mass flux between subdomains (*interface darcy flux*) is seen as the flux of overall mass.\n",
    "The mass flux of one component is modelled analogously to the balance equation:\n",
    "The (total) interface darcy flux is scaled down with the fraction $z$.\n",
    "The choice of $z$ on the interface is handled via Upwind-coupling."
   ]
  },
  {
   "cell_type": "markdown",
   "metadata": {},
   "source": [
    "## Building blocks of the PorePy model\n",
    "\n",
    "We start by fetching the single-phase flow physics and classes required to extend the model to two components.\n",
    "Note that the `SinglePhaseFlow` class already includes the pressure variable $p$, the (total) mass balance, and boundary and initial conditions for $p$."
   ]
  },
  {
   "cell_type": "code",
   "execution_count": 1,
   "metadata": {},
   "outputs": [],
   "source": [
    "import porepy as pp\n",
    "from porepy.models.fluid_mass_balance import SinglePhaseFlow\n",
    "\n",
    "# A mixin handling the introduction of required fractional variables for arbitrary mixtures\n",
    "from porepy.compositional.compositional_mixins import CompositionalVariables\n",
    "\n",
    "# Mixins handling BC and IC for fractional variables, and a mixin for the\n",
    "# component mass balance equation for the tracer.\n",
    "from porepy.models.compositional_flow import (\n",
    "    BoundaryConditionsFractions,\n",
    "    ComponentMassBalanceEquations,\n",
    "    InitialConditionsFractions,\n",
    ")"
   ]
  },
  {
   "cell_type": "markdown",
   "metadata": {},
   "source": [
    "We define the two-component fluid now and use some provided values for water.\n",
    "For single-phase flow, the only method we need to override is the one defining the\n",
    "fluid components `get_components`.\n",
    "\n",
    "This method is originally implemented in the `FluidMixin`, which is already part of the `SinglePhaseFlow`.\n",
    "It will by default create a single, liquid-like phase.\n",
    "\n",
    "> Note:\n",
    ">\n",
    ">   The water is chosen as the first component, which (also by default) will set is as the reference component."
   ]
  },
  {
   "cell_type": "code",
   "execution_count": 2,
   "metadata": {},
   "outputs": [],
   "source": [
    "from porepy.applications.material_values.fluid_values import water\n",
    "\n",
    "class TracerFluid:\n",
    "    \"\"\"Setting up a 2-component fluid.\"\"\"\n",
    "\n",
    "    def get_components(self) -> list[pp.FluidComponent]:\n",
    "        \"\"\"Mixed in method defining water as the reference component and a simple\n",
    "        tracer as the second component.\"\"\"\n",
    "\n",
    "        component_1 = pp.FluidComponent(name=\"water\", **water)\n",
    "        component_2 = pp.FluidComponent(name=\"tracer\")\n",
    "        return [component_1, component_2]"
   ]
  },
  {
   "cell_type": "code",
   "execution_count": 3,
   "metadata": {},
   "outputs": [],
   "source": [
    "class ChannelWithFracture:\n",
    "    pass"
   ]
  },
  {
   "cell_type": "code",
   "execution_count": 4,
   "metadata": {},
   "outputs": [],
   "source": [
    "class TracerIC(InitialConditionsFractions):\n",
    "    pass\n",
    "\n",
    "class TracerBC(BoundaryConditionsFractions):\n",
    "    pass"
   ]
  },
  {
   "cell_type": "markdown",
   "metadata": {},
   "source": [
    "Finally, let's define the model set-up using above building blocks.\n",
    "\n",
    "- The domain and the fluid are pure mixins, in the sense that they override some methods\n",
    "  which are already part of `SinglePhaseFlow`.\n",
    "- The `CompositionalVariables` mixin includes functionality to create the tracer fraction $z$.\n",
    "- The `ComponentMassBalanceEquations` will add transport equations for each independent component, which is the tracer in our case.\n",
    "- `TracerIC` and `TracerBC` inherit functionality to set IC and BC for our fraction $z$,\n",
    "  but also contain pure mixed-in methods to override IC and BC for pressure. Those methods are originally part of `SinglePhaseFlow`.\n",
    "  This is done to reduce inheritance tree and avoid troubles with Python's MRO resolution.\n",
    "- Lastly, the `SinglePhaseFlow` is added, which contains also constitutive laws for the phase density and viscosity.\n",
    "  We exploit the default implementation which uses heuristic functions and accesses the `compressibility` and `viscosity` of the water component.\n",
    "  I.e., the tracer has no effect on the thermodynamic properties of the fluid."
   ]
  },
  {
   "cell_type": "code",
   "execution_count": 5,
   "metadata": {},
   "outputs": [],
   "source": [
    "\n",
    "class TracerFlowSetup(\n",
    "    ChannelWithFracture,\n",
    "    TracerFluid,\n",
    "    CompositionalVariables,\n",
    "    ComponentMassBalanceEquations,\n",
    "    TracerBC,\n",
    "    TracerIC,\n",
    "    SinglePhaseFlow,\n",
    "):\n",
    "    \"\"\"Complete set-up for tracer flow modelled as a single phase, 2-component flow\n",
    "    problem.\"\"\""
   ]
  },
  {
   "cell_type": "markdown",
   "metadata": {},
   "source": [
    "## What we have explored\n",
    "\n",
    "1. We have shown how to create a 2-component fluid.\n",
    "2. We have explored the relevant building blocks for a single-phase, 2-component isothermal flow model with heuristic thermodynamic properties.\n",
    "3. The extension to multi-component fluids is trivial. Just add more components and respective IC & BC.\n",
    "4. we have shown the parallels between the mathematical model and representations of individual aspects as PorePy classes. "
   ]
  }
 ],
 "metadata": {
  "kernelspec": {
   "display_name": "Python 3",
   "language": "python",
   "name": "python3"
  },
  "language_info": {
   "codemirror_mode": {
    "name": "ipython",
    "version": 3
   },
   "file_extension": ".py",
   "mimetype": "text/x-python",
   "name": "python",
   "nbconvert_exporter": "python",
   "pygments_lexer": "ipython3",
   "version": "3.11.9"
  }
 },
 "nbformat": 4,
 "nbformat_minor": 2
}
