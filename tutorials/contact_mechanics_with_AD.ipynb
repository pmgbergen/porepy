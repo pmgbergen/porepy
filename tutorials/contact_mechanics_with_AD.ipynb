{
 "cells": [
  {
   "cell_type": "markdown",
   "id": "7336db6e",
   "metadata": {},
   "source": [
    "# Advanced AD application\n",
    "This notebook documents how the algorithmic (or automatic) differentiation framework may be applied to non-linear equations. For an introduction to the framework, see other tutorials on AD.\n",
    "\n",
    "The functions in question are the normal and tangential complementary equations for contact mechanics, which are only semi-smooth (i.e. they are not differentiable everywhere):\n",
    "\n",
    "\\begin{equation}\n",
    "\\begin{aligned}\n",
    "C_n &= \\lambda_n + \\text{max}(0, -\\lambda_n-c_n([[u]]_n-g))\\\\\n",
    "C_{\\tau} &= \\text{max}(0, b) (\\lambda_{\\tau}+c_{\\tau}[[\\dot{u}]]_{\\tau})\n",
    "- \\text{max}(b, ||\\lambda_{\\tau}+c_{\\tau}[[\\dot{u}]]_{\\tau}||)\\lambda_{\\tau},\n",
    "\\end{aligned}\n",
    "\\end{equation}\n",
    "with $b=-F(\\lambda_n+c_n([[u]]_n-g))$ and F, c, and $g$ denoting friction coefficient, numerical constants and the gap function, respectively. See [Hüeber 2008](https://elib.uni-stuttgart.de/handle/11682/4854) for a detailed derivation and discussion and [Stefansson et al. 2021](https://www.sciencedirect.com/science/article/pii/S0045782521004539) for notation.\n",
    "\n",
    "## Implementation\n",
    "The implementation is found within the `ContactMechanics` class. After defining subdomain and interface lists and ad variables, `_assign_equations` calls the methods `_contact_mechanics_normal_equation` and `_contact_mechanics_normal_equation` which compose the equations from subcomponents defined in other methods:"
   ]
  },
  {
   "cell_type": "code",
   "execution_count": 2,
   "id": "4d5d76f4",
   "metadata": {},
   "outputs": [
    {
     "name": "stdout",
     "output_type": "stream",
     "text": [
      "    def _assign_equations(self):\n",
      "        \"\"\"Assign equations to self._eq_manager.\n",
      "\n",
      "        The ad variables are set by a previous call to _assign_ad_variables and\n",
      "        accessed through self._ad.*variable_name*\n",
      "\n",
      "        The following equations are assigned to the equation manager:\n",
      "            \"momentum\" in the nd subdomain\n",
      "            \"contact_mechanics_normal\" in all fracture subdomains\n",
      "            \"contact_mechanics_tangential\" in all fracture subdomains\n",
      "            \"force_balance\" at the matrix-fracture interfaces\n",
      "\n",
      "        Returns\n",
      "        -------\n",
      "        None.\n",
      "\n",
      "        \"\"\"\n",
      "        gb, Nd = self.gb, self._Nd\n",
      "\n",
      "        g_primary: pp.Grid = gb.grids_of_dimension(Nd)[0]\n",
      "        fracture_subdomains: List[pp.Grid] = gb.grids_of_dimension(Nd - 1).tolist()\n",
      "        self._num_frac_cells = np.sum([g.num_cells for g in fracture_subdomains])\n",
      "\n",
      "        matrix_fracture_interfaces = [(g_primary, g) for g in fracture_subdomains]\n",
      "\n",
      "        # Projections between subdomains, rotations etc. must be wrapped into\n",
      "        # ad objects\n",
      "        self._set_ad_projections()\n",
      "\n",
      "        # Construct equations\n",
      "        momentum_eq: pp.ad.Operator = self._momentum_balance_equation([g_primary])\n",
      "        contact_n: pp.ad.Operator = self._contact_mechanics_normal_equation(\n",
      "            fracture_subdomains\n",
      "        )\n",
      "        contact_t: pp.ad.Operator = self._contact_mechanics_tangential_equation(\n",
      "            fracture_subdomains\n",
      "        )\n",
      "        force_balance_eq: pp.ad.Operator = self._force_balance_equation(\n",
      "            [g_primary],\n",
      "            fracture_subdomains,\n",
      "            matrix_fracture_interfaces,\n",
      "        )\n",
      "        # Assign equations to manager\n",
      "        self._eq_manager.name_and_assign_equations(\n",
      "            {\n",
      "                \"momentum\": momentum_eq,\n",
      "                \"contact_mechanics_normal\": contact_n,\n",
      "                \"contact_mechanics_tangential\": contact_t,\n",
      "                \"force_balance\": force_balance_eq,\n",
      "            },\n",
      "        )\n",
      "\n"
     ]
    }
   ],
   "source": [
    "import porepy as pp\n",
    "import numpy as np\n",
    "import inspect\n",
    "\n",
    "model = pp.ContactMechanics({})\n",
    "print(inspect.getsource(model._assign_equations)) "
   ]
  },
  {
   "cell_type": "markdown",
   "id": "6e9d430a",
   "metadata": {},
   "source": [
    "The simpler of the equations is defined as follows:"
   ]
  },
  {
   "cell_type": "code",
   "execution_count": 3,
   "id": "fc0a52a5",
   "metadata": {},
   "outputs": [
    {
     "name": "stdout",
     "output_type": "stream",
     "text": [
      "    def _contact_mechanics_normal_equation(\n",
      "        self,\n",
      "        fracture_subdomains: List[pp.Grid],\n",
      "    ) -> pp.ad.Operator:\n",
      "        \"\"\"\n",
      "        Contact mechanics equation for the normal constraints.\n",
      "\n",
      "        Parameters\n",
      "        ----------\n",
      "        fracture_subdomains : List[pp.Grid]\n",
      "            List of fracture grids.\n",
      "\n",
      "        Returns\n",
      "        -------\n",
      "        equation : pp.ad.Operator\n",
      "            Contact mechanics equation for the normal constraints.\n",
      "\n",
      "        \"\"\"\n",
      "        numerical_c_n = pp.ad.ParameterMatrix(\n",
      "            self.mechanics_parameter_key,\n",
      "            array_keyword=\"c_num_normal\",\n",
      "            grids=fracture_subdomains,\n",
      "        )\n",
      "\n",
      "        T_n: pp.ad.Operator = self._ad.normal_component_frac * self._ad.contact_traction\n",
      "\n",
      "        MaxAd = pp.ad.Function(pp.ad.maximum, \"max_function\")\n",
      "        zeros_frac = pp.ad.Array(np.zeros(self._num_frac_cells))\n",
      "        u_n: pp.ad.Operator = self._ad.normal_component_frac * self._displacement_jump(\n",
      "            fracture_subdomains\n",
      "        )\n",
      "        equation: pp.ad.Operator = T_n + MaxAd(\n",
      "            (-1) * T_n - numerical_c_n * (u_n - self._gap(fracture_subdomains)),\n",
      "            zeros_frac,\n",
      "        )\n",
      "        return equation\n",
      "\n"
     ]
    }
   ],
   "source": [
    "print(inspect.getsource(model._contact_mechanics_normal_equation))"
   ]
  },
  {
   "cell_type": "markdown",
   "id": "edb2ac14",
   "metadata": {},
   "source": [
    "## Non-smooth functions using pp.ad.Function\n",
    "Handling non-smoothness in the AD setting requires the definition of extended derivatives by assigning appropriate values to the Jacobi matrices for the non-smooth function components ($\\text{max}$ and $\\text{abs}$) at the points in question. While this may seem somewhat technical, it is a modest price to pay for handling these equations otherwise straightforwardly using AD. We define standard Python functions and wrap them in `pp.ad.Function` returning `pp.ad.Ad_array`s having a val and a jac attribute. For instance, the maximum value function is defined and used as follows:"
   ]
  },
  {
   "cell_type": "code",
   "execution_count": 7,
   "id": "f87efb7a",
   "metadata": {},
   "outputs": [
    {
     "name": "stdout",
     "output_type": "stream",
     "text": [
      "def maximum(\n",
      "    var0: pp.ad.Ad_array, var1: Union[pp.ad.Ad_array, np.ndarray]\n",
      ") -> pp.ad.Ad_array:\n",
      "    \"\"\"Ad maximum function represented as an Ad_array.\n",
      "\n",
      "    The second argument is allowed to be constant, with a numpy array originally\n",
      "    wrapped in a pp.ad.Array, whereas the first argument is expected to be an\n",
      "    Ad_array originating from a pp.ad.Operator.\n",
      "\n",
      "    Parameters\n",
      "    ----------\n",
      "    var0 : pp.ad.Ad_array\n",
      "        Ad operator (variable or expression).\n",
      "    var1 : Union[pp.ad.Ad_array, pp.ad.Array]\n",
      "        Ad operator (variable or expression) OR ad Array.\n",
      "\n",
      "    Returns\n",
      "    -------\n",
      "    pp.ad.Ad_array\n",
      "        The maximum of var0 and var1 with appropriate val and jac attributes.\n",
      "\n",
      "    \"\"\"\n",
      "    vals = [var0.val.copy()]\n",
      "    jacs = [var0.jac.copy()]\n",
      "    if isinstance(var1, np.ndarray):\n",
      "        vals.append(var1.copy())\n",
      "        jacs.append(sps.csr_matrix(var0.jac.shape))\n",
      "    else:\n",
      "        vals.append(var1.val.copy())\n",
      "        jacs.append(var1.jac.copy())\n",
      "    inds = vals[1] >= vals[0]\n",
      "\n",
      "    max_val = vals[0].copy()\n",
      "    max_val[inds] = vals[1][inds]\n",
      "    max_jac = jacs[0].copy()\n",
      "    max_jac[inds] = jacs[1][inds].copy()\n",
      "    return pp.ad.Ad_array(max_val, max_jac)\n",
      "\n"
     ]
    }
   ],
   "source": [
    "print(inspect.getsource(pp.ad.functions.maximum)) "
   ]
  },
  {
   "attachments": {},
   "cell_type": "markdown",
   "id": "0d9e56b7",
   "metadata": {},
   "source": [
    "## Technical notes on Function wrapping\n",
    "### Argument types\n",
    "The wrapping of a function in the pp.ad.Function class may be slightly confusing in that the function (e.g. `pp.ad.functions.max`) takes an `Ad_array` as its argument, whereas the Function instance (e.g. `MaxAd` above) expects an `Operator`, which represents an ad variable or compound expression. The explanation lies in how the Function is *parsed* (\"evaluated\"), which involves the `MaxAd` asking its `_function` to operate on the values and jacobians of `var0` and `var1`, which are represented through an `Ad_array`. Puh!\n",
    "\n",
    "### Chain rule\n",
    "An ad `Funtion` is parsed as follows by `pp.ad.Operator._parse_operator`:\n",
    "```\n",
    "elif tree.op == Operation.evaluate:\n",
    "    # This is a function, which should have at least one argument\n",
    "    assert len(results) > 1\n",
    "    return results[0].func(*results[1:])\n",
    "```\n",
    "That is, it calls the wrapped function on the ad array produced by parsing of the function argument(s). This means that the chain rule should be applied internally in the function. For a generic funtion `f` of a single variable `var` with derivative `f_prime` with respect to `var`, we have\n",
    "```\n",
    "def function_to_be_wrapped(var: pp.ad.Ad_array) -> pp.ad.Ad_array:\n",
    "    var = f(var)\n",
    "    df_dvar = f_prime(var)\n",
    "    # Chain rule:\n",
    "    jac = var.diagvec_mul_jac(df_dvar)\n",
    "    return  pp.ad.Ad_array(var, jac)\n",
    "```"
   ]
  },
  {
   "cell_type": "markdown",
   "id": "c4b16d5c",
   "metadata": {},
   "source": [
    "### Partial functions\n",
    "Some functions depend on arguments which do not have anything to do with ad. Instead of having to wrap such arguments in AD objects to be evaluated as part of parsing of the Function, one can exploit partial evaluation. For instance, the `pp.ad.functions.l2_norm` function for cell-wise vectors has been implemented for an arbitrary number of vector components. It is applied in the definition of the gap, which depends on the norm of tangential displacement jumps. The number of tangential components equals the dimension of the fracture, i.e. $nd - 1$:"
   ]
  },
  {
   "cell_type": "code",
   "execution_count": 5,
   "id": "183e23c5",
   "metadata": {},
   "outputs": [
    {
     "name": "stdout",
     "output_type": "stream",
     "text": [
      "    def _gap(\n",
      "        self,\n",
      "        fracture_subdomains: List[pp.Grid],\n",
      "    ) -> pp.ad.Operator:\n",
      "        \"\"\"Gap function.\n",
      "\n",
      "        The gap function includes an initial (constant) value and shear dilation.\n",
      "        It depends linearly on the norm of tangential displacement jump:\n",
      "            g = g_0 + tan(dilation_angle) * norm([[u]]_t)\n",
      "\n",
      "        Parameters\n",
      "        ----------\n",
      "        fracture_subdomains : List[pp.Grid]\n",
      "            List of fracture grids.\n",
      "\n",
      "        Returns\n",
      "        -------\n",
      "        gap : pp.ad.Operator\n",
      "            Gap function representing the distance between the fracture\n",
      "            interfaces when in mechanical contact.\n",
      "\n",
      "        \"\"\"\n",
      "        initial_gap: pp.ad.Operator = pp.ad.ParameterArray(\n",
      "            self.mechanics_parameter_key,\n",
      "            array_keyword=\"initial_gap\",\n",
      "            grids=fracture_subdomains,\n",
      "        )\n",
      "        angle: pp.ad.Operator = pp.ad.ParameterArray(\n",
      "            self.mechanics_parameter_key,\n",
      "            array_keyword=\"dilation_angle\",\n",
      "            grids=fracture_subdomains,\n",
      "        )\n",
      "        Norm = pp.ad.Function(\n",
      "            partial(pp.ad.functions.l2_norm, self._Nd - 1), \"norm_function\"\n",
      "        )\n",
      "        Tan = pp.ad.Function(pp.ad.functions.tan, \"tan_function\")\n",
      "        shear_dilation: pp.ad.Operator = Tan(angle) * Norm(\n",
      "            self._ad.tangential_component_frac\n",
      "            * self._displacement_jump(fracture_subdomains)\n",
      "        )\n",
      "\n",
      "        gap = initial_gap + shear_dilation\n",
      "        gap.set_name(\"gap_with_shear_dilation\")\n",
      "        return gap\n",
      "\n"
     ]
    }
   ],
   "source": [
    "print(inspect.getsource(model._gap))"
   ]
  }
 ],
 "metadata": {
  "kernelspec": {
   "display_name": "Python 3 (ipykernel)",
   "language": "python",
   "name": "python3"
  },
  "language_info": {
   "codemirror_mode": {
    "name": "ipython",
    "version": 3
   },
   "file_extension": ".py",
   "mimetype": "text/x-python",
   "name": "python",
   "nbconvert_exporter": "python",
   "pygments_lexer": "ipython3",
   "version": "3.9.7"
  }
 },
 "nbformat": 4,
 "nbformat_minor": 5
}
