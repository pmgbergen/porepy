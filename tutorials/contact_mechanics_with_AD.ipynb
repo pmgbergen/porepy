{
 "cells": [
  {
   "attachments": {},
   "cell_type": "markdown",
   "id": "7336db6e",
   "metadata": {},
   "source": [
    "# Advanced AD application\n",
    "This notebook documents how the automatic (or algorithmic) differentiation framework may be applied to non-linear equations. For an introduction to the framework, see the [automatic differentiation](./automatic_differentiation.ipynb) notebook.\n",
    "\n",
    "The functions in question are the normal and tangential complementary equations for contact mechanics, which are only semi-smooth (i.e. they are not differentiable everywhere):\n",
    "\n",
    "\\begin{equation}\n",
    "\\begin{aligned}\n",
    "C_n &= \\lambda_n + \\text{max}(0, -\\lambda_n-c_n([[u]]_n-g))\\\\\n",
    "C_{\\tau} &= \\text{max}(0, b) (\\lambda_{\\tau}+c_{\\tau}[[\\dot{u}]]_{\\tau})\n",
    "- \\text{max}(b, ||\\lambda_{\\tau}+c_{\\tau}[[\\dot{u}]]_{\\tau}||)\\lambda_{\\tau},\n",
    "\\end{aligned}\n",
    "\\end{equation}\n",
    "with $b=-F(\\lambda_n+c_n([[u]]_n-g))$ and F, c, and $g$ denoting friction coefficient, numerical constants and the gap function, respectively. See [Hüeber 2008](https://elib.uni-stuttgart.de/handle/11682/4854) for a detailed derivation and discussion and [Stefansson et al. 2021](https://www.sciencedirect.com/science/article/pii/S0045782521004539) for notation.\n",
    "\n",
    "## Implementation\n",
    "The implementation is found within the `MomentumBalance` class. After defining subdomain and interface ad variables, `set_equations` calls the methods `tangential_fracture_deformation_equation` and `normal_fracture_deformation_equation` which compose the equations from subcomponents defined in other methods:"
   ]
  },
  {
   "cell_type": "code",
   "execution_count": 1,
   "id": "4d5d76f4",
   "metadata": {},
   "outputs": [
    {
     "name": "stdout",
     "output_type": "stream",
     "text": [
      "    def set_equations(self):\n",
      "        \"\"\"Set equations for the subdomains and interfaces.\n",
      "\n",
      "        The following equations are set:\n",
      "            - Momentum balance in the matrix.\n",
      "            - Force balance between fracture interfaces.\n",
      "            - Deformation constraints for fractures, split into normal and tangential\n",
      "              part.\n",
      "\n",
      "        See individual equation methods for details.\n",
      "\n",
      "        \"\"\"\n",
      "        matrix_subdomains = self.mdg.subdomains(dim=self.nd)\n",
      "        fracture_subdomains = self.mdg.subdomains(dim=self.nd - 1)\n",
      "        interfaces = self.mdg.interfaces(dim=self.nd - 1)\n",
      "        matrix_eq = self.momentum_balance_equation(matrix_subdomains)\n",
      "        # We split the fracture deformation equations into two parts, for the normal and\n",
      "        # tangential components for convenience.\n",
      "        fracture_eq_normal = self.normal_fracture_deformation_equation(\n",
      "            fracture_subdomains\n",
      "        )\n",
      "        fracture_eq_tangential = self.tangential_fracture_deformation_equation(\n",
      "            fracture_subdomains\n",
      "        )\n",
      "        intf_eq = self.interface_force_balance_equation(interfaces)\n",
      "        self.equation_system.set_equation(\n",
      "            matrix_eq, matrix_subdomains, {\"cells\": self.nd}\n",
      "        )\n",
      "        self.equation_system.set_equation(\n",
      "            fracture_eq_normal, fracture_subdomains, {\"cells\": 1}\n",
      "        )\n",
      "        self.equation_system.set_equation(\n",
      "            fracture_eq_tangential, fracture_subdomains, {\"cells\": self.nd - 1}\n",
      "        )\n",
      "        self.equation_system.set_equation(intf_eq, interfaces, {\"cells\": self.nd})\n",
      "\n"
     ]
    }
   ],
   "source": [
    "import porepy as pp\n",
    "import numpy as np\n",
    "import inspect\n",
    "\n",
    "model = pp.momentum_balance.MomentumBalance({})\n",
    "print(inspect.getsource(model.set_equations)) "
   ]
  },
  {
   "cell_type": "markdown",
   "id": "6e9d430a",
   "metadata": {},
   "source": [
    "The simpler of the equations is defined as follows:"
   ]
  },
  {
   "cell_type": "code",
   "execution_count": 2,
   "id": "fc0a52a5",
   "metadata": {},
   "outputs": [
    {
     "name": "stdout",
     "output_type": "stream",
     "text": [
      "    def normal_fracture_deformation_equation(self, subdomains: list[pp.Grid]):\n",
      "        \"\"\"Equation for the normal component of the fracture deformation.\n",
      "\n",
      "        This constraint equation enforces non-penetration of opposing fracture\n",
      "        interfaces.\n",
      "\n",
      "        Parameters:\n",
      "            subdomains: List of subdomains where the normal deformation equation is\n",
      "            defined.\n",
      "\n",
      "        Returns:\n",
      "            Operator for the normal deformation equation.\n",
      "\n",
      "        \"\"\"\n",
      "        # The lines below is an implementation of equations (24) and (26) in the paper\n",
      "        #\n",
      "        # Berge et al. (2020): Finite volume discretization for poroelastic media with\n",
      "        #   fractures modeled by contact mechanics (IJNME, DOI: 10.1002/nme.6238). The\n",
      "        #\n",
      "        # Note that:\n",
      "        #  - We do not directly implement the matrix elements of the contact traction\n",
      "        #    as are derived by Berge in their equations (28)-(32). Instead, we directly\n",
      "        #    implement the complimentarity function, and let the AD framework take care\n",
      "        #    of the derivatives.\n",
      "        #  - Related to the previous point, we do not implement the regularization that\n",
      "        #    is discussed in Section 3.2.1 of the paper.\n",
      "\n",
      "        # Variables\n",
      "        nd_vec_to_normal = self.normal_component(subdomains)\n",
      "        # The normal component of the contact traction and the displacement jump\n",
      "        t_n: pp.ad.Operator = nd_vec_to_normal @ self.contact_traction(subdomains)\n",
      "        u_n: pp.ad.Operator = nd_vec_to_normal @ self.displacement_jump(subdomains)\n",
      "\n",
      "        # Maximum function\n",
      "        num_cells: int = sum([sd.num_cells for sd in subdomains])\n",
      "        max_function = pp.ad.Function(pp.ad.maximum, \"max_function\")\n",
      "        zeros_frac = pp.ad.DenseArray(np.zeros(num_cells), \"zeros_frac\")\n",
      "\n",
      "        # The complimentarity condition\n",
      "        equation: pp.ad.Operator = t_n + max_function(\n",
      "            pp.ad.Scalar(-1) * t_n\n",
      "            # EK: I will take care of typing of this term when we have a better name for\n",
      "            # the method.\n",
      "            - self.contact_mechanics_numerical_constant(subdomains)\n",
      "            * (u_n - self.gap(subdomains)),\n",
      "            zeros_frac,\n",
      "        )\n",
      "        equation.set_name(\"normal_fracture_deformation_equation\")\n",
      "        return equation\n",
      "\n"
     ]
    }
   ],
   "source": [
    "print(inspect.getsource(model.normal_fracture_deformation_equation))"
   ]
  },
  {
   "attachments": {},
   "cell_type": "markdown",
   "id": "edb2ac14",
   "metadata": {},
   "source": [
    "## Non-smooth functions using pp.ad.Function\n",
    "Handling non-smoothness in the AD setting requires the definition of extended derivatives by assigning appropriate values to the Jacobi matrices for the non-smooth function components ($\\text{max}$ and $\\text{abs}$) at the points in question. While this may seem somewhat technical, it is a modest price to pay for handling these equations otherwise straightforwardly using AD. We define standard Python functions and wrap them in `pp.ad.Function` returning `pp.ad.AdArray`s having a val and a jac attribute. For instance, the maximum value function is defined and used as follows:"
   ]
  },
  {
   "cell_type": "code",
   "execution_count": 3,
   "id": "f87efb7a",
   "metadata": {},
   "outputs": [
    {
     "name": "stdout",
     "output_type": "stream",
     "text": [
      "def maximum(var_0: pp.ad.AdArray, var_1: pp.ad.AdArray | np.ndarray) -> pp.ad.AdArray:\n",
      "    \"\"\"Ad maximum function represented as an AdArray.\n",
      "\n",
      "    The arguments can be either AdArrays or ndarrays, this duality is needed to allow\n",
      "    for parsing of operators that can be taken at the current iteration (in which case\n",
      "    it will parse as an AdArray) or at the previous iteration or time step (in which\n",
      "    case it will parse as a numpy array).\n",
      "\n",
      "\n",
      "    Parameters:\n",
      "        var_0: First argument to the maximum function.\n",
      "        var_1: Second argument.\n",
      "\n",
      "        If one of the input arguments is scalar, broadcasting will be used.\n",
      "\n",
      "\n",
      "    Returns:\n",
      "        The maximum of the two arguments, taken element-wise in the arrays. The return\n",
      "        type is AdArray if at least one of the arguments is an AdArray, otherwise it\n",
      "        is an ndarray. If an AdArray is returned, the Jacobian is computed according to\n",
      "        the maximum values of the AdArrays (so if element ``i`` of the maximum is\n",
      "        picked from ``var_0``, row ``i`` of the Jacobian is also picked from the\n",
      "        Jacobian of ``var_0``). If ``var_0`` is a ndarray, its Jacobian is set to zero.\n",
      "\n",
      "    \"\"\"\n",
      "    # If neither var_0 or var_1 are AdArrays, return the numpy maximum function.\n",
      "    if not isinstance(var_0, AdArray) and not isinstance(var_1, AdArray):\n",
      "        # FIXME: According to the type hints, this should not be possible.\n",
      "        return np.maximum(var_0, var_1)\n",
      "\n",
      "    # Make a fall-back zero Jacobian for constant arguments.\n",
      "    # EK: It is not clear if this is relevant, or if we filter out these cases with the\n",
      "    # above parsing of numpy arrays. Keep it for now, but we should revisit once we\n",
      "    # know clearer how the Ad-machinery should be used.\n",
      "    zero_jac = 0\n",
      "    if isinstance(var_0, AdArray):\n",
      "        zero_jac = sps.csr_matrix(var_0.jac.shape)\n",
      "    elif isinstance(var_1, AdArray):\n",
      "        zero_jac = sps.csr_matrix(var_1.jac.shape)\n",
      "\n",
      "    # Collect values and Jacobians.\n",
      "    vals = []\n",
      "    jacs = []\n",
      "    for var in [var_0, var_1]:\n",
      "        if isinstance(var, AdArray):\n",
      "            v = var.val\n",
      "            j = var.jac\n",
      "        else:\n",
      "            v = var\n",
      "            j = zero_jac\n",
      "        vals.append(v)\n",
      "        jacs.append(j)\n",
      "\n",
      "    # If both are scalar, return same. If one is scalar, broadcast explicitly\n",
      "    if isinstance(vals[0], (float, int)):\n",
      "        if isinstance(vals[1], (float, int)):\n",
      "            # Both var_0 and var_1 are scalars. Treat vals as a numpy array to return\n",
      "            # the maximum. The Jacobian of a scalar is 0.\n",
      "            val = np.max(vals)\n",
      "            return pp.ad.AdArray(val, 0)\n",
      "        else:\n",
      "            # var_0 is a scalar, but var_1 is not. Broadcast to shape of var_1.\n",
      "            vals[0] = np.ones_like(vals[1]) * vals[0]\n",
      "    if isinstance(vals[1], (float, int)):\n",
      "        # var_1 is a scalar, but var_0 is not (or else we would have hit the return\n",
      "        # statement in the above double-if). Broadcast var_1 to shape of var_0.\n",
      "        vals[1] = np.ones_like(vals[0]) * vals[1]\n",
      "\n",
      "    # By now, we know that both vals are numpy arrays. Try to convince mypy that this is\n",
      "    # the case.\n",
      "    assert isinstance(vals[0], np.ndarray) and isinstance(vals[1], np.ndarray)\n",
      "    # Maximum of the two arrays\n",
      "    inds = (vals[1] >= vals[0]).nonzero()[0]\n",
      "\n",
      "    max_val = vals[0].copy()\n",
      "    max_val[inds] = vals[1][inds]\n",
      "    # If both arrays are constant, a 0 matrix has been assigned to jacs.\n",
      "    # Return here to avoid calling copy on a number (immutable, no copy method) below.\n",
      "    if isinstance(jacs[0], (float, int)):\n",
      "        assert np.isclose(jacs[0], 0)\n",
      "        assert np.isclose(jacs[1], 0)\n",
      "        return pp.ad.AdArray(max_val, 0)\n",
      "\n",
      "    # Start from var_0, then change entries corresponding to inds.\n",
      "    max_jac = jacs[0].copy()\n",
      "\n",
      "    if isinstance(max_jac, sps.spmatrix):\n",
      "        # Enforce csr format, unless the matrix is csc, in which case we keep it.\n",
      "        if not max_jac.getformat() == \"csc\":\n",
      "            max_jac = max_jac.tocsr()\n",
      "        lines = pp.matrix_operations.slice_mat(jacs[1].tocsr(), inds)\n",
      "        pp.matrix_operations.merge_matrices(max_jac, lines, inds, max_jac.getformat())\n",
      "    else:\n",
      "        max_jac[inds] = jacs[1][inds]\n",
      "\n",
      "    return pp.ad.AdArray(max_val, max_jac)\n",
      "\n"
     ]
    }
   ],
   "source": [
    "print(inspect.getsource(pp.ad.functions.maximum)) "
   ]
  },
  {
   "attachments": {},
   "cell_type": "markdown",
   "id": "0d9e56b7",
   "metadata": {},
   "source": [
    "## Technical notes on Function wrapping\n",
    "### Argument types\n",
    "The wrapping of a function in the pp.ad.Function class may be slightly confusing in that the function (e.g. `pp.ad.functions.max`) takes an `AdArray` as its argument, whereas the Function instance (e.g. `MaxAd` above) expects an `Operator`, which represents an ad variable or compound expression. The explanation lies in how the Function is *parsed* (\"evaluated\"), which involves the `MaxAd` asking its `_function` to operate on the values and jacobians of `var0` and `var1`, which are represented through an `AdArray`. Puh!\n",
    "\n",
    "### Chain rule\n",
    "An ad `Funtion` is parsed as follows by `pp.ad.Operator._parse_operator`:\n",
    "```\n",
    "elif tree.op == Operation.evaluate:\n",
    "    # This is a function, which should have at least one argument\n",
    "    assert len(results) > 1\n",
    "    return results[0].func(*results[1:])\n",
    "```\n",
    "That is, it calls the wrapped function on the ad array produced by parsing of the function argument(s). This means that the chain rule should be applied internally in the function. For a generic funtion `f` of a single variable `var` with derivative `f_prime` with respect to `var`, we have\n",
    "```\n",
    "def function_to_be_wrapped(var: pp.ad.AdArray) -> pp.ad.AdArray:\n",
    "    var = f(var)\n",
    "    df_dvar = f_prime(var)\n",
    "    # Chain rule:\n",
    "    jac = var.diagvec_mul_jac(df_dvar)\n",
    "    return  pp.ad.AdArray(var, jac)\n",
    "```"
   ]
  },
  {
   "cell_type": "markdown",
   "id": "c4b16d5c",
   "metadata": {},
   "source": [
    "### Partial functions\n",
    "Some functions depend on arguments which do not have anything to do with ad. Instead of having to wrap such arguments in AD objects to be evaluated as part of parsing of the Function, one can exploit partial evaluation. For instance, the `pp.ad.functions.l2_norm` function for cell-wise vectors has been implemented for an arbitrary number of vector components. It is applied in the definition of the gap, which depends on the norm of tangential displacement jumps. The number of tangential components equals the dimension of the fracture, i.e. $nd - 1$:"
   ]
  },
  {
   "cell_type": "code",
   "execution_count": 4,
   "id": "183e23c5",
   "metadata": {},
   "outputs": [
    {
     "name": "stdout",
     "output_type": "stream",
     "text": [
      "    def gap(self, subdomains: list[pp.Grid]) -> pp.ad.Operator:\n",
      "        \"\"\"Fracture gap [m].\n",
      "\n",
      "        Parameters:\n",
      "            subdomains: List of subdomains where the gap is defined.\n",
      "\n",
      "        Returns:\n",
      "            Cell-wise fracture gap operator.\n",
      "\n",
      "        \"\"\"\n",
      "        angle: pp.ad.Operator = self.dilation_angle(subdomains)\n",
      "        f_norm = pp.ad.Function(\n",
      "            partial(pp.ad.functions.l2_norm, self.nd - 1), \"norm_function\"\n",
      "        )\n",
      "        f_tan = pp.ad.Function(pp.ad.functions.tan, \"tan_function\")\n",
      "        shear_dilation: pp.ad.Operator = f_tan(angle) * f_norm(\n",
      "            self.tangential_component(subdomains) @ self.displacement_jump(subdomains)\n",
      "        )\n",
      "\n",
      "        gap = self.reference_gap(subdomains) + shear_dilation\n",
      "        gap.set_name(\"gap_with_shear_dilation\")\n",
      "        return gap\n",
      "\n"
     ]
    }
   ],
   "source": [
    "print(inspect.getsource(model.gap))"
   ]
  },
  {
   "cell_type": "markdown",
   "id": "4d398773",
   "metadata": {},
   "source": [
    "# What have we explored\n",
    "We have seen how the Ad framework can be used to specify non-linear functions, including ones that are sub-differentiable but not fully differentiable (e.g., the maximum function), and reviewed this in the context of contact mechancis. The model classes implement the functions and constitutive relations most relevant for standard applications of PorePy. New Ad functions can easily be implemented by wrapping standard python functions using `pp.ad.Function`."
   ]
  }
 ],
 "metadata": {
  "kernelspec": {
   "display_name": "condapp",
   "language": "python",
   "name": "python3"
  },
  "language_info": {
   "codemirror_mode": {
    "name": "ipython",
    "version": 3
   },
   "file_extension": ".py",
   "mimetype": "text/x-python",
   "name": "python",
   "nbconvert_exporter": "python",
   "pygments_lexer": "ipython3",
   "version": "3.10.8"
  },
  "vscode": {
   "interpreter": {
    "hash": "ffc5b0a7f9c7db892dae2ef51b4b23072576b4ba6e83a9602165851401d5c9eb"
   }
  }
 },
 "nbformat": 4,
 "nbformat_minor": 5
}
