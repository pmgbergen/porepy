{
 "cells": [
  {
   "attachments": {},
   "cell_type": "markdown",
   "metadata": {
    "collapsed": false,
    "jupyter": {
     "outputs_hidden": false
    }
   },
   "source": [
    "## Introduction\n",
    "This tutorial shows how to set up and run Mandel's consolidation problem based\n",
    "on the Biot equations of poroelasticity.\n",
    "\n",
    "Other [examples](https://github.com/pmgbergen/porepy/tree/develop/examples) can be run in a similar fashion."
   ]
  },
  {
   "cell_type": "markdown",
   "metadata": {
    "collapsed": false,
    "jupyter": {
     "outputs_hidden": false
    }
   },
   "source": [
    "## Mandel's problem\n",
    "\n",
    "Unlike the general poromechanical model provided in PorePy that considers a compressible\n",
    "fluid, Mandel's problem follows the Biot equations, which is based on the assumption\n",
    "of slight fluid compressibility.\n",
    "\n",
    "The mixer class for this verification is therefore based on the derived model class\n",
    "`BiotPoromechanics` (see `porepy.models.derived_models.biot`), a subclass of\n",
    "the full poromechanical model `Poromechanics` (see `porepy.models.poromechanics`).\n",
    "\n",
    "Let us first import the mixer class `MandelSetup`:"
   ]
  },
  {
   "cell_type": "code",
   "execution_count": 1,
   "metadata": {
    "collapsed": false,
    "jupyter": {
     "outputs_hidden": false
    }
   },
   "outputs": [],
   "source": [
    "import porepy as pp\n",
    "\n",
    "from porepy.examples.mandel_biot import MandelSetup"
   ]
  },
  {
   "cell_type": "markdown",
   "metadata": {
    "collapsed": false,
    "jupyter": {
     "outputs_hidden": false
    }
   },
   "source": [
    "Now, it is simply a matter of setting up the model parameters. In this example, we\n",
    "will use real physical parameters. For the user's convenience, the `mandel_biot.py`\n",
    "module contains suggested physical constants for the fluid and the solid (the same\n",
    "physical parameters employed in [3]).\n",
    "\n",
    "Let's import them:"
   ]
  },
  {
   "cell_type": "code",
   "execution_count": 2,
   "metadata": {
    "collapsed": false,
    "jupyter": {
     "outputs_hidden": false
    }
   },
   "outputs": [],
   "source": [
    "from porepy.examples.mandel_biot import mandel_fluid_constants, mandel_solid_constants"
   ]
  },
  {
   "cell_type": "markdown",
   "metadata": {
    "collapsed": false,
    "jupyter": {
     "outputs_hidden": false
    }
   },
   "source": [
    "and set the model parameters:"
   ]
  },
  {
   "cell_type": "code",
   "execution_count": 3,
   "metadata": {
    "collapsed": false,
    "jupyter": {
     "outputs_hidden": false
    }
   },
   "outputs": [],
   "source": [
    "# Set material constants\n",
    "material_constants = {\n",
    "    \"solid\": pp.SolidConstants(mandel_solid_constants),\n",
    "    \"fluid\": pp.FluidConstants(mandel_fluid_constants),\n",
    "}\n",
    "\n",
    "# Set scaling\n",
    "scaling = {\"m\": 1e-3}\n",
    "units = pp.Units(**scaling)\n",
    "\n",
    "# Create time manager\n",
    "time_manager = pp.TimeManager(\n",
    "    schedule=[0, 1e2, 1e3, 5e3, 1e4],  # [s]\n",
    "    dt_init=100,  # [s]\n",
    "    constant_dt=True,  # [s]\n",
    ")\n",
    "\n",
    "# Set mesh size (only mesh_size_bound is used).\n",
    "ls = 1 / units.m  # length scaling\n",
    "mesh_arguments = {\"cell_size\": 50.0 * ls}\n",
    "\n",
    "# Create model params\n",
    "model_params = {\n",
    "    \"material_constants\": material_constants,\n",
    "    \"meshing_arguments\": mesh_arguments,\n",
    "    \"time_manager\": time_manager,\n",
    "    \"plot_results\": True,\n",
    "    \"units\": units,\n",
    "}\n"
   ]
  },
  {
   "cell_type": "markdown",
   "metadata": {
    "collapsed": false,
    "jupyter": {
     "outputs_hidden": false
    }
   },
   "source": [
    "Note that we introduced a length scaling via the `pp.Units` class, where we specify a\n",
    "factor of `1e-3`, thus effectively measuring length in _millimeters_. Defining a\n",
    "properly scaled problem can have positive consequences for the conditioning of the\n",
    "linear system. Note that other base magnitudes can also be scaled analogously.\n",
    "\n",
    "Finally, let's run the verification setup:"
   ]
  },
  {
   "cell_type": "code",
   "execution_count": 4,
   "metadata": {
    "collapsed": false,
    "jupyter": {
     "outputs_hidden": false
    }
   },
   "outputs": [
    {
     "ename": "NameError",
     "evalue": "name 'solver_params' is not defined",
     "output_type": "error",
     "traceback": [
      "\u001b[0;31m---------------------------------------------------------------------------\u001b[0m",
      "\u001b[0;31mNameError\u001b[0m                                 Traceback (most recent call last)",
      "Cell \u001b[0;32mIn[4], line 2\u001b[0m\n\u001b[1;32m      1\u001b[0m setup \u001b[38;5;241m=\u001b[39m MandelSetup(params\u001b[38;5;241m=\u001b[39mmodel_params)\n\u001b[0;32m----> 2\u001b[0m pp\u001b[38;5;241m.\u001b[39mrun_time_dependent_model(model\u001b[38;5;241m=\u001b[39msetup, params\u001b[38;5;241m=\u001b[39m\u001b[43msolver_params\u001b[49m)\n",
      "\u001b[0;31mNameError\u001b[0m: name 'solver_params' is not defined"
     ]
    }
   ],
   "source": [
    "setup = MandelSetup(params=model_params)\n",
    "pp.run_time_dependent_model(model=setup)"
   ]
  },
  {
   "cell_type": "markdown",
   "metadata": {},
   "source": [
    "In the plots from above, the solid lines represent the exact solutions and the dots\n",
    "the numerical approximations obtained with MPSA/MPFA-FV. Each line corresponds to a\n",
    "scheduled time, with $\\tau$ denoting the dimensionless time.\n",
    "\n",
    "The last plot shows the degree of consolidation (a dimensionless quantity measuring\n",
    "the state of consolidation of the soil) as a function of time."
   ]
  },
  {
   "cell_type": "markdown",
   "metadata": {
    "collapsed": false,
    "jupyter": {
     "outputs_hidden": false
    }
   },
   "source": [
    "## References\n",
    "\n",
    "[1] Varela, J., Gasda, S. E., Keilegavlen, E., & Nordbotten, J. M. (2021). A\n",
    "Finite-Volume-Based Module for Unsaturated Poroelasticity. Advanced Modeling with the\n",
    "MATLAB Reservoir Simulation Toolbox.\n",
    "\n",
    "[2] Nordbotten, J. M. (2016). Stable cell-centered finite volume discretization for Biot\n",
    "equations. SIAM Journal on Numerical Analysis, 54(2), 942-968.\n",
    "\n",
    "[3] Keilegavlen, E., Berge, R., Fumagalli, A., Starnoni, M., Stefansson, I., Varela, J.,\n",
    "& Berre, I. (2021). Porepy: An open-source software for simulation of multiphysics\n",
    "processes in fractured porous media. Computational Geosciences, 25, 243-265."
   ]
  },
  {
   "attachments": {},
   "cell_type": "markdown",
   "metadata": {
    "collapsed": false,
    "jupyter": {
     "outputs_hidden": false
    }
   },
   "source": [
    "## What we have explored\n",
    "\n",
    "We have shown how to set up and run an instance of ``MandelSetup`` to simulate Mandel's consolidation problem of poroelasticity."
   ]
  },
  {
   "cell_type": "markdown",
   "metadata": {},
   "source": []
  }
 ],
 "metadata": {
  "kernelspec": {
   "display_name": "Python 3 (ipykernel)",
   "language": "python",
   "name": "python3"
  },
  "language_info": {
   "codemirror_mode": {
    "name": "ipython",
    "version": 3
   },
   "file_extension": ".py",
   "mimetype": "text/x-python",
   "name": "python",
   "nbconvert_exporter": "python",
   "pygments_lexer": "ipython3",
   "version": "3.12.5"
  }
 },
 "nbformat": 4,
 "nbformat_minor": 4
}
