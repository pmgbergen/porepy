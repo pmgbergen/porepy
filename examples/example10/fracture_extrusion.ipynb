{
 "cells": [
  {
   "cell_type": "markdown",
   "metadata": {},
   "source": [
    "# Fracture extrusion\n",
    "\n",
    "This tutorial shows how to create a 3D fracture network from a 2D outcrop. The idea is to provide a more complete documentation, an example, and highlight assumptions and simplifications in the module."
   ]
  },
  {
   "cell_type": "markdown",
   "metadata": {},
   "source": [
    "## What can this module do?\n",
    "1. Create a 3D fracture network that is consistent with a flat 2D outcrop, in the sense that if the 3D network is cut at the outcrop height, the 2D network should be reproduced.\n",
    "2. Produce circular fracture planes, potentially cut, with a prescribed or random dip angle.\n",
    "3. Preserve Y/T-intersections, in the sense that if one fracture ends in another in the outcrop, this relation will be kept in the extruded network. However, fractures that meet outside the outcrop plane will not be cut in this way.\n",
    "\n",
    "\n",
    "## What is missing \n",
    "1. A geological foundation for the way the extrusion is carried out. What is here so far is an attempt to apply common sense, but nothing more.\n",
    "2. Population of fractures that do not intersect with the outcrop plane. These will have to be assigned e.g. by stochatsic rules, but this is beyond the scope of PorePy.\n",
    "3. Extrusion to other than circular shapes.\n",
    "4. ...\n",
    "\n",
    "### Will any of the missing pieces be implemented shortly?\n",
    "There are no concrete plans for this.\n",
    "\n",
    "## What is the intended use for the model?\n",
    "Simulations in quasi-realistic (somewhat generously interpreted) geometries. Typically, a verification that developed numerical schemes etc. can handle first test towards real geometries.\n"
   ]
  },
  {
   "cell_type": "markdown",
   "metadata": {},
   "source": [
    "# How to use\n",
    "\n",
    "First, import statements"
   ]
  },
  {
   "cell_type": "code",
   "execution_count": 2,
   "metadata": {
    "collapsed": true
   },
   "outputs": [],
   "source": [
    "import numpy as np\n",
    "import porepy as pp"
   ]
  },
  {
   "cell_type": "markdown",
   "metadata": {},
   "source": [
    "The starting point for the extrusion is an outcrop, described by endpoints and connection between points.\n",
    "\n",
    "Note that fractures should *not* be split into branches before applying extrusion. The reasons are \n",
    "1. The extrusion is carried out by drawing circles through the endpoints of the fractures (the outcrop trace is a chord). Lines through branches will create all sort of problems.\n",
    "2. Abutting relations (T-intersections) are identified by comparing original and split (by the extrusion algorithm) traces."
   ]
  },
  {
   "cell_type": "code",
   "execution_count": 3,
   "metadata": {},
   "outputs": [
    {
     "data": {
      "image/png": "[encoded data removed]",
      "text/plain": [
       "<matplotlib.figure.Figure at 0x7f8f604bd9e8>"
      ]
     },
     "metadata": {},
     "output_type": "display_data"
    }
   ],
   "source": [
    "# Define points and connections\n",
    "pt = np.array([[0, 0], [2, 0], [1, 0], [1, 3], [0, 1], [2, 1], [3, 0], [3, 1]]).T\n",
    "edges = np.array([[0, 1], [2, 3], [4, 5], [6, 7]]).T\n",
    "\n",
    "# Temporary min-max coordinates, only valid for 2d domain\n",
    "domain = {'xmin': -1, 'xmax': 4, 'ymin':-1, 'ymax': 4}\n",
    "pp.plot_fractures(domain, pt, edges)"
   ]
  },
  {
   "cell_type": "markdown",
   "metadata": {},
   "source": [
    "The edges are defined so that fractures 0 and 1 define a Y-intersection, 1 and 2 an X-intersection, while no 3 is isolated.\n",
    "\n",
    "Next, we extrude the fractures, collect them in a FractureNetwork, and export to Paraview."
   ]
  },
  {
   "cell_type": "code",
   "execution_count": 11,
   "metadata": {
    "collapsed": true
   },
   "outputs": [],
   "source": [
    "fractures = pp.extrusion.fractures_from_outcrop(pt, edges)\n",
    "network = pp.FractureNetwork(fractures)\n",
    "network.to_vtk('extrusion_1.vtu')"
   ]
  },
  {
   "cell_type": "markdown",
   "metadata": {},
   "source": [
    "The resulting network looks as follows\n",
    "\n",
    "<img src=\"fig/extrusion_1.png\" alt=\"Drawing\" style=\"width: 400px;\"/>\n",
    "\n",
    "\n",
    "Observations:\n",
    "1. The Y-intersection between 0 and 1 is preserved in the 3d version of the network, while fractures 1 and 2 cuts through each other.\n",
    "2. Although fracture 3 was isolated in the outcrop, it cuts fracture 0 somewhere underneath.\n",
    "\n",
    "Also note that, as the height of the fracture center was decided randomly by the extrusion, the network will look different from one realization to the next.\n"
   ]
  },
  {
   "cell_type": "markdown",
   "metadata": {},
   "source": [
    "# Assumptions\n",
    "1. All extruded fractures will be circles, for lack of more information.\n",
    "2. The fractures are assumed to be cut at an arbitrary height relative to their center. In the extrusion, the z-coordinate of the center, thus the radius of the fracturce, is drawn as random numbers. The behavior can be overruled by the parameter 'extrusion_angle', which should be between 0 and $\\pi$. Note that the limiting cases define infinite fractures, while $\\pi/2$ will give a point contact in the outcrop plane, none of which are physical.\n",
    "3. Depending on the fracture radius, the above procedure may yield a T-intersection where the terminated fracture extends beyond the constraining fracture. To avoid this, the size of the constraining fracture will be increased, that is, the z-coordinate of the center is modified. This behavior can be overruled by setting the optional parameter 'ensure_realistic_cuts' to False.\n"
   ]
  },
  {
   "cell_type": "markdown",
   "metadata": {},
   "source": [
    "# T-intersections and tolerances\n",
    "Whether two lines are found to intersect in a T, X, or not at all depends on the tolerance used in geometric calculations. While this applies to most geometry computations in PorePy, there is a particular issue that may arise when working with outcrop data: When fractures are collected into a database, points in T-intersections are routinely snapped to the abutting fracture. In the decision to snap, a tolerance is applied, at least implicitly.\n",
    "\n",
    "When the extrusion model is invoked, it will identify T-intersections based on a user defined tolerance that may not be the same as in the snapping process. Moreover, it is not clear that the two tolerances mean the same. We have experienced some issues with what from the user side was considered T-intersections was treated as X-intersections by the extrusion module because of this.\n",
    "\n",
    "To deal with this:\n",
    "1. Inspect the extruded fracture network, and see if you find the expected T-intersections.\n",
    "2. If necessary, redo the snapping with a tolerance sufficient to make extrusion behave well. The function snap_points_to_segments in the comp_geom model can be used for this.\n",
    "\n",
    "It should also be quite easy to rewrite the extrusion model to accept a pre-computed topology, however, this has not been prioritized."
   ]
  },
  {
   "cell_type": "markdown",
   "metadata": {},
   "source": [
    "# More advanced features\n",
    "In addition to the basic features described above, the extrusion module has some more advanced features that goes further towards creating more realistic networks. These are however also less tested. It is not clear whether the approach will ever create something resembling geological realism. Anyhow, the features are:\n",
    "1. Assign inclines to angles, so that they are not all vertical.\n",
    "2. Use family-based parameters, so that fractures that are grouped together (say, were created under the same geological regime) are assigned similar parameters, but different from other families."
   ]
  }
 ],
 "metadata": {
  "kernelspec": {
   "display_name": "Python 3",
   "language": "python",
   "name": "python3"
  },
  "language_info": {
   "codemirror_mode": {
    "name": "ipython",
    "version": 3
   },
   "file_extension": ".py",
   "mimetype": "text/x-python",
   "name": "python",
   "nbconvert_exporter": "python",
   "pygments_lexer": "ipython3",
   "version": "3.6.4"
  }
 },
 "nbformat": 4,
 "nbformat_minor": 2
}
